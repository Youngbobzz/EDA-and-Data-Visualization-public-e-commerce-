{
  "cells": [
    {
      "cell_type": "markdown",
      "metadata": {
        "id": "cP5zh7Ww85Fm"
      },
      "source": [
        "# Proyek Analisis Data: E-Commerce Public Dataset\n",
        "- Nama: Nafi Kareem\n",
        "- Email: nafi.kareem@gmail.com\n",
        "- Id Dicoding: nafikareem4903"
      ]
    },
    {
      "cell_type": "markdown",
      "metadata": {
        "id": "ggwOFmpI88dG"
      },
      "source": [
        "## Menentukan Pertanyaan Bisnis"
      ]
    },
    {
      "cell_type": "markdown",
      "metadata": {
        "id": "6irqmTtg8-IC"
      },
      "source": [
        "- Kategori Produk Apa yang Paling Banyak dan Paling Sedikit Terjual?\n",
        "- Bagaimana Pola Penyebaran Customer?"
      ]
    },
    {
      "cell_type": "markdown",
      "metadata": {
        "id": "EueHsNk89AsY"
      },
      "source": [
        "## Menyiapkan semua library yang dibutuhkan"
      ]
    },
    {
      "cell_type": "code",
      "execution_count": 2,
      "metadata": {
        "id": "4cmWv4qc8xWu"
      },
      "outputs": [],
      "source": [
        "import pandas as pd\n",
        "import numpy as np\n",
        "import matplotlib.pyplot as plt\n",
        "import seaborn as sns"
      ]
    },
    {
      "cell_type": "markdown",
      "metadata": {
        "id": "7DwSpkkZ9BqV"
      },
      "source": [
        "## Data Wrangling"
      ]
    },
    {
      "cell_type": "markdown",
      "metadata": {
        "id": "ZuJuLGxe9D9O"
      },
      "source": [
        "### Gathering Data"
      ]
    },
    {
      "cell_type": "markdown",
      "metadata": {},
      "source": [
        "#### memuat tabel cutomers_dataset.csv"
      ]
    },
    {
      "cell_type": "code",
      "execution_count": 2,
      "metadata": {
        "id": "Rg3wtvOr9DUm"
      },
      "outputs": [
        {
          "data": {
            "text/html": [
              "<div>\n",
              "<style scoped>\n",
              "    .dataframe tbody tr th:only-of-type {\n",
              "        vertical-align: middle;\n",
              "    }\n",
              "\n",
              "    .dataframe tbody tr th {\n",
              "        vertical-align: top;\n",
              "    }\n",
              "\n",
              "    .dataframe thead th {\n",
              "        text-align: right;\n",
              "    }\n",
              "</style>\n",
              "<table border=\"1\" class=\"dataframe\">\n",
              "  <thead>\n",
              "    <tr style=\"text-align: right;\">\n",
              "      <th></th>\n",
              "      <th>customer_id</th>\n",
              "      <th>customer_unique_id</th>\n",
              "      <th>customer_zip_code_prefix</th>\n",
              "      <th>customer_city</th>\n",
              "      <th>customer_state</th>\n",
              "    </tr>\n",
              "  </thead>\n",
              "  <tbody>\n",
              "    <tr>\n",
              "      <th>0</th>\n",
              "      <td>06b8999e2fba1a1fbc88172c00ba8bc7</td>\n",
              "      <td>861eff4711a542e4b93843c6dd7febb0</td>\n",
              "      <td>14409</td>\n",
              "      <td>franca</td>\n",
              "      <td>SP</td>\n",
              "    </tr>\n",
              "    <tr>\n",
              "      <th>1</th>\n",
              "      <td>18955e83d337fd6b2def6b18a428ac77</td>\n",
              "      <td>290c77bc529b7ac935b93aa66c333dc3</td>\n",
              "      <td>9790</td>\n",
              "      <td>sao bernardo do campo</td>\n",
              "      <td>SP</td>\n",
              "    </tr>\n",
              "    <tr>\n",
              "      <th>2</th>\n",
              "      <td>4e7b3e00288586ebd08712fdd0374a03</td>\n",
              "      <td>060e732b5b29e8181a18229c7b0b2b5e</td>\n",
              "      <td>1151</td>\n",
              "      <td>sao paulo</td>\n",
              "      <td>SP</td>\n",
              "    </tr>\n",
              "    <tr>\n",
              "      <th>3</th>\n",
              "      <td>b2b6027bc5c5109e529d4dc6358b12c3</td>\n",
              "      <td>259dac757896d24d7702b9acbbff3f3c</td>\n",
              "      <td>8775</td>\n",
              "      <td>mogi das cruzes</td>\n",
              "      <td>SP</td>\n",
              "    </tr>\n",
              "    <tr>\n",
              "      <th>4</th>\n",
              "      <td>4f2d8ab171c80ec8364f7c12e35b23ad</td>\n",
              "      <td>345ecd01c38d18a9036ed96c73b8d066</td>\n",
              "      <td>13056</td>\n",
              "      <td>campinas</td>\n",
              "      <td>SP</td>\n",
              "    </tr>\n",
              "  </tbody>\n",
              "</table>\n",
              "</div>"
            ],
            "text/plain": [
              "                        customer_id                customer_unique_id  \\\n",
              "0  06b8999e2fba1a1fbc88172c00ba8bc7  861eff4711a542e4b93843c6dd7febb0   \n",
              "1  18955e83d337fd6b2def6b18a428ac77  290c77bc529b7ac935b93aa66c333dc3   \n",
              "2  4e7b3e00288586ebd08712fdd0374a03  060e732b5b29e8181a18229c7b0b2b5e   \n",
              "3  b2b6027bc5c5109e529d4dc6358b12c3  259dac757896d24d7702b9acbbff3f3c   \n",
              "4  4f2d8ab171c80ec8364f7c12e35b23ad  345ecd01c38d18a9036ed96c73b8d066   \n",
              "\n",
              "   customer_zip_code_prefix          customer_city customer_state  \n",
              "0                     14409                 franca             SP  \n",
              "1                      9790  sao bernardo do campo             SP  \n",
              "2                      1151              sao paulo             SP  \n",
              "3                      8775        mogi das cruzes             SP  \n",
              "4                     13056               campinas             SP  "
            ]
          },
          "execution_count": 2,
          "metadata": {},
          "output_type": "execute_result"
        }
      ],
      "source": [
        "customers_df=pd.read_csv('C:/Users/Nafi Kareem/OneDrive/Dokumen/Data MIning/Course College/submission/E-Commerce Public Dataset/customers_dataset.csv')\n",
        "customers_df.head()"
      ]
    },
    {
      "cell_type": "markdown",
      "metadata": {},
      "source": [
        "#### memuat tabel geolocation_dataset.csv"
      ]
    },
    {
      "cell_type": "code",
      "execution_count": 3,
      "metadata": {},
      "outputs": [
        {
          "data": {
            "text/html": [
              "<div>\n",
              "<style scoped>\n",
              "    .dataframe tbody tr th:only-of-type {\n",
              "        vertical-align: middle;\n",
              "    }\n",
              "\n",
              "    .dataframe tbody tr th {\n",
              "        vertical-align: top;\n",
              "    }\n",
              "\n",
              "    .dataframe thead th {\n",
              "        text-align: right;\n",
              "    }\n",
              "</style>\n",
              "<table border=\"1\" class=\"dataframe\">\n",
              "  <thead>\n",
              "    <tr style=\"text-align: right;\">\n",
              "      <th></th>\n",
              "      <th>geolocation_zip_code_prefix</th>\n",
              "      <th>geolocation_lat</th>\n",
              "      <th>geolocation_lng</th>\n",
              "      <th>geolocation_city</th>\n",
              "      <th>geolocation_state</th>\n",
              "    </tr>\n",
              "  </thead>\n",
              "  <tbody>\n",
              "    <tr>\n",
              "      <th>0</th>\n",
              "      <td>1037</td>\n",
              "      <td>-23.545621</td>\n",
              "      <td>-46.639292</td>\n",
              "      <td>sao paulo</td>\n",
              "      <td>SP</td>\n",
              "    </tr>\n",
              "    <tr>\n",
              "      <th>1</th>\n",
              "      <td>1046</td>\n",
              "      <td>-23.546081</td>\n",
              "      <td>-46.644820</td>\n",
              "      <td>sao paulo</td>\n",
              "      <td>SP</td>\n",
              "    </tr>\n",
              "    <tr>\n",
              "      <th>2</th>\n",
              "      <td>1046</td>\n",
              "      <td>-23.546129</td>\n",
              "      <td>-46.642951</td>\n",
              "      <td>sao paulo</td>\n",
              "      <td>SP</td>\n",
              "    </tr>\n",
              "    <tr>\n",
              "      <th>3</th>\n",
              "      <td>1041</td>\n",
              "      <td>-23.544392</td>\n",
              "      <td>-46.639499</td>\n",
              "      <td>sao paulo</td>\n",
              "      <td>SP</td>\n",
              "    </tr>\n",
              "    <tr>\n",
              "      <th>4</th>\n",
              "      <td>1035</td>\n",
              "      <td>-23.541578</td>\n",
              "      <td>-46.641607</td>\n",
              "      <td>sao paulo</td>\n",
              "      <td>SP</td>\n",
              "    </tr>\n",
              "  </tbody>\n",
              "</table>\n",
              "</div>"
            ],
            "text/plain": [
              "   geolocation_zip_code_prefix  geolocation_lat  geolocation_lng  \\\n",
              "0                         1037       -23.545621       -46.639292   \n",
              "1                         1046       -23.546081       -46.644820   \n",
              "2                         1046       -23.546129       -46.642951   \n",
              "3                         1041       -23.544392       -46.639499   \n",
              "4                         1035       -23.541578       -46.641607   \n",
              "\n",
              "  geolocation_city geolocation_state  \n",
              "0        sao paulo                SP  \n",
              "1        sao paulo                SP  \n",
              "2        sao paulo                SP  \n",
              "3        sao paulo                SP  \n",
              "4        sao paulo                SP  "
            ]
          },
          "execution_count": 3,
          "metadata": {},
          "output_type": "execute_result"
        }
      ],
      "source": [
        "geolocation_df=pd.read_csv('C:/Users/Nafi Kareem/OneDrive/Dokumen/Data MIning/Course College/submission/E-Commerce Public Dataset/geolocation_dataset.csv')\n",
        "geolocation_df.head()"
      ]
    },
    {
      "cell_type": "markdown",
      "metadata": {},
      "source": [
        "#### memuat tabel order_items_dataset.csv"
      ]
    },
    {
      "cell_type": "code",
      "execution_count": 4,
      "metadata": {},
      "outputs": [
        {
          "data": {
            "text/html": [
              "<div>\n",
              "<style scoped>\n",
              "    .dataframe tbody tr th:only-of-type {\n",
              "        vertical-align: middle;\n",
              "    }\n",
              "\n",
              "    .dataframe tbody tr th {\n",
              "        vertical-align: top;\n",
              "    }\n",
              "\n",
              "    .dataframe thead th {\n",
              "        text-align: right;\n",
              "    }\n",
              "</style>\n",
              "<table border=\"1\" class=\"dataframe\">\n",
              "  <thead>\n",
              "    <tr style=\"text-align: right;\">\n",
              "      <th></th>\n",
              "      <th>order_id</th>\n",
              "      <th>order_item_id</th>\n",
              "      <th>product_id</th>\n",
              "      <th>seller_id</th>\n",
              "      <th>shipping_limit_date</th>\n",
              "      <th>price</th>\n",
              "      <th>freight_value</th>\n",
              "    </tr>\n",
              "  </thead>\n",
              "  <tbody>\n",
              "    <tr>\n",
              "      <th>0</th>\n",
              "      <td>00010242fe8c5a6d1ba2dd792cb16214</td>\n",
              "      <td>1</td>\n",
              "      <td>4244733e06e7ecb4970a6e2683c13e61</td>\n",
              "      <td>48436dade18ac8b2bce089ec2a041202</td>\n",
              "      <td>2017-09-19 09:45:35</td>\n",
              "      <td>58.90</td>\n",
              "      <td>13.29</td>\n",
              "    </tr>\n",
              "    <tr>\n",
              "      <th>1</th>\n",
              "      <td>00018f77f2f0320c557190d7a144bdd3</td>\n",
              "      <td>1</td>\n",
              "      <td>e5f2d52b802189ee658865ca93d83a8f</td>\n",
              "      <td>dd7ddc04e1b6c2c614352b383efe2d36</td>\n",
              "      <td>2017-05-03 11:05:13</td>\n",
              "      <td>239.90</td>\n",
              "      <td>19.93</td>\n",
              "    </tr>\n",
              "    <tr>\n",
              "      <th>2</th>\n",
              "      <td>000229ec398224ef6ca0657da4fc703e</td>\n",
              "      <td>1</td>\n",
              "      <td>c777355d18b72b67abbeef9df44fd0fd</td>\n",
              "      <td>5b51032eddd242adc84c38acab88f23d</td>\n",
              "      <td>2018-01-18 14:48:30</td>\n",
              "      <td>199.00</td>\n",
              "      <td>17.87</td>\n",
              "    </tr>\n",
              "    <tr>\n",
              "      <th>3</th>\n",
              "      <td>00024acbcdf0a6daa1e931b038114c75</td>\n",
              "      <td>1</td>\n",
              "      <td>7634da152a4610f1595efa32f14722fc</td>\n",
              "      <td>9d7a1d34a5052409006425275ba1c2b4</td>\n",
              "      <td>2018-08-15 10:10:18</td>\n",
              "      <td>12.99</td>\n",
              "      <td>12.79</td>\n",
              "    </tr>\n",
              "    <tr>\n",
              "      <th>4</th>\n",
              "      <td>00042b26cf59d7ce69dfabb4e55b4fd9</td>\n",
              "      <td>1</td>\n",
              "      <td>ac6c3623068f30de03045865e4e10089</td>\n",
              "      <td>df560393f3a51e74553ab94004ba5c87</td>\n",
              "      <td>2017-02-13 13:57:51</td>\n",
              "      <td>199.90</td>\n",
              "      <td>18.14</td>\n",
              "    </tr>\n",
              "  </tbody>\n",
              "</table>\n",
              "</div>"
            ],
            "text/plain": [
              "                           order_id  order_item_id  \\\n",
              "0  00010242fe8c5a6d1ba2dd792cb16214              1   \n",
              "1  00018f77f2f0320c557190d7a144bdd3              1   \n",
              "2  000229ec398224ef6ca0657da4fc703e              1   \n",
              "3  00024acbcdf0a6daa1e931b038114c75              1   \n",
              "4  00042b26cf59d7ce69dfabb4e55b4fd9              1   \n",
              "\n",
              "                         product_id                         seller_id  \\\n",
              "0  4244733e06e7ecb4970a6e2683c13e61  48436dade18ac8b2bce089ec2a041202   \n",
              "1  e5f2d52b802189ee658865ca93d83a8f  dd7ddc04e1b6c2c614352b383efe2d36   \n",
              "2  c777355d18b72b67abbeef9df44fd0fd  5b51032eddd242adc84c38acab88f23d   \n",
              "3  7634da152a4610f1595efa32f14722fc  9d7a1d34a5052409006425275ba1c2b4   \n",
              "4  ac6c3623068f30de03045865e4e10089  df560393f3a51e74553ab94004ba5c87   \n",
              "\n",
              "   shipping_limit_date   price  freight_value  \n",
              "0  2017-09-19 09:45:35   58.90          13.29  \n",
              "1  2017-05-03 11:05:13  239.90          19.93  \n",
              "2  2018-01-18 14:48:30  199.00          17.87  \n",
              "3  2018-08-15 10:10:18   12.99          12.79  \n",
              "4  2017-02-13 13:57:51  199.90          18.14  "
            ]
          },
          "execution_count": 4,
          "metadata": {},
          "output_type": "execute_result"
        }
      ],
      "source": [
        "order_items_df=pd.read_csv('C:/Users/Nafi Kareem/OneDrive/Dokumen/Data MIning/Course College/submission/E-Commerce Public Dataset/order_items_dataset.csv')\n",
        "order_items_df.head()"
      ]
    },
    {
      "cell_type": "markdown",
      "metadata": {},
      "source": [
        "#### memuat tabel order_payments_dataset_csv"
      ]
    },
    {
      "cell_type": "code",
      "execution_count": 5,
      "metadata": {},
      "outputs": [
        {
          "data": {
            "text/html": [
              "<div>\n",
              "<style scoped>\n",
              "    .dataframe tbody tr th:only-of-type {\n",
              "        vertical-align: middle;\n",
              "    }\n",
              "\n",
              "    .dataframe tbody tr th {\n",
              "        vertical-align: top;\n",
              "    }\n",
              "\n",
              "    .dataframe thead th {\n",
              "        text-align: right;\n",
              "    }\n",
              "</style>\n",
              "<table border=\"1\" class=\"dataframe\">\n",
              "  <thead>\n",
              "    <tr style=\"text-align: right;\">\n",
              "      <th></th>\n",
              "      <th>order_id</th>\n",
              "      <th>payment_sequential</th>\n",
              "      <th>payment_type</th>\n",
              "      <th>payment_installments</th>\n",
              "      <th>payment_value</th>\n",
              "    </tr>\n",
              "  </thead>\n",
              "  <tbody>\n",
              "    <tr>\n",
              "      <th>0</th>\n",
              "      <td>b81ef226f3fe1789b1e8b2acac839d17</td>\n",
              "      <td>1</td>\n",
              "      <td>credit_card</td>\n",
              "      <td>8</td>\n",
              "      <td>99.33</td>\n",
              "    </tr>\n",
              "    <tr>\n",
              "      <th>1</th>\n",
              "      <td>a9810da82917af2d9aefd1278f1dcfa0</td>\n",
              "      <td>1</td>\n",
              "      <td>credit_card</td>\n",
              "      <td>1</td>\n",
              "      <td>24.39</td>\n",
              "    </tr>\n",
              "    <tr>\n",
              "      <th>2</th>\n",
              "      <td>25e8ea4e93396b6fa0d3dd708e76c1bd</td>\n",
              "      <td>1</td>\n",
              "      <td>credit_card</td>\n",
              "      <td>1</td>\n",
              "      <td>65.71</td>\n",
              "    </tr>\n",
              "    <tr>\n",
              "      <th>3</th>\n",
              "      <td>ba78997921bbcdc1373bb41e913ab953</td>\n",
              "      <td>1</td>\n",
              "      <td>credit_card</td>\n",
              "      <td>8</td>\n",
              "      <td>107.78</td>\n",
              "    </tr>\n",
              "    <tr>\n",
              "      <th>4</th>\n",
              "      <td>42fdf880ba16b47b59251dd489d4441a</td>\n",
              "      <td>1</td>\n",
              "      <td>credit_card</td>\n",
              "      <td>2</td>\n",
              "      <td>128.45</td>\n",
              "    </tr>\n",
              "  </tbody>\n",
              "</table>\n",
              "</div>"
            ],
            "text/plain": [
              "                           order_id  payment_sequential payment_type  \\\n",
              "0  b81ef226f3fe1789b1e8b2acac839d17                   1  credit_card   \n",
              "1  a9810da82917af2d9aefd1278f1dcfa0                   1  credit_card   \n",
              "2  25e8ea4e93396b6fa0d3dd708e76c1bd                   1  credit_card   \n",
              "3  ba78997921bbcdc1373bb41e913ab953                   1  credit_card   \n",
              "4  42fdf880ba16b47b59251dd489d4441a                   1  credit_card   \n",
              "\n",
              "   payment_installments  payment_value  \n",
              "0                     8          99.33  \n",
              "1                     1          24.39  \n",
              "2                     1          65.71  \n",
              "3                     8         107.78  \n",
              "4                     2         128.45  "
            ]
          },
          "execution_count": 5,
          "metadata": {},
          "output_type": "execute_result"
        }
      ],
      "source": [
        "order_payments_df=pd.read_csv('C:/Users/Nafi Kareem/OneDrive/Dokumen/Data MIning/Course College/submission/E-Commerce Public Dataset/order_payments_dataset.csv')\n",
        "order_payments_df.head()"
      ]
    },
    {
      "cell_type": "markdown",
      "metadata": {},
      "source": [
        "#### memuat tabel order_reviews_dataset.csv"
      ]
    },
    {
      "cell_type": "code",
      "execution_count": 6,
      "metadata": {},
      "outputs": [
        {
          "data": {
            "text/html": [
              "<div>\n",
              "<style scoped>\n",
              "    .dataframe tbody tr th:only-of-type {\n",
              "        vertical-align: middle;\n",
              "    }\n",
              "\n",
              "    .dataframe tbody tr th {\n",
              "        vertical-align: top;\n",
              "    }\n",
              "\n",
              "    .dataframe thead th {\n",
              "        text-align: right;\n",
              "    }\n",
              "</style>\n",
              "<table border=\"1\" class=\"dataframe\">\n",
              "  <thead>\n",
              "    <tr style=\"text-align: right;\">\n",
              "      <th></th>\n",
              "      <th>review_id</th>\n",
              "      <th>order_id</th>\n",
              "      <th>review_score</th>\n",
              "      <th>review_comment_title</th>\n",
              "      <th>review_comment_message</th>\n",
              "      <th>review_creation_date</th>\n",
              "      <th>review_answer_timestamp</th>\n",
              "    </tr>\n",
              "  </thead>\n",
              "  <tbody>\n",
              "    <tr>\n",
              "      <th>0</th>\n",
              "      <td>7bc2406110b926393aa56f80a40eba40</td>\n",
              "      <td>73fc7af87114b39712e6da79b0a377eb</td>\n",
              "      <td>4</td>\n",
              "      <td>NaN</td>\n",
              "      <td>NaN</td>\n",
              "      <td>2018-01-18 00:00:00</td>\n",
              "      <td>2018-01-18 21:46:59</td>\n",
              "    </tr>\n",
              "    <tr>\n",
              "      <th>1</th>\n",
              "      <td>80e641a11e56f04c1ad469d5645fdfde</td>\n",
              "      <td>a548910a1c6147796b98fdf73dbeba33</td>\n",
              "      <td>5</td>\n",
              "      <td>NaN</td>\n",
              "      <td>NaN</td>\n",
              "      <td>2018-03-10 00:00:00</td>\n",
              "      <td>2018-03-11 03:05:13</td>\n",
              "    </tr>\n",
              "    <tr>\n",
              "      <th>2</th>\n",
              "      <td>228ce5500dc1d8e020d8d1322874b6f0</td>\n",
              "      <td>f9e4b658b201a9f2ecdecbb34bed034b</td>\n",
              "      <td>5</td>\n",
              "      <td>NaN</td>\n",
              "      <td>NaN</td>\n",
              "      <td>2018-02-17 00:00:00</td>\n",
              "      <td>2018-02-18 14:36:24</td>\n",
              "    </tr>\n",
              "    <tr>\n",
              "      <th>3</th>\n",
              "      <td>e64fb393e7b32834bb789ff8bb30750e</td>\n",
              "      <td>658677c97b385a9be170737859d3511b</td>\n",
              "      <td>5</td>\n",
              "      <td>NaN</td>\n",
              "      <td>Recebi bem antes do prazo estipulado.</td>\n",
              "      <td>2017-04-21 00:00:00</td>\n",
              "      <td>2017-04-21 22:02:06</td>\n",
              "    </tr>\n",
              "    <tr>\n",
              "      <th>4</th>\n",
              "      <td>f7c4243c7fe1938f181bec41a392bdeb</td>\n",
              "      <td>8e6bfb81e283fa7e4f11123a3fb894f1</td>\n",
              "      <td>5</td>\n",
              "      <td>NaN</td>\n",
              "      <td>Parabéns lojas lannister adorei comprar pela I...</td>\n",
              "      <td>2018-03-01 00:00:00</td>\n",
              "      <td>2018-03-02 10:26:53</td>\n",
              "    </tr>\n",
              "  </tbody>\n",
              "</table>\n",
              "</div>"
            ],
            "text/plain": [
              "                          review_id                          order_id  \\\n",
              "0  7bc2406110b926393aa56f80a40eba40  73fc7af87114b39712e6da79b0a377eb   \n",
              "1  80e641a11e56f04c1ad469d5645fdfde  a548910a1c6147796b98fdf73dbeba33   \n",
              "2  228ce5500dc1d8e020d8d1322874b6f0  f9e4b658b201a9f2ecdecbb34bed034b   \n",
              "3  e64fb393e7b32834bb789ff8bb30750e  658677c97b385a9be170737859d3511b   \n",
              "4  f7c4243c7fe1938f181bec41a392bdeb  8e6bfb81e283fa7e4f11123a3fb894f1   \n",
              "\n",
              "   review_score review_comment_title  \\\n",
              "0             4                  NaN   \n",
              "1             5                  NaN   \n",
              "2             5                  NaN   \n",
              "3             5                  NaN   \n",
              "4             5                  NaN   \n",
              "\n",
              "                              review_comment_message review_creation_date  \\\n",
              "0                                                NaN  2018-01-18 00:00:00   \n",
              "1                                                NaN  2018-03-10 00:00:00   \n",
              "2                                                NaN  2018-02-17 00:00:00   \n",
              "3              Recebi bem antes do prazo estipulado.  2017-04-21 00:00:00   \n",
              "4  Parabéns lojas lannister adorei comprar pela I...  2018-03-01 00:00:00   \n",
              "\n",
              "  review_answer_timestamp  \n",
              "0     2018-01-18 21:46:59  \n",
              "1     2018-03-11 03:05:13  \n",
              "2     2018-02-18 14:36:24  \n",
              "3     2017-04-21 22:02:06  \n",
              "4     2018-03-02 10:26:53  "
            ]
          },
          "execution_count": 6,
          "metadata": {},
          "output_type": "execute_result"
        }
      ],
      "source": [
        "order_reviews_df=pd.read_csv('C:/Users/Nafi Kareem/OneDrive/Dokumen/Data MIning/Course College/submission/E-Commerce Public Dataset/order_reviews_dataset.csv')\n",
        "order_reviews_df.head()"
      ]
    },
    {
      "cell_type": "markdown",
      "metadata": {},
      "source": [
        "#### memuat tabel orders_dataset.csv"
      ]
    },
    {
      "cell_type": "code",
      "execution_count": 7,
      "metadata": {},
      "outputs": [
        {
          "data": {
            "text/html": [
              "<div>\n",
              "<style scoped>\n",
              "    .dataframe tbody tr th:only-of-type {\n",
              "        vertical-align: middle;\n",
              "    }\n",
              "\n",
              "    .dataframe tbody tr th {\n",
              "        vertical-align: top;\n",
              "    }\n",
              "\n",
              "    .dataframe thead th {\n",
              "        text-align: right;\n",
              "    }\n",
              "</style>\n",
              "<table border=\"1\" class=\"dataframe\">\n",
              "  <thead>\n",
              "    <tr style=\"text-align: right;\">\n",
              "      <th></th>\n",
              "      <th>order_id</th>\n",
              "      <th>customer_id</th>\n",
              "      <th>order_status</th>\n",
              "      <th>order_purchase_timestamp</th>\n",
              "      <th>order_approved_at</th>\n",
              "      <th>order_delivered_carrier_date</th>\n",
              "      <th>order_delivered_customer_date</th>\n",
              "      <th>order_estimated_delivery_date</th>\n",
              "    </tr>\n",
              "  </thead>\n",
              "  <tbody>\n",
              "    <tr>\n",
              "      <th>0</th>\n",
              "      <td>e481f51cbdc54678b7cc49136f2d6af7</td>\n",
              "      <td>9ef432eb6251297304e76186b10a928d</td>\n",
              "      <td>delivered</td>\n",
              "      <td>2017-10-02 10:56:33</td>\n",
              "      <td>2017-10-02 11:07:15</td>\n",
              "      <td>2017-10-04 19:55:00</td>\n",
              "      <td>2017-10-10 21:25:13</td>\n",
              "      <td>2017-10-18 00:00:00</td>\n",
              "    </tr>\n",
              "    <tr>\n",
              "      <th>1</th>\n",
              "      <td>53cdb2fc8bc7dce0b6741e2150273451</td>\n",
              "      <td>b0830fb4747a6c6d20dea0b8c802d7ef</td>\n",
              "      <td>delivered</td>\n",
              "      <td>2018-07-24 20:41:37</td>\n",
              "      <td>2018-07-26 03:24:27</td>\n",
              "      <td>2018-07-26 14:31:00</td>\n",
              "      <td>2018-08-07 15:27:45</td>\n",
              "      <td>2018-08-13 00:00:00</td>\n",
              "    </tr>\n",
              "    <tr>\n",
              "      <th>2</th>\n",
              "      <td>47770eb9100c2d0c44946d9cf07ec65d</td>\n",
              "      <td>41ce2a54c0b03bf3443c3d931a367089</td>\n",
              "      <td>delivered</td>\n",
              "      <td>2018-08-08 08:38:49</td>\n",
              "      <td>2018-08-08 08:55:23</td>\n",
              "      <td>2018-08-08 13:50:00</td>\n",
              "      <td>2018-08-17 18:06:29</td>\n",
              "      <td>2018-09-04 00:00:00</td>\n",
              "    </tr>\n",
              "    <tr>\n",
              "      <th>3</th>\n",
              "      <td>949d5b44dbf5de918fe9c16f97b45f8a</td>\n",
              "      <td>f88197465ea7920adcdbec7375364d82</td>\n",
              "      <td>delivered</td>\n",
              "      <td>2017-11-18 19:28:06</td>\n",
              "      <td>2017-11-18 19:45:59</td>\n",
              "      <td>2017-11-22 13:39:59</td>\n",
              "      <td>2017-12-02 00:28:42</td>\n",
              "      <td>2017-12-15 00:00:00</td>\n",
              "    </tr>\n",
              "    <tr>\n",
              "      <th>4</th>\n",
              "      <td>ad21c59c0840e6cb83a9ceb5573f8159</td>\n",
              "      <td>8ab97904e6daea8866dbdbc4fb7aad2c</td>\n",
              "      <td>delivered</td>\n",
              "      <td>2018-02-13 21:18:39</td>\n",
              "      <td>2018-02-13 22:20:29</td>\n",
              "      <td>2018-02-14 19:46:34</td>\n",
              "      <td>2018-02-16 18:17:02</td>\n",
              "      <td>2018-02-26 00:00:00</td>\n",
              "    </tr>\n",
              "  </tbody>\n",
              "</table>\n",
              "</div>"
            ],
            "text/plain": [
              "                           order_id                       customer_id  \\\n",
              "0  e481f51cbdc54678b7cc49136f2d6af7  9ef432eb6251297304e76186b10a928d   \n",
              "1  53cdb2fc8bc7dce0b6741e2150273451  b0830fb4747a6c6d20dea0b8c802d7ef   \n",
              "2  47770eb9100c2d0c44946d9cf07ec65d  41ce2a54c0b03bf3443c3d931a367089   \n",
              "3  949d5b44dbf5de918fe9c16f97b45f8a  f88197465ea7920adcdbec7375364d82   \n",
              "4  ad21c59c0840e6cb83a9ceb5573f8159  8ab97904e6daea8866dbdbc4fb7aad2c   \n",
              "\n",
              "  order_status order_purchase_timestamp    order_approved_at  \\\n",
              "0    delivered      2017-10-02 10:56:33  2017-10-02 11:07:15   \n",
              "1    delivered      2018-07-24 20:41:37  2018-07-26 03:24:27   \n",
              "2    delivered      2018-08-08 08:38:49  2018-08-08 08:55:23   \n",
              "3    delivered      2017-11-18 19:28:06  2017-11-18 19:45:59   \n",
              "4    delivered      2018-02-13 21:18:39  2018-02-13 22:20:29   \n",
              "\n",
              "  order_delivered_carrier_date order_delivered_customer_date  \\\n",
              "0          2017-10-04 19:55:00           2017-10-10 21:25:13   \n",
              "1          2018-07-26 14:31:00           2018-08-07 15:27:45   \n",
              "2          2018-08-08 13:50:00           2018-08-17 18:06:29   \n",
              "3          2017-11-22 13:39:59           2017-12-02 00:28:42   \n",
              "4          2018-02-14 19:46:34           2018-02-16 18:17:02   \n",
              "\n",
              "  order_estimated_delivery_date  \n",
              "0           2017-10-18 00:00:00  \n",
              "1           2018-08-13 00:00:00  \n",
              "2           2018-09-04 00:00:00  \n",
              "3           2017-12-15 00:00:00  \n",
              "4           2018-02-26 00:00:00  "
            ]
          },
          "execution_count": 7,
          "metadata": {},
          "output_type": "execute_result"
        }
      ],
      "source": [
        "orders_df=pd.read_csv('C:/Users/Nafi Kareem/OneDrive/Dokumen/Data MIning/Course College/submission/E-Commerce Public Dataset/orders_dataset.csv')\n",
        "orders_df.head()"
      ]
    },
    {
      "cell_type": "markdown",
      "metadata": {},
      "source": [
        "#### memuat tabel product_category_name_translation_dataset.csv"
      ]
    },
    {
      "cell_type": "code",
      "execution_count": 8,
      "metadata": {},
      "outputs": [
        {
          "data": {
            "text/html": [
              "<div>\n",
              "<style scoped>\n",
              "    .dataframe tbody tr th:only-of-type {\n",
              "        vertical-align: middle;\n",
              "    }\n",
              "\n",
              "    .dataframe tbody tr th {\n",
              "        vertical-align: top;\n",
              "    }\n",
              "\n",
              "    .dataframe thead th {\n",
              "        text-align: right;\n",
              "    }\n",
              "</style>\n",
              "<table border=\"1\" class=\"dataframe\">\n",
              "  <thead>\n",
              "    <tr style=\"text-align: right;\">\n",
              "      <th></th>\n",
              "      <th>product_category_name</th>\n",
              "      <th>product_category_name_english</th>\n",
              "    </tr>\n",
              "  </thead>\n",
              "  <tbody>\n",
              "    <tr>\n",
              "      <th>0</th>\n",
              "      <td>beleza_saude</td>\n",
              "      <td>health_beauty</td>\n",
              "    </tr>\n",
              "    <tr>\n",
              "      <th>1</th>\n",
              "      <td>informatica_acessorios</td>\n",
              "      <td>computers_accessories</td>\n",
              "    </tr>\n",
              "    <tr>\n",
              "      <th>2</th>\n",
              "      <td>automotivo</td>\n",
              "      <td>auto</td>\n",
              "    </tr>\n",
              "    <tr>\n",
              "      <th>3</th>\n",
              "      <td>cama_mesa_banho</td>\n",
              "      <td>bed_bath_table</td>\n",
              "    </tr>\n",
              "    <tr>\n",
              "      <th>4</th>\n",
              "      <td>moveis_decoracao</td>\n",
              "      <td>furniture_decor</td>\n",
              "    </tr>\n",
              "  </tbody>\n",
              "</table>\n",
              "</div>"
            ],
            "text/plain": [
              "    product_category_name product_category_name_english\n",
              "0            beleza_saude                 health_beauty\n",
              "1  informatica_acessorios         computers_accessories\n",
              "2              automotivo                          auto\n",
              "3         cama_mesa_banho                bed_bath_table\n",
              "4        moveis_decoracao               furniture_decor"
            ]
          },
          "execution_count": 8,
          "metadata": {},
          "output_type": "execute_result"
        }
      ],
      "source": [
        "product_category_name_translation_df=pd.read_csv('C:/Users/Nafi Kareem/OneDrive/Dokumen/Data MIning/Course College/submission/E-Commerce Public Dataset/product_category_name_translation.csv')\n",
        "product_category_name_translation_df.head()"
      ]
    },
    {
      "cell_type": "markdown",
      "metadata": {},
      "source": [
        "#### memuat tabel products_dataset.csv"
      ]
    },
    {
      "cell_type": "code",
      "execution_count": 9,
      "metadata": {},
      "outputs": [
        {
          "data": {
            "text/html": [
              "<div>\n",
              "<style scoped>\n",
              "    .dataframe tbody tr th:only-of-type {\n",
              "        vertical-align: middle;\n",
              "    }\n",
              "\n",
              "    .dataframe tbody tr th {\n",
              "        vertical-align: top;\n",
              "    }\n",
              "\n",
              "    .dataframe thead th {\n",
              "        text-align: right;\n",
              "    }\n",
              "</style>\n",
              "<table border=\"1\" class=\"dataframe\">\n",
              "  <thead>\n",
              "    <tr style=\"text-align: right;\">\n",
              "      <th></th>\n",
              "      <th>product_id</th>\n",
              "      <th>product_category_name</th>\n",
              "      <th>product_name_lenght</th>\n",
              "      <th>product_description_lenght</th>\n",
              "      <th>product_photos_qty</th>\n",
              "      <th>product_weight_g</th>\n",
              "      <th>product_length_cm</th>\n",
              "      <th>product_height_cm</th>\n",
              "      <th>product_width_cm</th>\n",
              "    </tr>\n",
              "  </thead>\n",
              "  <tbody>\n",
              "    <tr>\n",
              "      <th>0</th>\n",
              "      <td>1e9e8ef04dbcff4541ed26657ea517e5</td>\n",
              "      <td>perfumaria</td>\n",
              "      <td>40.0</td>\n",
              "      <td>287.0</td>\n",
              "      <td>1.0</td>\n",
              "      <td>225.0</td>\n",
              "      <td>16.0</td>\n",
              "      <td>10.0</td>\n",
              "      <td>14.0</td>\n",
              "    </tr>\n",
              "    <tr>\n",
              "      <th>1</th>\n",
              "      <td>3aa071139cb16b67ca9e5dea641aaa2f</td>\n",
              "      <td>artes</td>\n",
              "      <td>44.0</td>\n",
              "      <td>276.0</td>\n",
              "      <td>1.0</td>\n",
              "      <td>1000.0</td>\n",
              "      <td>30.0</td>\n",
              "      <td>18.0</td>\n",
              "      <td>20.0</td>\n",
              "    </tr>\n",
              "    <tr>\n",
              "      <th>2</th>\n",
              "      <td>96bd76ec8810374ed1b65e291975717f</td>\n",
              "      <td>esporte_lazer</td>\n",
              "      <td>46.0</td>\n",
              "      <td>250.0</td>\n",
              "      <td>1.0</td>\n",
              "      <td>154.0</td>\n",
              "      <td>18.0</td>\n",
              "      <td>9.0</td>\n",
              "      <td>15.0</td>\n",
              "    </tr>\n",
              "    <tr>\n",
              "      <th>3</th>\n",
              "      <td>cef67bcfe19066a932b7673e239eb23d</td>\n",
              "      <td>bebes</td>\n",
              "      <td>27.0</td>\n",
              "      <td>261.0</td>\n",
              "      <td>1.0</td>\n",
              "      <td>371.0</td>\n",
              "      <td>26.0</td>\n",
              "      <td>4.0</td>\n",
              "      <td>26.0</td>\n",
              "    </tr>\n",
              "    <tr>\n",
              "      <th>4</th>\n",
              "      <td>9dc1a7de274444849c219cff195d0b71</td>\n",
              "      <td>utilidades_domesticas</td>\n",
              "      <td>37.0</td>\n",
              "      <td>402.0</td>\n",
              "      <td>4.0</td>\n",
              "      <td>625.0</td>\n",
              "      <td>20.0</td>\n",
              "      <td>17.0</td>\n",
              "      <td>13.0</td>\n",
              "    </tr>\n",
              "  </tbody>\n",
              "</table>\n",
              "</div>"
            ],
            "text/plain": [
              "                         product_id  product_category_name  \\\n",
              "0  1e9e8ef04dbcff4541ed26657ea517e5             perfumaria   \n",
              "1  3aa071139cb16b67ca9e5dea641aaa2f                  artes   \n",
              "2  96bd76ec8810374ed1b65e291975717f          esporte_lazer   \n",
              "3  cef67bcfe19066a932b7673e239eb23d                  bebes   \n",
              "4  9dc1a7de274444849c219cff195d0b71  utilidades_domesticas   \n",
              "\n",
              "   product_name_lenght  product_description_lenght  product_photos_qty  \\\n",
              "0                 40.0                       287.0                 1.0   \n",
              "1                 44.0                       276.0                 1.0   \n",
              "2                 46.0                       250.0                 1.0   \n",
              "3                 27.0                       261.0                 1.0   \n",
              "4                 37.0                       402.0                 4.0   \n",
              "\n",
              "   product_weight_g  product_length_cm  product_height_cm  product_width_cm  \n",
              "0             225.0               16.0               10.0              14.0  \n",
              "1            1000.0               30.0               18.0              20.0  \n",
              "2             154.0               18.0                9.0              15.0  \n",
              "3             371.0               26.0                4.0              26.0  \n",
              "4             625.0               20.0               17.0              13.0  "
            ]
          },
          "execution_count": 9,
          "metadata": {},
          "output_type": "execute_result"
        }
      ],
      "source": [
        "products_df=pd.read_csv('C:/Users/Nafi Kareem/OneDrive/Dokumen/Data MIning/Course College/submission/E-Commerce Public Dataset/products_dataset.csv')\n",
        "products_df.head()"
      ]
    },
    {
      "cell_type": "markdown",
      "metadata": {},
      "source": [
        "#### memuat tabel sellers_dataset.csv"
      ]
    },
    {
      "cell_type": "code",
      "execution_count": 10,
      "metadata": {},
      "outputs": [
        {
          "data": {
            "text/html": [
              "<div>\n",
              "<style scoped>\n",
              "    .dataframe tbody tr th:only-of-type {\n",
              "        vertical-align: middle;\n",
              "    }\n",
              "\n",
              "    .dataframe tbody tr th {\n",
              "        vertical-align: top;\n",
              "    }\n",
              "\n",
              "    .dataframe thead th {\n",
              "        text-align: right;\n",
              "    }\n",
              "</style>\n",
              "<table border=\"1\" class=\"dataframe\">\n",
              "  <thead>\n",
              "    <tr style=\"text-align: right;\">\n",
              "      <th></th>\n",
              "      <th>seller_id</th>\n",
              "      <th>seller_zip_code_prefix</th>\n",
              "      <th>seller_city</th>\n",
              "      <th>seller_state</th>\n",
              "    </tr>\n",
              "  </thead>\n",
              "  <tbody>\n",
              "    <tr>\n",
              "      <th>0</th>\n",
              "      <td>3442f8959a84dea7ee197c632cb2df15</td>\n",
              "      <td>13023</td>\n",
              "      <td>campinas</td>\n",
              "      <td>SP</td>\n",
              "    </tr>\n",
              "    <tr>\n",
              "      <th>1</th>\n",
              "      <td>d1b65fc7debc3361ea86b5f14c68d2e2</td>\n",
              "      <td>13844</td>\n",
              "      <td>mogi guacu</td>\n",
              "      <td>SP</td>\n",
              "    </tr>\n",
              "    <tr>\n",
              "      <th>2</th>\n",
              "      <td>ce3ad9de960102d0677a81f5d0bb7b2d</td>\n",
              "      <td>20031</td>\n",
              "      <td>rio de janeiro</td>\n",
              "      <td>RJ</td>\n",
              "    </tr>\n",
              "    <tr>\n",
              "      <th>3</th>\n",
              "      <td>c0f3eea2e14555b6faeea3dd58c1b1c3</td>\n",
              "      <td>4195</td>\n",
              "      <td>sao paulo</td>\n",
              "      <td>SP</td>\n",
              "    </tr>\n",
              "    <tr>\n",
              "      <th>4</th>\n",
              "      <td>51a04a8a6bdcb23deccc82b0b80742cf</td>\n",
              "      <td>12914</td>\n",
              "      <td>braganca paulista</td>\n",
              "      <td>SP</td>\n",
              "    </tr>\n",
              "  </tbody>\n",
              "</table>\n",
              "</div>"
            ],
            "text/plain": [
              "                          seller_id  seller_zip_code_prefix  \\\n",
              "0  3442f8959a84dea7ee197c632cb2df15                   13023   \n",
              "1  d1b65fc7debc3361ea86b5f14c68d2e2                   13844   \n",
              "2  ce3ad9de960102d0677a81f5d0bb7b2d                   20031   \n",
              "3  c0f3eea2e14555b6faeea3dd58c1b1c3                    4195   \n",
              "4  51a04a8a6bdcb23deccc82b0b80742cf                   12914   \n",
              "\n",
              "         seller_city seller_state  \n",
              "0           campinas           SP  \n",
              "1         mogi guacu           SP  \n",
              "2     rio de janeiro           RJ  \n",
              "3          sao paulo           SP  \n",
              "4  braganca paulista           SP  "
            ]
          },
          "execution_count": 10,
          "metadata": {},
          "output_type": "execute_result"
        }
      ],
      "source": [
        "sellers_df=pd.read_csv('C:/Users/Nafi Kareem/OneDrive/Dokumen/Data MIning/Course College/submission/E-Commerce Public Dataset/sellers_dataset.csv')\n",
        "sellers_df.head()"
      ]
    },
    {
      "cell_type": "markdown",
      "metadata": {
        "id": "BvZAfrSH9F2U"
      },
      "source": [
        "### Assessing Data"
      ]
    },
    {
      "cell_type": "markdown",
      "metadata": {},
      "source": [
        "#### menilai data customers_df"
      ]
    },
    {
      "cell_type": "markdown",
      "metadata": {},
      "source": [
        "##### memeriksa missing values"
      ]
    },
    {
      "cell_type": "code",
      "execution_count": 11,
      "metadata": {
        "id": "fx7PaLsV9G8M"
      },
      "outputs": [
        {
          "data": {
            "text/plain": [
              "customer_id                 0\n",
              "customer_unique_id          0\n",
              "customer_zip_code_prefix    0\n",
              "customer_city               0\n",
              "customer_state              0\n",
              "dtype: int64"
            ]
          },
          "execution_count": 11,
          "metadata": {},
          "output_type": "execute_result"
        }
      ],
      "source": [
        "customers_df.isna().sum()"
      ]
    },
    {
      "cell_type": "markdown",
      "metadata": {},
      "source": [
        "tidak terdapat missing values"
      ]
    },
    {
      "cell_type": "markdown",
      "metadata": {},
      "source": [
        "##### memeriksa duplicate data"
      ]
    },
    {
      "cell_type": "code",
      "execution_count": 12,
      "metadata": {},
      "outputs": [
        {
          "data": {
            "text/plain": [
              "0"
            ]
          },
          "execution_count": 12,
          "metadata": {},
          "output_type": "execute_result"
        }
      ],
      "source": [
        "customers_df.duplicated().sum()"
      ]
    },
    {
      "cell_type": "markdown",
      "metadata": {},
      "source": [
        "tidak terdapat data yang berduplikat"
      ]
    },
    {
      "cell_type": "markdown",
      "metadata": {},
      "source": [
        "##### memeriksa tipe data"
      ]
    },
    {
      "cell_type": "code",
      "execution_count": 13,
      "metadata": {},
      "outputs": [
        {
          "name": "stdout",
          "output_type": "stream",
          "text": [
            "<class 'pandas.core.frame.DataFrame'>\n",
            "RangeIndex: 99441 entries, 0 to 99440\n",
            "Data columns (total 5 columns):\n",
            " #   Column                    Non-Null Count  Dtype \n",
            "---  ------                    --------------  ----- \n",
            " 0   customer_id               99441 non-null  object\n",
            " 1   customer_unique_id        99441 non-null  object\n",
            " 2   customer_zip_code_prefix  99441 non-null  int64 \n",
            " 3   customer_city             99441 non-null  object\n",
            " 4   customer_state            99441 non-null  object\n",
            "dtypes: int64(1), object(4)\n",
            "memory usage: 3.8+ MB\n"
          ]
        }
      ],
      "source": [
        "customers_df.info()"
      ]
    },
    {
      "cell_type": "markdown",
      "metadata": {},
      "source": [
        "tipe data sudah sesuai"
      ]
    },
    {
      "cell_type": "markdown",
      "metadata": {},
      "source": [
        "#### menilai data geolocation_df"
      ]
    },
    {
      "cell_type": "markdown",
      "metadata": {},
      "source": [
        "##### memeriksa missing value"
      ]
    },
    {
      "cell_type": "code",
      "execution_count": 14,
      "metadata": {},
      "outputs": [
        {
          "data": {
            "text/plain": [
              "geolocation_zip_code_prefix    0\n",
              "geolocation_lat                0\n",
              "geolocation_lng                0\n",
              "geolocation_city               0\n",
              "geolocation_state              0\n",
              "dtype: int64"
            ]
          },
          "execution_count": 14,
          "metadata": {},
          "output_type": "execute_result"
        }
      ],
      "source": [
        "geolocation_df.isna().sum()"
      ]
    },
    {
      "cell_type": "markdown",
      "metadata": {},
      "source": [
        "tidak terdapat missing value"
      ]
    },
    {
      "cell_type": "markdown",
      "metadata": {},
      "source": [
        "##### memeriksa duplicate data"
      ]
    },
    {
      "cell_type": "code",
      "execution_count": 15,
      "metadata": {},
      "outputs": [
        {
          "data": {
            "text/plain": [
              "261831"
            ]
          },
          "execution_count": 15,
          "metadata": {},
          "output_type": "execute_result"
        }
      ],
      "source": [
        "geolocation_df.duplicated().sum()"
      ]
    },
    {
      "cell_type": "markdown",
      "metadata": {},
      "source": [
        "tedapat 261831 data yang berduplikat"
      ]
    },
    {
      "cell_type": "markdown",
      "metadata": {},
      "source": [
        "##### memeriksa tipe data"
      ]
    },
    {
      "cell_type": "code",
      "execution_count": 16,
      "metadata": {},
      "outputs": [
        {
          "name": "stdout",
          "output_type": "stream",
          "text": [
            "<class 'pandas.core.frame.DataFrame'>\n",
            "RangeIndex: 99441 entries, 0 to 99440\n",
            "Data columns (total 5 columns):\n",
            " #   Column                    Non-Null Count  Dtype \n",
            "---  ------                    --------------  ----- \n",
            " 0   customer_id               99441 non-null  object\n",
            " 1   customer_unique_id        99441 non-null  object\n",
            " 2   customer_zip_code_prefix  99441 non-null  int64 \n",
            " 3   customer_city             99441 non-null  object\n",
            " 4   customer_state            99441 non-null  object\n",
            "dtypes: int64(1), object(4)\n",
            "memory usage: 3.8+ MB\n"
          ]
        }
      ],
      "source": [
        "customers_df.info()"
      ]
    },
    {
      "cell_type": "markdown",
      "metadata": {},
      "source": [
        "tipe data sudah sesuai"
      ]
    },
    {
      "cell_type": "markdown",
      "metadata": {},
      "source": [
        "#### menilai data order_items_df"
      ]
    },
    {
      "cell_type": "markdown",
      "metadata": {},
      "source": [
        "##### memeriksa missing value"
      ]
    },
    {
      "cell_type": "code",
      "execution_count": 17,
      "metadata": {},
      "outputs": [
        {
          "data": {
            "text/plain": [
              "order_id               0\n",
              "order_item_id          0\n",
              "product_id             0\n",
              "seller_id              0\n",
              "shipping_limit_date    0\n",
              "price                  0\n",
              "freight_value          0\n",
              "dtype: int64"
            ]
          },
          "execution_count": 17,
          "metadata": {},
          "output_type": "execute_result"
        }
      ],
      "source": [
        "order_items_df.isna().sum()"
      ]
    },
    {
      "cell_type": "markdown",
      "metadata": {},
      "source": [
        "tidak terdapat missing value"
      ]
    },
    {
      "cell_type": "markdown",
      "metadata": {},
      "source": [
        "##### memeriksa duplikat data"
      ]
    },
    {
      "cell_type": "code",
      "execution_count": 18,
      "metadata": {},
      "outputs": [
        {
          "data": {
            "text/plain": [
              "0"
            ]
          },
          "execution_count": 18,
          "metadata": {},
          "output_type": "execute_result"
        }
      ],
      "source": [
        "order_items_df.duplicated().sum()"
      ]
    },
    {
      "cell_type": "markdown",
      "metadata": {},
      "source": [
        "tidak ada data yang berduplikat"
      ]
    },
    {
      "cell_type": "markdown",
      "metadata": {},
      "source": [
        "##### memeriksa tipe data"
      ]
    },
    {
      "cell_type": "code",
      "execution_count": 19,
      "metadata": {},
      "outputs": [
        {
          "name": "stdout",
          "output_type": "stream",
          "text": [
            "<class 'pandas.core.frame.DataFrame'>\n",
            "RangeIndex: 112650 entries, 0 to 112649\n",
            "Data columns (total 7 columns):\n",
            " #   Column               Non-Null Count   Dtype  \n",
            "---  ------               --------------   -----  \n",
            " 0   order_id             112650 non-null  object \n",
            " 1   order_item_id        112650 non-null  int64  \n",
            " 2   product_id           112650 non-null  object \n",
            " 3   seller_id            112650 non-null  object \n",
            " 4   shipping_limit_date  112650 non-null  object \n",
            " 5   price                112650 non-null  float64\n",
            " 6   freight_value        112650 non-null  float64\n",
            "dtypes: float64(2), int64(1), object(4)\n",
            "memory usage: 6.0+ MB\n"
          ]
        }
      ],
      "source": [
        "order_items_df.info()"
      ]
    },
    {
      "cell_type": "markdown",
      "metadata": {},
      "source": [
        "tedapat kesalah tipe data pada kolom 'shipping_limit_date'"
      ]
    },
    {
      "cell_type": "markdown",
      "metadata": {},
      "source": [
        "#### menilai data order_payments_df"
      ]
    },
    {
      "cell_type": "markdown",
      "metadata": {},
      "source": [
        "##### memeriksa missing value"
      ]
    },
    {
      "cell_type": "code",
      "execution_count": 20,
      "metadata": {},
      "outputs": [
        {
          "data": {
            "text/plain": [
              "order_id                0\n",
              "payment_sequential      0\n",
              "payment_type            0\n",
              "payment_installments    0\n",
              "payment_value           0\n",
              "dtype: int64"
            ]
          },
          "execution_count": 20,
          "metadata": {},
          "output_type": "execute_result"
        }
      ],
      "source": [
        "order_payments_df.isna().sum()"
      ]
    },
    {
      "cell_type": "markdown",
      "metadata": {},
      "source": [
        "tidak terdapat missing value"
      ]
    },
    {
      "cell_type": "markdown",
      "metadata": {},
      "source": [
        "##### memeriksa duplikat data"
      ]
    },
    {
      "cell_type": "code",
      "execution_count": 21,
      "metadata": {},
      "outputs": [
        {
          "data": {
            "text/plain": [
              "0"
            ]
          },
          "execution_count": 21,
          "metadata": {},
          "output_type": "execute_result"
        }
      ],
      "source": [
        "order_payments_df.duplicated().sum()"
      ]
    },
    {
      "cell_type": "markdown",
      "metadata": {},
      "source": [
        "tidak ada duplikat data"
      ]
    },
    {
      "cell_type": "markdown",
      "metadata": {},
      "source": [
        "##### memeriksa tipe data"
      ]
    },
    {
      "cell_type": "code",
      "execution_count": 22,
      "metadata": {},
      "outputs": [
        {
          "name": "stdout",
          "output_type": "stream",
          "text": [
            "<class 'pandas.core.frame.DataFrame'>\n",
            "RangeIndex: 103886 entries, 0 to 103885\n",
            "Data columns (total 5 columns):\n",
            " #   Column                Non-Null Count   Dtype  \n",
            "---  ------                --------------   -----  \n",
            " 0   order_id              103886 non-null  object \n",
            " 1   payment_sequential    103886 non-null  int64  \n",
            " 2   payment_type          103886 non-null  object \n",
            " 3   payment_installments  103886 non-null  int64  \n",
            " 4   payment_value         103886 non-null  float64\n",
            "dtypes: float64(1), int64(2), object(2)\n",
            "memory usage: 4.0+ MB\n"
          ]
        }
      ],
      "source": [
        "order_payments_df.info()"
      ]
    },
    {
      "cell_type": "markdown",
      "metadata": {},
      "source": [
        "tipe data sudah sesuai"
      ]
    },
    {
      "cell_type": "markdown",
      "metadata": {},
      "source": [
        "#### menilai data order_reviews_df"
      ]
    },
    {
      "cell_type": "markdown",
      "metadata": {},
      "source": [
        "##### memeriksa missing value"
      ]
    },
    {
      "cell_type": "code",
      "execution_count": 23,
      "metadata": {},
      "outputs": [
        {
          "data": {
            "text/plain": [
              "review_id                      0\n",
              "order_id                       0\n",
              "review_score                   0\n",
              "review_comment_title       87656\n",
              "review_comment_message     58247\n",
              "review_creation_date           0\n",
              "review_answer_timestamp        0\n",
              "dtype: int64"
            ]
          },
          "execution_count": 23,
          "metadata": {},
          "output_type": "execute_result"
        }
      ],
      "source": [
        "order_reviews_df.isna().sum()"
      ]
    },
    {
      "cell_type": "markdown",
      "metadata": {},
      "source": [
        "terdapat missing value pada kolom 'review_comment_title' dan 'review_comment_message'"
      ]
    },
    {
      "cell_type": "markdown",
      "metadata": {},
      "source": [
        "##### memeriksa duplikat data"
      ]
    },
    {
      "cell_type": "code",
      "execution_count": 24,
      "metadata": {},
      "outputs": [
        {
          "data": {
            "text/plain": [
              "0"
            ]
          },
          "execution_count": 24,
          "metadata": {},
          "output_type": "execute_result"
        }
      ],
      "source": [
        "order_reviews_df.duplicated().sum()"
      ]
    },
    {
      "cell_type": "markdown",
      "metadata": {},
      "source": [
        "tidak ada data duplikat"
      ]
    },
    {
      "cell_type": "markdown",
      "metadata": {},
      "source": [
        "##### memeriksa tipe data"
      ]
    },
    {
      "cell_type": "code",
      "execution_count": 25,
      "metadata": {},
      "outputs": [
        {
          "name": "stdout",
          "output_type": "stream",
          "text": [
            "<class 'pandas.core.frame.DataFrame'>\n",
            "RangeIndex: 99224 entries, 0 to 99223\n",
            "Data columns (total 7 columns):\n",
            " #   Column                   Non-Null Count  Dtype \n",
            "---  ------                   --------------  ----- \n",
            " 0   review_id                99224 non-null  object\n",
            " 1   order_id                 99224 non-null  object\n",
            " 2   review_score             99224 non-null  int64 \n",
            " 3   review_comment_title     11568 non-null  object\n",
            " 4   review_comment_message   40977 non-null  object\n",
            " 5   review_creation_date     99224 non-null  object\n",
            " 6   review_answer_timestamp  99224 non-null  object\n",
            "dtypes: int64(1), object(6)\n",
            "memory usage: 5.3+ MB\n"
          ]
        }
      ],
      "source": [
        "order_reviews_df.info()"
      ]
    },
    {
      "cell_type": "markdown",
      "metadata": {},
      "source": [
        "terdapat kesalahan tipe data pad kolom 'review_creation_date', 'review_answer_timestamp'"
      ]
    },
    {
      "cell_type": "markdown",
      "metadata": {},
      "source": [
        "#### menilai data orders_df"
      ]
    },
    {
      "cell_type": "markdown",
      "metadata": {},
      "source": [
        "##### memeriksa missing value"
      ]
    },
    {
      "cell_type": "code",
      "execution_count": 26,
      "metadata": {},
      "outputs": [
        {
          "data": {
            "text/plain": [
              "order_id                            0\n",
              "customer_id                         0\n",
              "order_status                        0\n",
              "order_purchase_timestamp            0\n",
              "order_approved_at                 160\n",
              "order_delivered_carrier_date     1783\n",
              "order_delivered_customer_date    2965\n",
              "order_estimated_delivery_date       0\n",
              "dtype: int64"
            ]
          },
          "execution_count": 26,
          "metadata": {},
          "output_type": "execute_result"
        }
      ],
      "source": [
        "orders_df.isna().sum()"
      ]
    },
    {
      "cell_type": "markdown",
      "metadata": {},
      "source": [
        "terdapat missing values pada kolom 'order_approved_at', 'order_delivered_carrier_date',  'order_delivered_customer_date'"
      ]
    },
    {
      "cell_type": "markdown",
      "metadata": {},
      "source": [
        "##### memeriksa data duplikat"
      ]
    },
    {
      "cell_type": "code",
      "execution_count": 27,
      "metadata": {},
      "outputs": [
        {
          "data": {
            "text/plain": [
              "0"
            ]
          },
          "execution_count": 27,
          "metadata": {},
          "output_type": "execute_result"
        }
      ],
      "source": [
        "orders_df.duplicated().sum()"
      ]
    },
    {
      "cell_type": "markdown",
      "metadata": {},
      "source": [
        "tidak ada data duplikat"
      ]
    },
    {
      "cell_type": "markdown",
      "metadata": {},
      "source": [
        "##### memeriksa tipe data"
      ]
    },
    {
      "cell_type": "code",
      "execution_count": 28,
      "metadata": {},
      "outputs": [
        {
          "name": "stdout",
          "output_type": "stream",
          "text": [
            "<class 'pandas.core.frame.DataFrame'>\n",
            "RangeIndex: 99441 entries, 0 to 99440\n",
            "Data columns (total 8 columns):\n",
            " #   Column                         Non-Null Count  Dtype \n",
            "---  ------                         --------------  ----- \n",
            " 0   order_id                       99441 non-null  object\n",
            " 1   customer_id                    99441 non-null  object\n",
            " 2   order_status                   99441 non-null  object\n",
            " 3   order_purchase_timestamp       99441 non-null  object\n",
            " 4   order_approved_at              99281 non-null  object\n",
            " 5   order_delivered_carrier_date   97658 non-null  object\n",
            " 6   order_delivered_customer_date  96476 non-null  object\n",
            " 7   order_estimated_delivery_date  99441 non-null  object\n",
            "dtypes: object(8)\n",
            "memory usage: 6.1+ MB\n"
          ]
        }
      ],
      "source": [
        "orders_df.info()"
      ]
    },
    {
      "cell_type": "markdown",
      "metadata": {},
      "source": [
        "terdapat kesalahan tipe data pada kolom :\n",
        "- 'order_purchase_timestamp'\n",
        "- 'order_approved_at'\n",
        "- 'order_delivered_carrier_date\n",
        "- 'order_delivered_customer_date'\n",
        "- 'order_estimated_delivery_date\n"
      ]
    },
    {
      "cell_type": "markdown",
      "metadata": {},
      "source": [
        "#### menilai data products_category_translation_name_df"
      ]
    },
    {
      "cell_type": "markdown",
      "metadata": {},
      "source": [
        "##### memeriksa missing value"
      ]
    },
    {
      "cell_type": "code",
      "execution_count": 29,
      "metadata": {},
      "outputs": [
        {
          "data": {
            "text/plain": [
              "product_category_name            0\n",
              "product_category_name_english    0\n",
              "dtype: int64"
            ]
          },
          "execution_count": 29,
          "metadata": {},
          "output_type": "execute_result"
        }
      ],
      "source": [
        "product_category_name_translation_df.isna().sum()"
      ]
    },
    {
      "cell_type": "markdown",
      "metadata": {},
      "source": [
        "tidak terdapat missing value"
      ]
    },
    {
      "cell_type": "markdown",
      "metadata": {},
      "source": [
        "##### memeriksa data duplikat"
      ]
    },
    {
      "cell_type": "code",
      "execution_count": 30,
      "metadata": {},
      "outputs": [
        {
          "data": {
            "text/plain": [
              "0"
            ]
          },
          "execution_count": 30,
          "metadata": {},
          "output_type": "execute_result"
        }
      ],
      "source": [
        "product_category_name_translation_df.duplicated().sum()"
      ]
    },
    {
      "cell_type": "markdown",
      "metadata": {},
      "source": [
        "tidak ada data duplikat"
      ]
    },
    {
      "cell_type": "markdown",
      "metadata": {},
      "source": [
        "##### memeriksa tipe data"
      ]
    },
    {
      "cell_type": "code",
      "execution_count": 31,
      "metadata": {},
      "outputs": [
        {
          "name": "stdout",
          "output_type": "stream",
          "text": [
            "<class 'pandas.core.frame.DataFrame'>\n",
            "RangeIndex: 71 entries, 0 to 70\n",
            "Data columns (total 2 columns):\n",
            " #   Column                         Non-Null Count  Dtype \n",
            "---  ------                         --------------  ----- \n",
            " 0   product_category_name          71 non-null     object\n",
            " 1   product_category_name_english  71 non-null     object\n",
            "dtypes: object(2)\n",
            "memory usage: 1.2+ KB\n"
          ]
        }
      ],
      "source": [
        "product_category_name_translation_df.info()"
      ]
    },
    {
      "cell_type": "markdown",
      "metadata": {},
      "source": [
        "tipe data sudah sesuai"
      ]
    },
    {
      "cell_type": "markdown",
      "metadata": {},
      "source": [
        "#### menilai data products_df"
      ]
    },
    {
      "cell_type": "markdown",
      "metadata": {},
      "source": [
        "##### memeriksa missing value"
      ]
    },
    {
      "cell_type": "code",
      "execution_count": 32,
      "metadata": {},
      "outputs": [
        {
          "data": {
            "text/plain": [
              "product_id                      0\n",
              "product_category_name         610\n",
              "product_name_lenght           610\n",
              "product_description_lenght    610\n",
              "product_photos_qty            610\n",
              "product_weight_g                2\n",
              "product_length_cm               2\n",
              "product_height_cm               2\n",
              "product_width_cm                2\n",
              "dtype: int64"
            ]
          },
          "execution_count": 32,
          "metadata": {},
          "output_type": "execute_result"
        }
      ],
      "source": [
        "products_df.isna().sum()"
      ]
    },
    {
      "cell_type": "markdown",
      "metadata": {},
      "source": [
        "terdapat missing value pada kolom :\n",
        "- 'product_category_name'\n",
        "- 'product_name_lenght'\n",
        "- 'product_description_lenght'\n",
        "- 'product_photos_qty\n",
        "- 'product_weight_g'\n",
        "- 'product_length_cm'\n",
        "- 'product_height_cm'\n",
        "- 'product_width_cm\n"
      ]
    },
    {
      "cell_type": "markdown",
      "metadata": {},
      "source": [
        "##### memeriksa data duplikat"
      ]
    },
    {
      "cell_type": "code",
      "execution_count": 33,
      "metadata": {},
      "outputs": [
        {
          "data": {
            "text/plain": [
              "0"
            ]
          },
          "execution_count": 33,
          "metadata": {},
          "output_type": "execute_result"
        }
      ],
      "source": [
        "products_df.duplicated().sum()"
      ]
    },
    {
      "cell_type": "markdown",
      "metadata": {},
      "source": [
        "tidak ada data duplikat"
      ]
    },
    {
      "cell_type": "markdown",
      "metadata": {},
      "source": [
        "##### memeriksa tipe data"
      ]
    },
    {
      "cell_type": "code",
      "execution_count": 34,
      "metadata": {},
      "outputs": [
        {
          "name": "stdout",
          "output_type": "stream",
          "text": [
            "<class 'pandas.core.frame.DataFrame'>\n",
            "RangeIndex: 32951 entries, 0 to 32950\n",
            "Data columns (total 9 columns):\n",
            " #   Column                      Non-Null Count  Dtype  \n",
            "---  ------                      --------------  -----  \n",
            " 0   product_id                  32951 non-null  object \n",
            " 1   product_category_name       32341 non-null  object \n",
            " 2   product_name_lenght         32341 non-null  float64\n",
            " 3   product_description_lenght  32341 non-null  float64\n",
            " 4   product_photos_qty          32341 non-null  float64\n",
            " 5   product_weight_g            32949 non-null  float64\n",
            " 6   product_length_cm           32949 non-null  float64\n",
            " 7   product_height_cm           32949 non-null  float64\n",
            " 8   product_width_cm            32949 non-null  float64\n",
            "dtypes: float64(7), object(2)\n",
            "memory usage: 2.3+ MB\n"
          ]
        }
      ],
      "source": [
        "products_df.info()"
      ]
    },
    {
      "cell_type": "markdown",
      "metadata": {},
      "source": [
        "tipe data sudah sesuai"
      ]
    },
    {
      "cell_type": "markdown",
      "metadata": {},
      "source": [
        "#### menilai data sellers_df"
      ]
    },
    {
      "cell_type": "markdown",
      "metadata": {},
      "source": [
        "##### memeriksa missing value"
      ]
    },
    {
      "cell_type": "code",
      "execution_count": 35,
      "metadata": {},
      "outputs": [
        {
          "data": {
            "text/plain": [
              "seller_id                 0\n",
              "seller_zip_code_prefix    0\n",
              "seller_city               0\n",
              "seller_state              0\n",
              "dtype: int64"
            ]
          },
          "execution_count": 35,
          "metadata": {},
          "output_type": "execute_result"
        }
      ],
      "source": [
        "sellers_df.isna().sum()"
      ]
    },
    {
      "cell_type": "markdown",
      "metadata": {},
      "source": [
        "tidak terdapat missing value"
      ]
    },
    {
      "cell_type": "markdown",
      "metadata": {},
      "source": [
        "##### memeriksa data duplikat"
      ]
    },
    {
      "cell_type": "code",
      "execution_count": 36,
      "metadata": {},
      "outputs": [
        {
          "data": {
            "text/plain": [
              "0"
            ]
          },
          "execution_count": 36,
          "metadata": {},
          "output_type": "execute_result"
        }
      ],
      "source": [
        "sellers_df.duplicated().sum()"
      ]
    },
    {
      "cell_type": "markdown",
      "metadata": {},
      "source": [
        "tidak ada data duplikat"
      ]
    },
    {
      "cell_type": "markdown",
      "metadata": {},
      "source": [
        "##### memeriksa tipe data"
      ]
    },
    {
      "cell_type": "code",
      "execution_count": 37,
      "metadata": {},
      "outputs": [
        {
          "name": "stdout",
          "output_type": "stream",
          "text": [
            "<class 'pandas.core.frame.DataFrame'>\n",
            "RangeIndex: 3095 entries, 0 to 3094\n",
            "Data columns (total 4 columns):\n",
            " #   Column                  Non-Null Count  Dtype \n",
            "---  ------                  --------------  ----- \n",
            " 0   seller_id               3095 non-null   object\n",
            " 1   seller_zip_code_prefix  3095 non-null   int64 \n",
            " 2   seller_city             3095 non-null   object\n",
            " 3   seller_state            3095 non-null   object\n",
            "dtypes: int64(1), object(3)\n",
            "memory usage: 96.8+ KB\n"
          ]
        }
      ],
      "source": [
        "sellers_df.info()"
      ]
    },
    {
      "cell_type": "markdown",
      "metadata": {},
      "source": [
        "tipe data sudah sesuai"
      ]
    },
    {
      "cell_type": "markdown",
      "metadata": {
        "id": "Uz5dgcJm9HW5"
      },
      "source": [
        "### Cleaning Data"
      ]
    },
    {
      "cell_type": "markdown",
      "metadata": {},
      "source": [
        "#### cleaning geolocation_df"
      ]
    },
    {
      "cell_type": "markdown",
      "metadata": {},
      "source": [
        "##### drop data duplikat"
      ]
    },
    {
      "cell_type": "code",
      "execution_count": 38,
      "metadata": {
        "id": "CCszTdXD9Ivf"
      },
      "outputs": [
        {
          "data": {
            "text/plain": [
              "0"
            ]
          },
          "execution_count": 38,
          "metadata": {},
          "output_type": "execute_result"
        }
      ],
      "source": [
        "geolocation_df.drop_duplicates(inplace=True)\n",
        "geolocation_df.duplicated().sum()"
      ]
    },
    {
      "cell_type": "markdown",
      "metadata": {},
      "source": [
        "sudah tidak ada data duplikat"
      ]
    },
    {
      "cell_type": "markdown",
      "metadata": {},
      "source": [
        "#### cleaning order_items_df"
      ]
    },
    {
      "cell_type": "markdown",
      "metadata": {},
      "source": [
        "##### mengganti tipe data"
      ]
    },
    {
      "cell_type": "code",
      "execution_count": 39,
      "metadata": {},
      "outputs": [
        {
          "name": "stdout",
          "output_type": "stream",
          "text": [
            "<class 'pandas.core.frame.DataFrame'>\n",
            "RangeIndex: 112650 entries, 0 to 112649\n",
            "Data columns (total 7 columns):\n",
            " #   Column               Non-Null Count   Dtype  \n",
            "---  ------               --------------   -----  \n",
            " 0   order_id             112650 non-null  object \n",
            " 1   order_item_id        112650 non-null  int64  \n",
            " 2   product_id           112650 non-null  object \n",
            " 3   seller_id            112650 non-null  object \n",
            " 4   shipping_limit_date  112650 non-null  object \n",
            " 5   price                112650 non-null  float64\n",
            " 6   freight_value        112650 non-null  float64\n",
            "dtypes: float64(2), int64(1), object(4)\n",
            "memory usage: 6.0+ MB\n"
          ]
        }
      ],
      "source": [
        "order_items_df.info()"
      ]
    },
    {
      "cell_type": "markdown",
      "metadata": {},
      "source": [
        "jika diperhatikan, kolom 'shipping_limit_date' memiliki kesalahan tipe data yang dimana seharusnya bertime datetime"
      ]
    },
    {
      "cell_type": "code",
      "execution_count": 40,
      "metadata": {},
      "outputs": [
        {
          "name": "stdout",
          "output_type": "stream",
          "text": [
            "<class 'pandas.core.frame.DataFrame'>\n",
            "RangeIndex: 112650 entries, 0 to 112649\n",
            "Data columns (total 7 columns):\n",
            " #   Column               Non-Null Count   Dtype         \n",
            "---  ------               --------------   -----         \n",
            " 0   order_id             112650 non-null  object        \n",
            " 1   order_item_id        112650 non-null  int64         \n",
            " 2   product_id           112650 non-null  object        \n",
            " 3   seller_id            112650 non-null  object        \n",
            " 4   shipping_limit_date  112650 non-null  datetime64[ns]\n",
            " 5   price                112650 non-null  float64       \n",
            " 6   freight_value        112650 non-null  float64       \n",
            "dtypes: datetime64[ns](1), float64(2), int64(1), object(3)\n",
            "memory usage: 6.0+ MB\n"
          ]
        }
      ],
      "source": [
        "datetime_columns = ['shipping_limit_date']\n",
        "for column in datetime_columns:\n",
        "    order_items_df[column]=pd.to_datetime(order_items_df[column])\n",
        "order_items_df.info()"
      ]
    },
    {
      "cell_type": "markdown",
      "metadata": {},
      "source": [
        "tipe data sudah sesuai"
      ]
    },
    {
      "cell_type": "markdown",
      "metadata": {},
      "source": [
        "#### cleaning order_review"
      ]
    },
    {
      "cell_type": "markdown",
      "metadata": {},
      "source": [
        "##### handle missing value"
      ]
    },
    {
      "cell_type": "code",
      "execution_count": 41,
      "metadata": {},
      "outputs": [
        {
          "data": {
            "text/plain": [
              "review_id                      0\n",
              "order_id                       0\n",
              "review_score                   0\n",
              "review_comment_title       87656\n",
              "review_comment_message     58247\n",
              "review_creation_date           0\n",
              "review_answer_timestamp        0\n",
              "dtype: int64"
            ]
          },
          "execution_count": 41,
          "metadata": {},
          "output_type": "execute_result"
        }
      ],
      "source": [
        "order_reviews_df.isna().sum()"
      ]
    },
    {
      "cell_type": "markdown",
      "metadata": {},
      "source": [
        "jika diperhatikan, terdapat banyak jumlah missing value. sayang jika langsung membuang informasi itu semua. maka disini saya akan menggunakan metode fillna untuk mengganti missing values"
      ]
    },
    {
      "cell_type": "code",
      "execution_count": 42,
      "metadata": {},
      "outputs": [
        {
          "data": {
            "text/plain": [
              "review_comment_title\n",
              "Recomendo                    423\n",
              "recomendo                    345\n",
              "Bom                          293\n",
              "super recomendo              270\n",
              "Excelente                    248\n",
              "                            ... \n",
              "Luminaria sobrepor led 18      1\n",
              "Não recebi.                    1\n",
              "produto com lacre violado      1\n",
              "Atraso Entrega                 1\n",
              "Foto enganosa                  1\n",
              "Name: count, Length: 4527, dtype: int64"
            ]
          },
          "execution_count": 42,
          "metadata": {},
          "output_type": "execute_result"
        }
      ],
      "source": [
        "order_reviews_df.review_comment_title.value_counts()"
      ]
    },
    {
      "cell_type": "markdown",
      "metadata": {},
      "source": [
        "saya akan menggunakan nilai yang paling dominan (Recomendo) untuk mengganti missing values pada kolom 'review_comment_title'"
      ]
    },
    {
      "cell_type": "code",
      "execution_count": 43,
      "metadata": {},
      "outputs": [
        {
          "data": {
            "text/plain": [
              "review_comment_message\n",
              "Muito bom                                                                                                                                                                                              230\n",
              "Bom                                                                                                                                                                                                    189\n",
              "muito bom                                                                                                                                                                                              122\n",
              "bom                                                                                                                                                                                                    107\n",
              "Recomendo                                                                                                                                                                                              100\n",
              "                                                                                                                                                                                                      ... \n",
              "PRODUTO FOI ENTREGUE VIA CORREIOS\\r\\nANTES DO PRAZO PREVISTO.                                                                                                                                            1\n",
              "Devido incompatibilidade vou devolver, ótimo produto!                                                                                                                                                    1\n",
              "Infelizmente não! A qualidade do produto não agradou.Impressão da foto em exposição remete a um tamanho maior e a recebida sequer atende a uma criança. PRODUTO NÃO JUSTIFICA O VALOR INFELIZMENTE!      1\n",
              "entrega na data prevista,somente a qualidade do material não é o mesmo que eu pensava mas pelo preço ta valido                                                                                           1\n",
              "meu produto chegou e ja tenho que devolver, pois está com defeito , não segurar carga                                                                                                                    1\n",
              "Name: count, Length: 36159, dtype: int64"
            ]
          },
          "execution_count": 43,
          "metadata": {},
          "output_type": "execute_result"
        }
      ],
      "source": [
        "order_reviews_df.review_comment_message.value_counts()"
      ]
    },
    {
      "cell_type": "markdown",
      "metadata": {},
      "source": [
        "saya akan menggunakan nilai yang paling dominan (Muito bom) untuk mengganti missing values pada kolom 'review_comment_message'"
      ]
    },
    {
      "cell_type": "code",
      "execution_count": 44,
      "metadata": {},
      "outputs": [
        {
          "data": {
            "text/plain": [
              "review_id                  0\n",
              "order_id                   0\n",
              "review_score               0\n",
              "review_comment_title       0\n",
              "review_comment_message     0\n",
              "review_creation_date       0\n",
              "review_answer_timestamp    0\n",
              "dtype: int64"
            ]
          },
          "execution_count": 44,
          "metadata": {},
          "output_type": "execute_result"
        }
      ],
      "source": [
        "order_reviews_df.review_comment_title.fillna(value='Recomendo',inplace=True)\n",
        "order_reviews_df.review_comment_message.fillna(value='Muito bom',inplace=True)\n",
        "order_reviews_df.isna().sum()"
      ]
    },
    {
      "cell_type": "markdown",
      "metadata": {},
      "source": [
        "sudah tidak ada missing values"
      ]
    },
    {
      "cell_type": "markdown",
      "metadata": {},
      "source": [
        "##### mengganti tipe data"
      ]
    },
    {
      "cell_type": "code",
      "execution_count": 45,
      "metadata": {},
      "outputs": [
        {
          "name": "stdout",
          "output_type": "stream",
          "text": [
            "<class 'pandas.core.frame.DataFrame'>\n",
            "RangeIndex: 99224 entries, 0 to 99223\n",
            "Data columns (total 7 columns):\n",
            " #   Column                   Non-Null Count  Dtype \n",
            "---  ------                   --------------  ----- \n",
            " 0   review_id                99224 non-null  object\n",
            " 1   order_id                 99224 non-null  object\n",
            " 2   review_score             99224 non-null  int64 \n",
            " 3   review_comment_title     99224 non-null  object\n",
            " 4   review_comment_message   99224 non-null  object\n",
            " 5   review_creation_date     99224 non-null  object\n",
            " 6   review_answer_timestamp  99224 non-null  object\n",
            "dtypes: int64(1), object(6)\n",
            "memory usage: 5.3+ MB\n"
          ]
        }
      ],
      "source": [
        "order_reviews_df.info()"
      ]
    },
    {
      "cell_type": "markdown",
      "metadata": {},
      "source": [
        "jika diperhatikan pada kolom 'review_creation_date' dan 'review_answer_timestamp' memiliki tipe data object yang dimana seharusnya bertipe data datetime"
      ]
    },
    {
      "cell_type": "code",
      "execution_count": 46,
      "metadata": {},
      "outputs": [
        {
          "name": "stdout",
          "output_type": "stream",
          "text": [
            "<class 'pandas.core.frame.DataFrame'>\n",
            "RangeIndex: 99224 entries, 0 to 99223\n",
            "Data columns (total 7 columns):\n",
            " #   Column                   Non-Null Count  Dtype         \n",
            "---  ------                   --------------  -----         \n",
            " 0   review_id                99224 non-null  object        \n",
            " 1   order_id                 99224 non-null  object        \n",
            " 2   review_score             99224 non-null  int64         \n",
            " 3   review_comment_title     99224 non-null  object        \n",
            " 4   review_comment_message   99224 non-null  object        \n",
            " 5   review_creation_date     99224 non-null  datetime64[ns]\n",
            " 6   review_answer_timestamp  99224 non-null  datetime64[ns]\n",
            "dtypes: datetime64[ns](2), int64(1), object(4)\n",
            "memory usage: 5.3+ MB\n"
          ]
        }
      ],
      "source": [
        "datetime_columns = ['review_creation_date','review_answer_timestamp']\n",
        "for column in datetime_columns:\n",
        "    order_reviews_df[column]=pd.to_datetime(order_reviews_df[column])\n",
        "order_reviews_df.info()"
      ]
    },
    {
      "cell_type": "markdown",
      "metadata": {},
      "source": [
        "tipe data sudah sesuai"
      ]
    },
    {
      "cell_type": "markdown",
      "metadata": {},
      "source": [
        "#### cleaning orders_df"
      ]
    },
    {
      "cell_type": "markdown",
      "metadata": {},
      "source": [
        "##### mengganti tipe data"
      ]
    },
    {
      "cell_type": "code",
      "execution_count": 47,
      "metadata": {},
      "outputs": [
        {
          "name": "stdout",
          "output_type": "stream",
          "text": [
            "<class 'pandas.core.frame.DataFrame'>\n",
            "RangeIndex: 99441 entries, 0 to 99440\n",
            "Data columns (total 8 columns):\n",
            " #   Column                         Non-Null Count  Dtype \n",
            "---  ------                         --------------  ----- \n",
            " 0   order_id                       99441 non-null  object\n",
            " 1   customer_id                    99441 non-null  object\n",
            " 2   order_status                   99441 non-null  object\n",
            " 3   order_purchase_timestamp       99441 non-null  object\n",
            " 4   order_approved_at              99281 non-null  object\n",
            " 5   order_delivered_carrier_date   97658 non-null  object\n",
            " 6   order_delivered_customer_date  96476 non-null  object\n",
            " 7   order_estimated_delivery_date  99441 non-null  object\n",
            "dtypes: object(8)\n",
            "memory usage: 6.1+ MB\n"
          ]
        }
      ],
      "source": [
        "orders_df.info()"
      ]
    },
    {
      "cell_type": "markdown",
      "metadata": {},
      "source": [
        "jika diperhatikan, pada kolom 'order_purchase_timestamp', 'order_approved_at', 'order_delivered_carrier_date', 'order_delivered_customer_date', 'order_estimated_delivery_date' bertipe object yang dimana seharusnya bertipe data datetime"
      ]
    },
    {
      "cell_type": "code",
      "execution_count": 48,
      "metadata": {},
      "outputs": [
        {
          "name": "stdout",
          "output_type": "stream",
          "text": [
            "<class 'pandas.core.frame.DataFrame'>\n",
            "RangeIndex: 99441 entries, 0 to 99440\n",
            "Data columns (total 8 columns):\n",
            " #   Column                         Non-Null Count  Dtype         \n",
            "---  ------                         --------------  -----         \n",
            " 0   order_id                       99441 non-null  object        \n",
            " 1   customer_id                    99441 non-null  object        \n",
            " 2   order_status                   99441 non-null  object        \n",
            " 3   order_purchase_timestamp       99441 non-null  datetime64[ns]\n",
            " 4   order_approved_at              99281 non-null  datetime64[ns]\n",
            " 5   order_delivered_carrier_date   97658 non-null  datetime64[ns]\n",
            " 6   order_delivered_customer_date  96476 non-null  datetime64[ns]\n",
            " 7   order_estimated_delivery_date  99441 non-null  datetime64[ns]\n",
            "dtypes: datetime64[ns](5), object(3)\n",
            "memory usage: 6.1+ MB\n"
          ]
        }
      ],
      "source": [
        "datetime_columns=['order_purchase_timestamp', 'order_approved_at', 'order_delivered_carrier_date', 'order_delivered_customer_date', 'order_estimated_delivery_date']\n",
        "for column in datetime_columns:\n",
        "    orders_df[column]=pd.to_datetime(orders_df[column])\n",
        "orders_df.info()"
      ]
    },
    {
      "cell_type": "markdown",
      "metadata": {},
      "source": [
        "tipe data sudah sesuai"
      ]
    },
    {
      "cell_type": "markdown",
      "metadata": {},
      "source": [
        "##### handle missing values"
      ]
    },
    {
      "cell_type": "code",
      "execution_count": 49,
      "metadata": {},
      "outputs": [
        {
          "data": {
            "text/plain": [
              "order_id                            0\n",
              "customer_id                         0\n",
              "order_status                        0\n",
              "order_purchase_timestamp            0\n",
              "order_approved_at                 160\n",
              "order_delivered_carrier_date     1783\n",
              "order_delivered_customer_date    2965\n",
              "order_estimated_delivery_date       0\n",
              "dtype: int64"
            ]
          },
          "execution_count": 49,
          "metadata": {},
          "output_type": "execute_result"
        }
      ],
      "source": [
        "orders_df.isna().sum()"
      ]
    },
    {
      "cell_type": "markdown",
      "metadata": {},
      "source": [
        "jika diperhatikan, terdapat banyak jumlah missing values. sayang jika langsung membuang informasi tersebut. maka disini saya akan menggunakan metode fillna untuk mengganti missing values"
      ]
    },
    {
      "cell_type": "code",
      "execution_count": 50,
      "metadata": {},
      "outputs": [
        {
          "data": {
            "text/plain": [
              "Timestamp('2017-12-31 18:35:24.098800128')"
            ]
          },
          "execution_count": 50,
          "metadata": {},
          "output_type": "execute_result"
        }
      ],
      "source": [
        "orders_df.order_approved_at.mean()"
      ]
    },
    {
      "cell_type": "markdown",
      "metadata": {},
      "source": [
        "saya akan gunakan nilai mean ('2017-12-31 18:35:24') untuk mengganti missing values"
      ]
    },
    {
      "cell_type": "code",
      "execution_count": 51,
      "metadata": {},
      "outputs": [
        {
          "data": {
            "text/plain": [
              "Timestamp('2018-01-04 21:49:48.138278656')"
            ]
          },
          "execution_count": 51,
          "metadata": {},
          "output_type": "execute_result"
        }
      ],
      "source": [
        "orders_df.order_delivered_carrier_date.mean()"
      ]
    },
    {
      "cell_type": "markdown",
      "metadata": {},
      "source": [
        "saya akan gunakan nilai mean ('2018-01-04 21:49:48') untuk mengganti missing values"
      ]
    },
    {
      "cell_type": "code",
      "execution_count": 52,
      "metadata": {},
      "outputs": [
        {
          "data": {
            "text/plain": [
              "Timestamp('2018-01-14 12:09:19.035542272')"
            ]
          },
          "execution_count": 52,
          "metadata": {},
          "output_type": "execute_result"
        }
      ],
      "source": [
        "orders_df.order_delivered_customer_date.mean()"
      ]
    },
    {
      "cell_type": "markdown",
      "metadata": {},
      "source": [
        "saya akan gunakan nilai mean ('2018-01-14 12:09:19') untuk mengganti missing values"
      ]
    },
    {
      "cell_type": "code",
      "execution_count": 53,
      "metadata": {},
      "outputs": [
        {
          "data": {
            "text/plain": [
              "order_id                         0\n",
              "customer_id                      0\n",
              "order_status                     0\n",
              "order_purchase_timestamp         0\n",
              "order_approved_at                0\n",
              "order_delivered_carrier_date     0\n",
              "order_delivered_customer_date    0\n",
              "order_estimated_delivery_date    0\n",
              "dtype: int64"
            ]
          },
          "execution_count": 53,
          "metadata": {},
          "output_type": "execute_result"
        }
      ],
      "source": [
        "orders_df.order_approved_at.fillna(value='2017-12-31 18:35:24',inplace=True)\n",
        "orders_df.order_delivered_carrier_date.fillna(value='2018-01-04 21:49:48',inplace=True)\n",
        "orders_df.order_delivered_customer_date.fillna(value='2018-01-14 12:09:19',inplace=True)\n",
        "orders_df.isna().sum()"
      ]
    },
    {
      "cell_type": "markdown",
      "metadata": {},
      "source": [
        "sudah tidak terdapat missing values"
      ]
    },
    {
      "cell_type": "markdown",
      "metadata": {},
      "source": [
        "#### cleaning products_df"
      ]
    },
    {
      "cell_type": "code",
      "execution_count": 54,
      "metadata": {},
      "outputs": [
        {
          "name": "stdout",
          "output_type": "stream",
          "text": [
            "<class 'pandas.core.frame.DataFrame'>\n",
            "RangeIndex: 32951 entries, 0 to 32950\n",
            "Data columns (total 9 columns):\n",
            " #   Column                      Non-Null Count  Dtype  \n",
            "---  ------                      --------------  -----  \n",
            " 0   product_id                  32951 non-null  object \n",
            " 1   product_category_name       32341 non-null  object \n",
            " 2   product_name_lenght         32341 non-null  float64\n",
            " 3   product_description_lenght  32341 non-null  float64\n",
            " 4   product_photos_qty          32341 non-null  float64\n",
            " 5   product_weight_g            32949 non-null  float64\n",
            " 6   product_length_cm           32949 non-null  float64\n",
            " 7   product_height_cm           32949 non-null  float64\n",
            " 8   product_width_cm            32949 non-null  float64\n",
            "dtypes: float64(7), object(2)\n",
            "memory usage: 2.3+ MB\n"
          ]
        }
      ],
      "source": [
        "products_df.info()"
      ]
    },
    {
      "cell_type": "markdown",
      "metadata": {},
      "source": [
        "##### handle missing values"
      ]
    },
    {
      "cell_type": "code",
      "execution_count": 55,
      "metadata": {},
      "outputs": [
        {
          "data": {
            "text/plain": [
              "product_id                      0\n",
              "product_category_name         610\n",
              "product_name_lenght           610\n",
              "product_description_lenght    610\n",
              "product_photos_qty            610\n",
              "product_weight_g                2\n",
              "product_length_cm               2\n",
              "product_height_cm               2\n",
              "product_width_cm                2\n",
              "dtype: int64"
            ]
          },
          "execution_count": 55,
          "metadata": {},
          "output_type": "execute_result"
        }
      ],
      "source": [
        "products_df.isna().sum()"
      ]
    },
    {
      "cell_type": "markdown",
      "metadata": {},
      "source": [
        "jika diperhatikan pada kolom 'product_category_name', 'product_name_lenght', 'product_description_lenght', 'product_photos_qty' terdapat banyak missing values. maka saya akan menggunakan metode fillna untuk mengganti missing values tersebut.\n",
        "\n",
        "untuk kolom 'product_weight_g', 'product_length_cm', 'product_height_cm', 'product_width_cm' jumlah missing values nya tidak terlalu banyak, maka saya akan gunakan metode dropna untuk missing values tersebut  "
      ]
    },
    {
      "cell_type": "code",
      "execution_count": 56,
      "metadata": {},
      "outputs": [
        {
          "data": {
            "text/plain": [
              "product_category_name\n",
              "cama_mesa_banho                  3029\n",
              "esporte_lazer                    2867\n",
              "moveis_decoracao                 2657\n",
              "beleza_saude                     2444\n",
              "utilidades_domesticas            2335\n",
              "                                 ... \n",
              "fashion_roupa_infanto_juvenil       5\n",
              "casa_conforto_2                     5\n",
              "pc_gamer                            3\n",
              "seguros_e_servicos                  2\n",
              "cds_dvds_musicais                   1\n",
              "Name: count, Length: 73, dtype: int64"
            ]
          },
          "execution_count": 56,
          "metadata": {},
          "output_type": "execute_result"
        }
      ],
      "source": [
        "products_df.product_category_name.value_counts()"
      ]
    },
    {
      "cell_type": "markdown",
      "metadata": {},
      "source": [
        "saya akan gunakan nilai dominan (cama_mesa_banho) untuk mengganti missing values tersebut"
      ]
    },
    {
      "cell_type": "code",
      "execution_count": 57,
      "metadata": {},
      "outputs": [
        {
          "data": {
            "text/plain": [
              "48.47694876472589"
            ]
          },
          "execution_count": 57,
          "metadata": {},
          "output_type": "execute_result"
        }
      ],
      "source": [
        "products_df.product_name_lenght.mean()"
      ]
    },
    {
      "cell_type": "markdown",
      "metadata": {},
      "source": [
        "saya akan gunakan nilai mean (48.5) untuk mengganti missing values"
      ]
    },
    {
      "cell_type": "code",
      "execution_count": 58,
      "metadata": {},
      "outputs": [
        {
          "data": {
            "text/plain": [
              "771.4952846232337"
            ]
          },
          "execution_count": 58,
          "metadata": {},
          "output_type": "execute_result"
        }
      ],
      "source": [
        "products_df.product_description_lenght.mean()"
      ]
    },
    {
      "cell_type": "markdown",
      "metadata": {},
      "source": [
        "saya akan gunakan nilai mean (771.5) untuk mengganti missing values"
      ]
    },
    {
      "cell_type": "code",
      "execution_count": 59,
      "metadata": {},
      "outputs": [
        {
          "data": {
            "text/plain": [
              "2.1889861166939797"
            ]
          },
          "execution_count": 59,
          "metadata": {},
          "output_type": "execute_result"
        }
      ],
      "source": [
        "products_df.product_photos_qty.mean()"
      ]
    },
    {
      "cell_type": "markdown",
      "metadata": {},
      "source": [
        "saya akan gunakan nilai mean (2.2) untuk mengganti missing values"
      ]
    },
    {
      "cell_type": "code",
      "execution_count": 60,
      "metadata": {},
      "outputs": [
        {
          "data": {
            "text/plain": [
              "product_id                    0\n",
              "product_category_name         0\n",
              "product_name_lenght           0\n",
              "product_description_lenght    0\n",
              "product_photos_qty            0\n",
              "product_weight_g              0\n",
              "product_length_cm             0\n",
              "product_height_cm             0\n",
              "product_width_cm              0\n",
              "dtype: int64"
            ]
          },
          "execution_count": 60,
          "metadata": {},
          "output_type": "execute_result"
        }
      ],
      "source": [
        "products_df.product_category_name.fillna(value='cama_mesa_banho',inplace=True)\n",
        "products_df.product_name_lenght.fillna(value=48.5,inplace=True)\n",
        "products_df.product_description_lenght.fillna(value=771.4,inplace=True)\n",
        "products_df.product_photos_qty.fillna(value=2.1,inplace=True)\n",
        "products_df.dropna(subset=['product_weight_g', 'product_length_cm', 'product_height_cm', 'product_width_cm'], inplace=True)\n",
        "products_df.isna().sum()"
      ]
    },
    {
      "cell_type": "markdown",
      "metadata": {},
      "source": [
        "sudah tidak terdapat missing values"
      ]
    },
    {
      "cell_type": "markdown",
      "metadata": {
        "id": "EyPJaCDm9KFb"
      },
      "source": [
        "## Exploratory Data Analysis (EDA)"
      ]
    },
    {
      "cell_type": "markdown",
      "metadata": {
        "id": "hxgJ6qd69Mce"
      },
      "source": [
        "### Explore data customers_df"
      ]
    },
    {
      "cell_type": "code",
      "execution_count": 61,
      "metadata": {
        "id": "Xo68yguo9LTl"
      },
      "outputs": [
        {
          "data": {
            "text/html": [
              "<div>\n",
              "<style scoped>\n",
              "    .dataframe tbody tr th:only-of-type {\n",
              "        vertical-align: middle;\n",
              "    }\n",
              "\n",
              "    .dataframe tbody tr th {\n",
              "        vertical-align: top;\n",
              "    }\n",
              "\n",
              "    .dataframe thead th {\n",
              "        text-align: right;\n",
              "    }\n",
              "</style>\n",
              "<table border=\"1\" class=\"dataframe\">\n",
              "  <thead>\n",
              "    <tr style=\"text-align: right;\">\n",
              "      <th></th>\n",
              "      <th>customer_id</th>\n",
              "      <th>customer_unique_id</th>\n",
              "      <th>customer_zip_code_prefix</th>\n",
              "      <th>customer_city</th>\n",
              "      <th>customer_state</th>\n",
              "    </tr>\n",
              "  </thead>\n",
              "  <tbody>\n",
              "    <tr>\n",
              "      <th>count</th>\n",
              "      <td>99441</td>\n",
              "      <td>99441</td>\n",
              "      <td>99441.000000</td>\n",
              "      <td>99441</td>\n",
              "      <td>99441</td>\n",
              "    </tr>\n",
              "    <tr>\n",
              "      <th>unique</th>\n",
              "      <td>99441</td>\n",
              "      <td>96096</td>\n",
              "      <td>NaN</td>\n",
              "      <td>4119</td>\n",
              "      <td>27</td>\n",
              "    </tr>\n",
              "    <tr>\n",
              "      <th>top</th>\n",
              "      <td>06b8999e2fba1a1fbc88172c00ba8bc7</td>\n",
              "      <td>8d50f5eadf50201ccdcedfb9e2ac8455</td>\n",
              "      <td>NaN</td>\n",
              "      <td>sao paulo</td>\n",
              "      <td>SP</td>\n",
              "    </tr>\n",
              "    <tr>\n",
              "      <th>freq</th>\n",
              "      <td>1</td>\n",
              "      <td>17</td>\n",
              "      <td>NaN</td>\n",
              "      <td>15540</td>\n",
              "      <td>41746</td>\n",
              "    </tr>\n",
              "    <tr>\n",
              "      <th>mean</th>\n",
              "      <td>NaN</td>\n",
              "      <td>NaN</td>\n",
              "      <td>35137.474583</td>\n",
              "      <td>NaN</td>\n",
              "      <td>NaN</td>\n",
              "    </tr>\n",
              "    <tr>\n",
              "      <th>std</th>\n",
              "      <td>NaN</td>\n",
              "      <td>NaN</td>\n",
              "      <td>29797.938996</td>\n",
              "      <td>NaN</td>\n",
              "      <td>NaN</td>\n",
              "    </tr>\n",
              "    <tr>\n",
              "      <th>min</th>\n",
              "      <td>NaN</td>\n",
              "      <td>NaN</td>\n",
              "      <td>1003.000000</td>\n",
              "      <td>NaN</td>\n",
              "      <td>NaN</td>\n",
              "    </tr>\n",
              "    <tr>\n",
              "      <th>25%</th>\n",
              "      <td>NaN</td>\n",
              "      <td>NaN</td>\n",
              "      <td>11347.000000</td>\n",
              "      <td>NaN</td>\n",
              "      <td>NaN</td>\n",
              "    </tr>\n",
              "    <tr>\n",
              "      <th>50%</th>\n",
              "      <td>NaN</td>\n",
              "      <td>NaN</td>\n",
              "      <td>24416.000000</td>\n",
              "      <td>NaN</td>\n",
              "      <td>NaN</td>\n",
              "    </tr>\n",
              "    <tr>\n",
              "      <th>75%</th>\n",
              "      <td>NaN</td>\n",
              "      <td>NaN</td>\n",
              "      <td>58900.000000</td>\n",
              "      <td>NaN</td>\n",
              "      <td>NaN</td>\n",
              "    </tr>\n",
              "    <tr>\n",
              "      <th>max</th>\n",
              "      <td>NaN</td>\n",
              "      <td>NaN</td>\n",
              "      <td>99990.000000</td>\n",
              "      <td>NaN</td>\n",
              "      <td>NaN</td>\n",
              "    </tr>\n",
              "  </tbody>\n",
              "</table>\n",
              "</div>"
            ],
            "text/plain": [
              "                             customer_id                customer_unique_id  \\\n",
              "count                              99441                             99441   \n",
              "unique                             99441                             96096   \n",
              "top     06b8999e2fba1a1fbc88172c00ba8bc7  8d50f5eadf50201ccdcedfb9e2ac8455   \n",
              "freq                                   1                                17   \n",
              "mean                                 NaN                               NaN   \n",
              "std                                  NaN                               NaN   \n",
              "min                                  NaN                               NaN   \n",
              "25%                                  NaN                               NaN   \n",
              "50%                                  NaN                               NaN   \n",
              "75%                                  NaN                               NaN   \n",
              "max                                  NaN                               NaN   \n",
              "\n",
              "        customer_zip_code_prefix customer_city customer_state  \n",
              "count               99441.000000         99441          99441  \n",
              "unique                       NaN          4119             27  \n",
              "top                          NaN     sao paulo             SP  \n",
              "freq                         NaN         15540          41746  \n",
              "mean                35137.474583           NaN            NaN  \n",
              "std                 29797.938996           NaN            NaN  \n",
              "min                  1003.000000           NaN            NaN  \n",
              "25%                 11347.000000           NaN            NaN  \n",
              "50%                 24416.000000           NaN            NaN  \n",
              "75%                 58900.000000           NaN            NaN  \n",
              "max                 99990.000000           NaN            NaN  "
            ]
          },
          "execution_count": 61,
          "metadata": {},
          "output_type": "execute_result"
        }
      ],
      "source": [
        "customers_df.describe(include='all')"
      ]
    },
    {
      "cell_type": "markdown",
      "metadata": {},
      "source": [
        "berdasarkan rangkuman parameter statistik diatas dapat disimpulkan bahwa jumlah customer sebanyak 99441"
      ]
    },
    {
      "cell_type": "markdown",
      "metadata": {},
      "source": [
        "kita bisa mengelompokan customer berdasarkan state dan kota nya"
      ]
    },
    {
      "cell_type": "code",
      "execution_count": 62,
      "metadata": {},
      "outputs": [
        {
          "data": {
            "text/plain": [
              "customer_state  customer_city \n",
              "SP              sao paulo         15540\n",
              "RJ              rio de janeiro     6882\n",
              "MG              belo horizonte     2773\n",
              "DF              brasilia           2131\n",
              "PR              curitiba           1521\n",
              "                                  ...  \n",
              "RS              cerro grande          1\n",
              "                cerrito               1\n",
              "                caseiros              1\n",
              "MG              ipuiuna               1\n",
              "AC              brasileia             1\n",
              "Name: customer_id, Length: 4310, dtype: int64"
            ]
          },
          "execution_count": 62,
          "metadata": {},
          "output_type": "execute_result"
        }
      ],
      "source": [
        "customers_df.groupby(by=['customer_state','customer_city']).customer_id.nunique().sort_values(ascending=False)"
      ]
    },
    {
      "cell_type": "markdown",
      "metadata": {},
      "source": [
        "berdasarkan informasi diatas, customer paling banyak bersal dari state SP kota sao paulo dengan jumlah 15540"
      ]
    },
    {
      "cell_type": "markdown",
      "metadata": {},
      "source": [
        "### explore data geolocation_df"
      ]
    },
    {
      "cell_type": "code",
      "execution_count": 63,
      "metadata": {},
      "outputs": [
        {
          "data": {
            "text/html": [
              "<div>\n",
              "<style scoped>\n",
              "    .dataframe tbody tr th:only-of-type {\n",
              "        vertical-align: middle;\n",
              "    }\n",
              "\n",
              "    .dataframe tbody tr th {\n",
              "        vertical-align: top;\n",
              "    }\n",
              "\n",
              "    .dataframe thead th {\n",
              "        text-align: right;\n",
              "    }\n",
              "</style>\n",
              "<table border=\"1\" class=\"dataframe\">\n",
              "  <thead>\n",
              "    <tr style=\"text-align: right;\">\n",
              "      <th></th>\n",
              "      <th>geolocation_zip_code_prefix</th>\n",
              "      <th>geolocation_lat</th>\n",
              "      <th>geolocation_lng</th>\n",
              "      <th>geolocation_city</th>\n",
              "      <th>geolocation_state</th>\n",
              "    </tr>\n",
              "  </thead>\n",
              "  <tbody>\n",
              "    <tr>\n",
              "      <th>count</th>\n",
              "      <td>738332.000000</td>\n",
              "      <td>738332.000000</td>\n",
              "      <td>738332.000000</td>\n",
              "      <td>738332</td>\n",
              "      <td>738332</td>\n",
              "    </tr>\n",
              "    <tr>\n",
              "      <th>unique</th>\n",
              "      <td>NaN</td>\n",
              "      <td>NaN</td>\n",
              "      <td>NaN</td>\n",
              "      <td>8011</td>\n",
              "      <td>27</td>\n",
              "    </tr>\n",
              "    <tr>\n",
              "      <th>top</th>\n",
              "      <td>NaN</td>\n",
              "      <td>NaN</td>\n",
              "      <td>NaN</td>\n",
              "      <td>sao paulo</td>\n",
              "      <td>SP</td>\n",
              "    </tr>\n",
              "    <tr>\n",
              "      <th>freq</th>\n",
              "      <td>NaN</td>\n",
              "      <td>NaN</td>\n",
              "      <td>NaN</td>\n",
              "      <td>79927</td>\n",
              "      <td>285976</td>\n",
              "    </tr>\n",
              "    <tr>\n",
              "      <th>mean</th>\n",
              "      <td>38316.086800</td>\n",
              "      <td>-20.998353</td>\n",
              "      <td>-46.461098</td>\n",
              "      <td>NaN</td>\n",
              "      <td>NaN</td>\n",
              "    </tr>\n",
              "    <tr>\n",
              "      <th>std</th>\n",
              "      <td>30632.496675</td>\n",
              "      <td>5.892315</td>\n",
              "      <td>4.393705</td>\n",
              "      <td>NaN</td>\n",
              "      <td>NaN</td>\n",
              "    </tr>\n",
              "    <tr>\n",
              "      <th>min</th>\n",
              "      <td>1001.000000</td>\n",
              "      <td>-36.605374</td>\n",
              "      <td>-101.466766</td>\n",
              "      <td>NaN</td>\n",
              "      <td>NaN</td>\n",
              "    </tr>\n",
              "    <tr>\n",
              "      <th>25%</th>\n",
              "      <td>12600.000000</td>\n",
              "      <td>-23.603061</td>\n",
              "      <td>-48.867822</td>\n",
              "      <td>NaN</td>\n",
              "      <td>NaN</td>\n",
              "    </tr>\n",
              "    <tr>\n",
              "      <th>50%</th>\n",
              "      <td>29144.000000</td>\n",
              "      <td>-22.873588</td>\n",
              "      <td>-46.647278</td>\n",
              "      <td>NaN</td>\n",
              "      <td>NaN</td>\n",
              "    </tr>\n",
              "    <tr>\n",
              "      <th>75%</th>\n",
              "      <td>65950.000000</td>\n",
              "      <td>-19.923336</td>\n",
              "      <td>-43.836974</td>\n",
              "      <td>NaN</td>\n",
              "      <td>NaN</td>\n",
              "    </tr>\n",
              "    <tr>\n",
              "      <th>max</th>\n",
              "      <td>99990.000000</td>\n",
              "      <td>45.065933</td>\n",
              "      <td>121.105394</td>\n",
              "      <td>NaN</td>\n",
              "      <td>NaN</td>\n",
              "    </tr>\n",
              "  </tbody>\n",
              "</table>\n",
              "</div>"
            ],
            "text/plain": [
              "        geolocation_zip_code_prefix  geolocation_lat  geolocation_lng  \\\n",
              "count                 738332.000000    738332.000000    738332.000000   \n",
              "unique                          NaN              NaN              NaN   \n",
              "top                             NaN              NaN              NaN   \n",
              "freq                            NaN              NaN              NaN   \n",
              "mean                   38316.086800       -20.998353       -46.461098   \n",
              "std                    30632.496675         5.892315         4.393705   \n",
              "min                     1001.000000       -36.605374      -101.466766   \n",
              "25%                    12600.000000       -23.603061       -48.867822   \n",
              "50%                    29144.000000       -22.873588       -46.647278   \n",
              "75%                    65950.000000       -19.923336       -43.836974   \n",
              "max                    99990.000000        45.065933       121.105394   \n",
              "\n",
              "       geolocation_city geolocation_state  \n",
              "count            738332            738332  \n",
              "unique             8011                27  \n",
              "top           sao paulo                SP  \n",
              "freq              79927            285976  \n",
              "mean                NaN               NaN  \n",
              "std                 NaN               NaN  \n",
              "min                 NaN               NaN  \n",
              "25%                 NaN               NaN  \n",
              "50%                 NaN               NaN  \n",
              "75%                 NaN               NaN  \n",
              "max                 NaN               NaN  "
            ]
          },
          "execution_count": 63,
          "metadata": {},
          "output_type": "execute_result"
        }
      ],
      "source": [
        "geolocation_df.describe(include='all')"
      ]
    },
    {
      "cell_type": "markdown",
      "metadata": {},
      "source": [
        "untuk mencari informasi lebih lanjut kita akan menggabungkan dengan data customers_df"
      ]
    },
    {
      "cell_type": "code",
      "execution_count": 64,
      "metadata": {},
      "outputs": [
        {
          "data": {
            "text/html": [
              "<div>\n",
              "<style scoped>\n",
              "    .dataframe tbody tr th:only-of-type {\n",
              "        vertical-align: middle;\n",
              "    }\n",
              "\n",
              "    .dataframe tbody tr th {\n",
              "        vertical-align: top;\n",
              "    }\n",
              "\n",
              "    .dataframe thead th {\n",
              "        text-align: right;\n",
              "    }\n",
              "</style>\n",
              "<table border=\"1\" class=\"dataframe\">\n",
              "  <thead>\n",
              "    <tr style=\"text-align: right;\">\n",
              "      <th></th>\n",
              "      <th>customer_id</th>\n",
              "      <th>customer_unique_id</th>\n",
              "      <th>customer_zip_code_prefix</th>\n",
              "      <th>customer_city</th>\n",
              "      <th>customer_state</th>\n",
              "      <th>geolocation_zip_code_prefix</th>\n",
              "      <th>geolocation_lat</th>\n",
              "      <th>geolocation_lng</th>\n",
              "      <th>geolocation_city</th>\n",
              "      <th>geolocation_state</th>\n",
              "    </tr>\n",
              "  </thead>\n",
              "  <tbody>\n",
              "    <tr>\n",
              "      <th>3073914</th>\n",
              "      <td>0229d7450ba7ceb9aee1e3fcc74f7dee</td>\n",
              "      <td>b9128514e102f40787b83ba482a44fae</td>\n",
              "      <td>14801</td>\n",
              "      <td>araraquara</td>\n",
              "      <td>SP</td>\n",
              "      <td>14801.0</td>\n",
              "      <td>-21.780555</td>\n",
              "      <td>-48.178041</td>\n",
              "      <td>araraquara</td>\n",
              "      <td>SP</td>\n",
              "    </tr>\n",
              "    <tr>\n",
              "      <th>5897126</th>\n",
              "      <td>b28a014f45c0c421660918418a592cb7</td>\n",
              "      <td>9c9372efb0eaba42664210e312fe38c4</td>\n",
              "      <td>2318</td>\n",
              "      <td>sao paulo</td>\n",
              "      <td>SP</td>\n",
              "      <td>2318.0</td>\n",
              "      <td>-23.454905</td>\n",
              "      <td>-46.592706</td>\n",
              "      <td>sao paulo</td>\n",
              "      <td>SP</td>\n",
              "    </tr>\n",
              "    <tr>\n",
              "      <th>6939187</th>\n",
              "      <td>b701465c5960839259de1bc16655ef0a</td>\n",
              "      <td>e59715fbe8afb24703988a8c1c14351e</td>\n",
              "      <td>92500</td>\n",
              "      <td>guaiba</td>\n",
              "      <td>RS</td>\n",
              "      <td>92500.0</td>\n",
              "      <td>-30.118072</td>\n",
              "      <td>-51.325554</td>\n",
              "      <td>guaiba</td>\n",
              "      <td>RS</td>\n",
              "    </tr>\n",
              "    <tr>\n",
              "      <th>8462215</th>\n",
              "      <td>15a3bb04fb0976bfd8932bb1aaf2a7e3</td>\n",
              "      <td>00e91970e7fa706ece5b58bdb6344224</td>\n",
              "      <td>25961</td>\n",
              "      <td>teresopolis</td>\n",
              "      <td>RJ</td>\n",
              "      <td>25961.0</td>\n",
              "      <td>-22.434347</td>\n",
              "      <td>-42.972717</td>\n",
              "      <td>teresopolis</td>\n",
              "      <td>RJ</td>\n",
              "    </tr>\n",
              "    <tr>\n",
              "      <th>7635395</th>\n",
              "      <td>ada97234c297d1fcdf68fc5d72f90808</td>\n",
              "      <td>fcaba43cfd594b9a6e1389bcbd33d5bd</td>\n",
              "      <td>24754</td>\n",
              "      <td>sao goncalo</td>\n",
              "      <td>RJ</td>\n",
              "      <td>24754.0</td>\n",
              "      <td>-22.868068</td>\n",
              "      <td>-43.019795</td>\n",
              "      <td>sao goncalo</td>\n",
              "      <td>RJ</td>\n",
              "    </tr>\n",
              "  </tbody>\n",
              "</table>\n",
              "</div>"
            ],
            "text/plain": [
              "                              customer_id                customer_unique_id  \\\n",
              "3073914  0229d7450ba7ceb9aee1e3fcc74f7dee  b9128514e102f40787b83ba482a44fae   \n",
              "5897126  b28a014f45c0c421660918418a592cb7  9c9372efb0eaba42664210e312fe38c4   \n",
              "6939187  b701465c5960839259de1bc16655ef0a  e59715fbe8afb24703988a8c1c14351e   \n",
              "8462215  15a3bb04fb0976bfd8932bb1aaf2a7e3  00e91970e7fa706ece5b58bdb6344224   \n",
              "7635395  ada97234c297d1fcdf68fc5d72f90808  fcaba43cfd594b9a6e1389bcbd33d5bd   \n",
              "\n",
              "         customer_zip_code_prefix customer_city customer_state  \\\n",
              "3073914                     14801    araraquara             SP   \n",
              "5897126                      2318     sao paulo             SP   \n",
              "6939187                     92500        guaiba             RS   \n",
              "8462215                     25961   teresopolis             RJ   \n",
              "7635395                     24754   sao goncalo             RJ   \n",
              "\n",
              "         geolocation_zip_code_prefix  geolocation_lat  geolocation_lng  \\\n",
              "3073914                      14801.0       -21.780555       -48.178041   \n",
              "5897126                       2318.0       -23.454905       -46.592706   \n",
              "6939187                      92500.0       -30.118072       -51.325554   \n",
              "8462215                      25961.0       -22.434347       -42.972717   \n",
              "7635395                      24754.0       -22.868068       -43.019795   \n",
              "\n",
              "        geolocation_city geolocation_state  \n",
              "3073914       araraquara                SP  \n",
              "5897126        sao paulo                SP  \n",
              "6939187           guaiba                RS  \n",
              "8462215      teresopolis                RJ  \n",
              "7635395      sao goncalo                RJ  "
            ]
          },
          "execution_count": 64,
          "metadata": {},
          "output_type": "execute_result"
        }
      ],
      "source": [
        "customer_geolocation_df=pd.merge(\n",
        "    left=customers_df,\n",
        "    right=geolocation_df,\n",
        "    how='left',\n",
        "    left_on='customer_zip_code_prefix',\n",
        "    right_on='geolocation_zip_code_prefix'\n",
        ")\n",
        "customer_geolocation_df.sample(5)"
      ]
    },
    {
      "cell_type": "markdown",
      "metadata": {},
      "source": [
        "karena nilai zip_code_prefix sudah bersesuaian, data tersebut terlalu banyak informasi yang menurut saya kurang penting. saya akan drop kolom yang menurut saya kurang penting"
      ]
    },
    {
      "cell_type": "code",
      "execution_count": 65,
      "metadata": {},
      "outputs": [
        {
          "data": {
            "text/html": [
              "<div>\n",
              "<style scoped>\n",
              "    .dataframe tbody tr th:only-of-type {\n",
              "        vertical-align: middle;\n",
              "    }\n",
              "\n",
              "    .dataframe tbody tr th {\n",
              "        vertical-align: top;\n",
              "    }\n",
              "\n",
              "    .dataframe thead th {\n",
              "        text-align: right;\n",
              "    }\n",
              "</style>\n",
              "<table border=\"1\" class=\"dataframe\">\n",
              "  <thead>\n",
              "    <tr style=\"text-align: right;\">\n",
              "      <th></th>\n",
              "      <th>customer_id</th>\n",
              "      <th>customer_zip_code_prefix</th>\n",
              "      <th>customer_city</th>\n",
              "      <th>customer_state</th>\n",
              "      <th>geolocation_lat</th>\n",
              "      <th>geolocation_lng</th>\n",
              "    </tr>\n",
              "  </thead>\n",
              "  <tbody>\n",
              "    <tr>\n",
              "      <th>9145990</th>\n",
              "      <td>ecb809e65ff4dda823037481d5a64741</td>\n",
              "      <td>29047</td>\n",
              "      <td>vitoria</td>\n",
              "      <td>ES</td>\n",
              "      <td>-20.298714</td>\n",
              "      <td>-40.311439</td>\n",
              "    </tr>\n",
              "    <tr>\n",
              "      <th>2991335</th>\n",
              "      <td>60316082457ca4288ed89e75c9f9d50f</td>\n",
              "      <td>27197</td>\n",
              "      <td>pinheiral</td>\n",
              "      <td>RJ</td>\n",
              "      <td>-22.504090</td>\n",
              "      <td>-44.009907</td>\n",
              "    </tr>\n",
              "    <tr>\n",
              "      <th>1535566</th>\n",
              "      <td>e1f76c1aaa186dae7a044dcbc8a14e7a</td>\n",
              "      <td>13472</td>\n",
              "      <td>americana</td>\n",
              "      <td>SP</td>\n",
              "      <td>-22.724507</td>\n",
              "      <td>-47.312780</td>\n",
              "    </tr>\n",
              "    <tr>\n",
              "      <th>9897177</th>\n",
              "      <td>aa6bbe83912aa4d9762752cf237ac30e</td>\n",
              "      <td>14405</td>\n",
              "      <td>franca</td>\n",
              "      <td>SP</td>\n",
              "      <td>-20.544985</td>\n",
              "      <td>-47.412953</td>\n",
              "    </tr>\n",
              "    <tr>\n",
              "      <th>3199391</th>\n",
              "      <td>3f7a51e1e98b8842843f9e9c49d0721f</td>\n",
              "      <td>13025</td>\n",
              "      <td>campinas</td>\n",
              "      <td>SP</td>\n",
              "      <td>-22.901436</td>\n",
              "      <td>-47.051686</td>\n",
              "    </tr>\n",
              "  </tbody>\n",
              "</table>\n",
              "</div>"
            ],
            "text/plain": [
              "                              customer_id  customer_zip_code_prefix  \\\n",
              "9145990  ecb809e65ff4dda823037481d5a64741                     29047   \n",
              "2991335  60316082457ca4288ed89e75c9f9d50f                     27197   \n",
              "1535566  e1f76c1aaa186dae7a044dcbc8a14e7a                     13472   \n",
              "9897177  aa6bbe83912aa4d9762752cf237ac30e                     14405   \n",
              "3199391  3f7a51e1e98b8842843f9e9c49d0721f                     13025   \n",
              "\n",
              "        customer_city customer_state  geolocation_lat  geolocation_lng  \n",
              "9145990       vitoria             ES       -20.298714       -40.311439  \n",
              "2991335     pinheiral             RJ       -22.504090       -44.009907  \n",
              "1535566     americana             SP       -22.724507       -47.312780  \n",
              "9897177        franca             SP       -20.544985       -47.412953  \n",
              "3199391      campinas             SP       -22.901436       -47.051686  "
            ]
          },
          "execution_count": 65,
          "metadata": {},
          "output_type": "execute_result"
        }
      ],
      "source": [
        "customer_geolocation_df.drop(['customer_unique_id','geolocation_zip_code_prefix','geolocation_city','geolocation_state'],axis=1,inplace=True)\n",
        "customer_geolocation_df.sample(5)"
      ]
    },
    {
      "cell_type": "markdown",
      "metadata": {},
      "source": [
        "dari data tersebut kita bisa mengelompokan customer sesuai dengan geolocationnya"
      ]
    },
    {
      "cell_type": "code",
      "execution_count": 66,
      "metadata": {},
      "outputs": [
        {
          "data": {
            "text/plain": [
              "customer_state  customer_city  geolocation_lat  geolocation_lng\n",
              "RJ              niteroi        -22.903533       -43.115982         196\n",
              "                               -22.902263       -43.109812         196\n",
              "                               -22.899337       -43.109721         184\n",
              "                               -22.899183       -43.107589         184\n",
              "                               -22.899254       -43.110810         184\n",
              "                                                                  ... \n",
              "PE              tamandare      -8.756155        -35.094377           1\n",
              "                               -8.756802        -35.106424           1\n",
              "                               -8.757577        -35.102467           1\n",
              "                               -8.757779        -35.104227           1\n",
              "AC              brasileia      -11.017604       -68.750396           1\n",
              "Name: customer_id, Length: 695593, dtype: int64"
            ]
          },
          "execution_count": 66,
          "metadata": {},
          "output_type": "execute_result"
        }
      ],
      "source": [
        "customer_geolocation_df.groupby(['customer_state','customer_city','geolocation_lat','geolocation_lng']).customer_id.nunique().sort_values(ascending=False)"
      ]
    },
    {
      "cell_type": "markdown",
      "metadata": {},
      "source": [
        "dari informasi diatas, didapatkan bahwa customer paling banyak berasaldari state RJ kota niteroi dengan posisi geologis nya:\n",
        "- -22.903533,      -43.115982 (sebanyak 196)\n",
        "- -22.902263       -43.109812 (sebanyak 196)\n",
        "- -22.899337       -43.109721 (sebanyak 184)\n",
        "- -22.899183       -43.107589 (sebanyak 184)\n",
        "- -22.899254       -43.110810 (sebanyak 184)"
      ]
    },
    {
      "cell_type": "markdown",
      "metadata": {},
      "source": [
        "### explore data orders_df"
      ]
    },
    {
      "cell_type": "code",
      "execution_count": 67,
      "metadata": {},
      "outputs": [
        {
          "data": {
            "text/html": [
              "<div>\n",
              "<style scoped>\n",
              "    .dataframe tbody tr th:only-of-type {\n",
              "        vertical-align: middle;\n",
              "    }\n",
              "\n",
              "    .dataframe tbody tr th {\n",
              "        vertical-align: top;\n",
              "    }\n",
              "\n",
              "    .dataframe thead th {\n",
              "        text-align: right;\n",
              "    }\n",
              "</style>\n",
              "<table border=\"1\" class=\"dataframe\">\n",
              "  <thead>\n",
              "    <tr style=\"text-align: right;\">\n",
              "      <th></th>\n",
              "      <th>order_id</th>\n",
              "      <th>customer_id</th>\n",
              "      <th>order_status</th>\n",
              "      <th>order_purchase_timestamp</th>\n",
              "      <th>order_approved_at</th>\n",
              "      <th>order_delivered_carrier_date</th>\n",
              "      <th>order_delivered_customer_date</th>\n",
              "      <th>order_estimated_delivery_date</th>\n",
              "    </tr>\n",
              "  </thead>\n",
              "  <tbody>\n",
              "    <tr>\n",
              "      <th>count</th>\n",
              "      <td>99441</td>\n",
              "      <td>99441</td>\n",
              "      <td>99441</td>\n",
              "      <td>99441</td>\n",
              "      <td>99441</td>\n",
              "      <td>99441</td>\n",
              "      <td>99441</td>\n",
              "      <td>99441</td>\n",
              "    </tr>\n",
              "    <tr>\n",
              "      <th>unique</th>\n",
              "      <td>99441</td>\n",
              "      <td>99441</td>\n",
              "      <td>8</td>\n",
              "      <td>NaN</td>\n",
              "      <td>NaN</td>\n",
              "      <td>NaN</td>\n",
              "      <td>NaN</td>\n",
              "      <td>NaN</td>\n",
              "    </tr>\n",
              "    <tr>\n",
              "      <th>top</th>\n",
              "      <td>e481f51cbdc54678b7cc49136f2d6af7</td>\n",
              "      <td>9ef432eb6251297304e76186b10a928d</td>\n",
              "      <td>delivered</td>\n",
              "      <td>NaN</td>\n",
              "      <td>NaN</td>\n",
              "      <td>NaN</td>\n",
              "      <td>NaN</td>\n",
              "      <td>NaN</td>\n",
              "    </tr>\n",
              "    <tr>\n",
              "      <th>freq</th>\n",
              "      <td>1</td>\n",
              "      <td>1</td>\n",
              "      <td>96478</td>\n",
              "      <td>NaN</td>\n",
              "      <td>NaN</td>\n",
              "      <td>NaN</td>\n",
              "      <td>NaN</td>\n",
              "      <td>NaN</td>\n",
              "    </tr>\n",
              "    <tr>\n",
              "      <th>mean</th>\n",
              "      <td>NaN</td>\n",
              "      <td>NaN</td>\n",
              "      <td>NaN</td>\n",
              "      <td>2017-12-31 08:43:12.776581120</td>\n",
              "      <td>2017-12-31 18:35:24.098641408</td>\n",
              "      <td>2018-01-04 21:49:48.135799040</td>\n",
              "      <td>2018-01-14 12:09:19.034482944</td>\n",
              "      <td>2018-01-24 03:08:37.730111232</td>\n",
              "    </tr>\n",
              "    <tr>\n",
              "      <th>min</th>\n",
              "      <td>NaN</td>\n",
              "      <td>NaN</td>\n",
              "      <td>NaN</td>\n",
              "      <td>2016-09-04 21:15:19</td>\n",
              "      <td>2016-09-15 12:16:38</td>\n",
              "      <td>2016-10-08 10:34:01</td>\n",
              "      <td>2016-10-11 13:46:32</td>\n",
              "      <td>2016-09-30 00:00:00</td>\n",
              "    </tr>\n",
              "    <tr>\n",
              "      <th>25%</th>\n",
              "      <td>NaN</td>\n",
              "      <td>NaN</td>\n",
              "      <td>NaN</td>\n",
              "      <td>2017-09-12 14:46:19</td>\n",
              "      <td>2017-09-13 03:35:20</td>\n",
              "      <td>2017-09-19 19:52:27</td>\n",
              "      <td>2017-10-01 16:54:44</td>\n",
              "      <td>2017-10-03 00:00:00</td>\n",
              "    </tr>\n",
              "    <tr>\n",
              "      <th>50%</th>\n",
              "      <td>NaN</td>\n",
              "      <td>NaN</td>\n",
              "      <td>NaN</td>\n",
              "      <td>2018-01-18 23:04:36</td>\n",
              "      <td>2018-01-19 01:39:19</td>\n",
              "      <td>2018-01-19 21:29:35</td>\n",
              "      <td>2018-01-27 14:47:23</td>\n",
              "      <td>2018-02-15 00:00:00</td>\n",
              "    </tr>\n",
              "    <tr>\n",
              "      <th>75%</th>\n",
              "      <td>NaN</td>\n",
              "      <td>NaN</td>\n",
              "      <td>NaN</td>\n",
              "      <td>2018-05-04 15:42:16</td>\n",
              "      <td>2018-05-04 17:10:24</td>\n",
              "      <td>2018-05-07 13:30:00</td>\n",
              "      <td>2018-05-14 13:58:54</td>\n",
              "      <td>2018-05-25 00:00:00</td>\n",
              "    </tr>\n",
              "    <tr>\n",
              "      <th>max</th>\n",
              "      <td>NaN</td>\n",
              "      <td>NaN</td>\n",
              "      <td>NaN</td>\n",
              "      <td>2018-10-17 17:30:18</td>\n",
              "      <td>2018-09-03 17:40:06</td>\n",
              "      <td>2018-09-11 19:48:28</td>\n",
              "      <td>2018-10-17 13:22:46</td>\n",
              "      <td>2018-11-12 00:00:00</td>\n",
              "    </tr>\n",
              "  </tbody>\n",
              "</table>\n",
              "</div>"
            ],
            "text/plain": [
              "                                order_id                       customer_id  \\\n",
              "count                              99441                             99441   \n",
              "unique                             99441                             99441   \n",
              "top     e481f51cbdc54678b7cc49136f2d6af7  9ef432eb6251297304e76186b10a928d   \n",
              "freq                                   1                                 1   \n",
              "mean                                 NaN                               NaN   \n",
              "min                                  NaN                               NaN   \n",
              "25%                                  NaN                               NaN   \n",
              "50%                                  NaN                               NaN   \n",
              "75%                                  NaN                               NaN   \n",
              "max                                  NaN                               NaN   \n",
              "\n",
              "       order_status       order_purchase_timestamp  \\\n",
              "count         99441                          99441   \n",
              "unique            8                            NaN   \n",
              "top       delivered                            NaN   \n",
              "freq          96478                            NaN   \n",
              "mean            NaN  2017-12-31 08:43:12.776581120   \n",
              "min             NaN            2016-09-04 21:15:19   \n",
              "25%             NaN            2017-09-12 14:46:19   \n",
              "50%             NaN            2018-01-18 23:04:36   \n",
              "75%             NaN            2018-05-04 15:42:16   \n",
              "max             NaN            2018-10-17 17:30:18   \n",
              "\n",
              "                    order_approved_at   order_delivered_carrier_date  \\\n",
              "count                           99441                          99441   \n",
              "unique                            NaN                            NaN   \n",
              "top                               NaN                            NaN   \n",
              "freq                              NaN                            NaN   \n",
              "mean    2017-12-31 18:35:24.098641408  2018-01-04 21:49:48.135799040   \n",
              "min               2016-09-15 12:16:38            2016-10-08 10:34:01   \n",
              "25%               2017-09-13 03:35:20            2017-09-19 19:52:27   \n",
              "50%               2018-01-19 01:39:19            2018-01-19 21:29:35   \n",
              "75%               2018-05-04 17:10:24            2018-05-07 13:30:00   \n",
              "max               2018-09-03 17:40:06            2018-09-11 19:48:28   \n",
              "\n",
              "        order_delivered_customer_date  order_estimated_delivery_date  \n",
              "count                           99441                          99441  \n",
              "unique                            NaN                            NaN  \n",
              "top                               NaN                            NaN  \n",
              "freq                              NaN                            NaN  \n",
              "mean    2018-01-14 12:09:19.034482944  2018-01-24 03:08:37.730111232  \n",
              "min               2016-10-11 13:46:32            2016-09-30 00:00:00  \n",
              "25%               2017-10-01 16:54:44            2017-10-03 00:00:00  \n",
              "50%               2018-01-27 14:47:23            2018-02-15 00:00:00  \n",
              "75%               2018-05-14 13:58:54            2018-05-25 00:00:00  \n",
              "max               2018-10-17 13:22:46            2018-11-12 00:00:00  "
            ]
          },
          "execution_count": 67,
          "metadata": {},
          "output_type": "execute_result"
        }
      ],
      "source": [
        "orders_df.describe(include='all')"
      ]
    },
    {
      "cell_type": "markdown",
      "metadata": {},
      "source": [
        "dari informasi diata mengandung banyak informasi seperti order_id, customer_id, order_status, order_delivered_customer_date. Berdasarkan informasi tersebut, kita bisa membuat sebuah kolom baru untuk memuat waktu pengiriman tiap order. Untuk melakukannya, kita perlu menghitung selisih antar order_delivered_customer_date\t dan order_delivered_carrier_date serta menyimpannya sebagai delivery_time."
      ]
    },
    {
      "cell_type": "code",
      "execution_count": 68,
      "metadata": {},
      "outputs": [
        {
          "data": {
            "text/html": [
              "<div>\n",
              "<style scoped>\n",
              "    .dataframe tbody tr th:only-of-type {\n",
              "        vertical-align: middle;\n",
              "    }\n",
              "\n",
              "    .dataframe tbody tr th {\n",
              "        vertical-align: top;\n",
              "    }\n",
              "\n",
              "    .dataframe thead th {\n",
              "        text-align: right;\n",
              "    }\n",
              "</style>\n",
              "<table border=\"1\" class=\"dataframe\">\n",
              "  <thead>\n",
              "    <tr style=\"text-align: right;\">\n",
              "      <th></th>\n",
              "      <th>order_id</th>\n",
              "      <th>customer_id</th>\n",
              "      <th>order_status</th>\n",
              "      <th>order_purchase_timestamp</th>\n",
              "      <th>order_approved_at</th>\n",
              "      <th>order_delivered_carrier_date</th>\n",
              "      <th>order_delivered_customer_date</th>\n",
              "      <th>order_estimated_delivery_date</th>\n",
              "      <th>delivery_time</th>\n",
              "    </tr>\n",
              "  </thead>\n",
              "  <tbody>\n",
              "    <tr>\n",
              "      <th>0</th>\n",
              "      <td>e481f51cbdc54678b7cc49136f2d6af7</td>\n",
              "      <td>9ef432eb6251297304e76186b10a928d</td>\n",
              "      <td>delivered</td>\n",
              "      <td>2017-10-02 10:56:33</td>\n",
              "      <td>2017-10-02 11:07:15</td>\n",
              "      <td>2017-10-04 19:55:00</td>\n",
              "      <td>2017-10-10 21:25:13</td>\n",
              "      <td>2017-10-18</td>\n",
              "      <td>6.0</td>\n",
              "    </tr>\n",
              "    <tr>\n",
              "      <th>1</th>\n",
              "      <td>53cdb2fc8bc7dce0b6741e2150273451</td>\n",
              "      <td>b0830fb4747a6c6d20dea0b8c802d7ef</td>\n",
              "      <td>delivered</td>\n",
              "      <td>2018-07-24 20:41:37</td>\n",
              "      <td>2018-07-26 03:24:27</td>\n",
              "      <td>2018-07-26 14:31:00</td>\n",
              "      <td>2018-08-07 15:27:45</td>\n",
              "      <td>2018-08-13</td>\n",
              "      <td>12.0</td>\n",
              "    </tr>\n",
              "    <tr>\n",
              "      <th>2</th>\n",
              "      <td>47770eb9100c2d0c44946d9cf07ec65d</td>\n",
              "      <td>41ce2a54c0b03bf3443c3d931a367089</td>\n",
              "      <td>delivered</td>\n",
              "      <td>2018-08-08 08:38:49</td>\n",
              "      <td>2018-08-08 08:55:23</td>\n",
              "      <td>2018-08-08 13:50:00</td>\n",
              "      <td>2018-08-17 18:06:29</td>\n",
              "      <td>2018-09-04</td>\n",
              "      <td>9.0</td>\n",
              "    </tr>\n",
              "    <tr>\n",
              "      <th>3</th>\n",
              "      <td>949d5b44dbf5de918fe9c16f97b45f8a</td>\n",
              "      <td>f88197465ea7920adcdbec7375364d82</td>\n",
              "      <td>delivered</td>\n",
              "      <td>2017-11-18 19:28:06</td>\n",
              "      <td>2017-11-18 19:45:59</td>\n",
              "      <td>2017-11-22 13:39:59</td>\n",
              "      <td>2017-12-02 00:28:42</td>\n",
              "      <td>2017-12-15</td>\n",
              "      <td>9.0</td>\n",
              "    </tr>\n",
              "    <tr>\n",
              "      <th>4</th>\n",
              "      <td>ad21c59c0840e6cb83a9ceb5573f8159</td>\n",
              "      <td>8ab97904e6daea8866dbdbc4fb7aad2c</td>\n",
              "      <td>delivered</td>\n",
              "      <td>2018-02-13 21:18:39</td>\n",
              "      <td>2018-02-13 22:20:29</td>\n",
              "      <td>2018-02-14 19:46:34</td>\n",
              "      <td>2018-02-16 18:17:02</td>\n",
              "      <td>2018-02-26</td>\n",
              "      <td>2.0</td>\n",
              "    </tr>\n",
              "  </tbody>\n",
              "</table>\n",
              "</div>"
            ],
            "text/plain": [
              "                           order_id                       customer_id  \\\n",
              "0  e481f51cbdc54678b7cc49136f2d6af7  9ef432eb6251297304e76186b10a928d   \n",
              "1  53cdb2fc8bc7dce0b6741e2150273451  b0830fb4747a6c6d20dea0b8c802d7ef   \n",
              "2  47770eb9100c2d0c44946d9cf07ec65d  41ce2a54c0b03bf3443c3d931a367089   \n",
              "3  949d5b44dbf5de918fe9c16f97b45f8a  f88197465ea7920adcdbec7375364d82   \n",
              "4  ad21c59c0840e6cb83a9ceb5573f8159  8ab97904e6daea8866dbdbc4fb7aad2c   \n",
              "\n",
              "  order_status order_purchase_timestamp   order_approved_at  \\\n",
              "0    delivered      2017-10-02 10:56:33 2017-10-02 11:07:15   \n",
              "1    delivered      2018-07-24 20:41:37 2018-07-26 03:24:27   \n",
              "2    delivered      2018-08-08 08:38:49 2018-08-08 08:55:23   \n",
              "3    delivered      2017-11-18 19:28:06 2017-11-18 19:45:59   \n",
              "4    delivered      2018-02-13 21:18:39 2018-02-13 22:20:29   \n",
              "\n",
              "  order_delivered_carrier_date order_delivered_customer_date  \\\n",
              "0          2017-10-04 19:55:00           2017-10-10 21:25:13   \n",
              "1          2018-07-26 14:31:00           2018-08-07 15:27:45   \n",
              "2          2018-08-08 13:50:00           2018-08-17 18:06:29   \n",
              "3          2017-11-22 13:39:59           2017-12-02 00:28:42   \n",
              "4          2018-02-14 19:46:34           2018-02-16 18:17:02   \n",
              "\n",
              "  order_estimated_delivery_date  delivery_time  \n",
              "0                    2017-10-18            6.0  \n",
              "1                    2018-08-13           12.0  \n",
              "2                    2018-09-04            9.0  \n",
              "3                    2017-12-15            9.0  \n",
              "4                    2018-02-26            2.0  "
            ]
          },
          "execution_count": 68,
          "metadata": {},
          "output_type": "execute_result"
        }
      ],
      "source": [
        "delivery_time= abs(orders_df['order_delivered_customer_date'] - orders_df['order_delivered_carrier_date'])\n",
        "delivery_time= delivery_time.apply(lambda x: x.total_seconds())\n",
        "orders_df['delivery_time'] = round(delivery_time/86400)\n",
        "orders_df.head()"
      ]
    },
    {
      "cell_type": "markdown",
      "metadata": {},
      "source": [
        "dari data diatas menurut saya terdapat banyak informasi seperti 'order_purchase_timestamp','order_approved_at', 'order_estimated_delivery_date'. maka dari itu saya akan drop kolom kolom tersebut"
      ]
    },
    {
      "cell_type": "code",
      "execution_count": 69,
      "metadata": {},
      "outputs": [
        {
          "data": {
            "text/html": [
              "<div>\n",
              "<style scoped>\n",
              "    .dataframe tbody tr th:only-of-type {\n",
              "        vertical-align: middle;\n",
              "    }\n",
              "\n",
              "    .dataframe tbody tr th {\n",
              "        vertical-align: top;\n",
              "    }\n",
              "\n",
              "    .dataframe thead th {\n",
              "        text-align: right;\n",
              "    }\n",
              "</style>\n",
              "<table border=\"1\" class=\"dataframe\">\n",
              "  <thead>\n",
              "    <tr style=\"text-align: right;\">\n",
              "      <th></th>\n",
              "      <th>order_id</th>\n",
              "      <th>customer_id</th>\n",
              "      <th>order_status</th>\n",
              "      <th>order_delivered_carrier_date</th>\n",
              "      <th>order_delivered_customer_date</th>\n",
              "      <th>delivery_time</th>\n",
              "    </tr>\n",
              "  </thead>\n",
              "  <tbody>\n",
              "    <tr>\n",
              "      <th>0</th>\n",
              "      <td>e481f51cbdc54678b7cc49136f2d6af7</td>\n",
              "      <td>9ef432eb6251297304e76186b10a928d</td>\n",
              "      <td>delivered</td>\n",
              "      <td>2017-10-04 19:55:00</td>\n",
              "      <td>2017-10-10 21:25:13</td>\n",
              "      <td>6.0</td>\n",
              "    </tr>\n",
              "    <tr>\n",
              "      <th>1</th>\n",
              "      <td>53cdb2fc8bc7dce0b6741e2150273451</td>\n",
              "      <td>b0830fb4747a6c6d20dea0b8c802d7ef</td>\n",
              "      <td>delivered</td>\n",
              "      <td>2018-07-26 14:31:00</td>\n",
              "      <td>2018-08-07 15:27:45</td>\n",
              "      <td>12.0</td>\n",
              "    </tr>\n",
              "    <tr>\n",
              "      <th>2</th>\n",
              "      <td>47770eb9100c2d0c44946d9cf07ec65d</td>\n",
              "      <td>41ce2a54c0b03bf3443c3d931a367089</td>\n",
              "      <td>delivered</td>\n",
              "      <td>2018-08-08 13:50:00</td>\n",
              "      <td>2018-08-17 18:06:29</td>\n",
              "      <td>9.0</td>\n",
              "    </tr>\n",
              "    <tr>\n",
              "      <th>3</th>\n",
              "      <td>949d5b44dbf5de918fe9c16f97b45f8a</td>\n",
              "      <td>f88197465ea7920adcdbec7375364d82</td>\n",
              "      <td>delivered</td>\n",
              "      <td>2017-11-22 13:39:59</td>\n",
              "      <td>2017-12-02 00:28:42</td>\n",
              "      <td>9.0</td>\n",
              "    </tr>\n",
              "    <tr>\n",
              "      <th>4</th>\n",
              "      <td>ad21c59c0840e6cb83a9ceb5573f8159</td>\n",
              "      <td>8ab97904e6daea8866dbdbc4fb7aad2c</td>\n",
              "      <td>delivered</td>\n",
              "      <td>2018-02-14 19:46:34</td>\n",
              "      <td>2018-02-16 18:17:02</td>\n",
              "      <td>2.0</td>\n",
              "    </tr>\n",
              "  </tbody>\n",
              "</table>\n",
              "</div>"
            ],
            "text/plain": [
              "                           order_id                       customer_id  \\\n",
              "0  e481f51cbdc54678b7cc49136f2d6af7  9ef432eb6251297304e76186b10a928d   \n",
              "1  53cdb2fc8bc7dce0b6741e2150273451  b0830fb4747a6c6d20dea0b8c802d7ef   \n",
              "2  47770eb9100c2d0c44946d9cf07ec65d  41ce2a54c0b03bf3443c3d931a367089   \n",
              "3  949d5b44dbf5de918fe9c16f97b45f8a  f88197465ea7920adcdbec7375364d82   \n",
              "4  ad21c59c0840e6cb83a9ceb5573f8159  8ab97904e6daea8866dbdbc4fb7aad2c   \n",
              "\n",
              "  order_status order_delivered_carrier_date order_delivered_customer_date  \\\n",
              "0    delivered          2017-10-04 19:55:00           2017-10-10 21:25:13   \n",
              "1    delivered          2018-07-26 14:31:00           2018-08-07 15:27:45   \n",
              "2    delivered          2018-08-08 13:50:00           2018-08-17 18:06:29   \n",
              "3    delivered          2017-11-22 13:39:59           2017-12-02 00:28:42   \n",
              "4    delivered          2018-02-14 19:46:34           2018-02-16 18:17:02   \n",
              "\n",
              "   delivery_time  \n",
              "0            6.0  \n",
              "1           12.0  \n",
              "2            9.0  \n",
              "3            9.0  \n",
              "4            2.0  "
            ]
          },
          "execution_count": 69,
          "metadata": {},
          "output_type": "execute_result"
        }
      ],
      "source": [
        "orders_df.drop(['order_purchase_timestamp','order_approved_at', 'order_estimated_delivery_date'],axis=1,inplace=True)\n",
        "orders_df.head()"
      ]
    },
    {
      "cell_type": "markdown",
      "metadata": {},
      "source": [
        "untuk menemukan informasi lebih lanjut, saya akan menggabungkan ke data customer_geolocation_df"
      ]
    },
    {
      "cell_type": "code",
      "execution_count": 70,
      "metadata": {},
      "outputs": [
        {
          "data": {
            "text/html": [
              "<div>\n",
              "<style scoped>\n",
              "    .dataframe tbody tr th:only-of-type {\n",
              "        vertical-align: middle;\n",
              "    }\n",
              "\n",
              "    .dataframe tbody tr th {\n",
              "        vertical-align: top;\n",
              "    }\n",
              "\n",
              "    .dataframe thead th {\n",
              "        text-align: right;\n",
              "    }\n",
              "</style>\n",
              "<table border=\"1\" class=\"dataframe\">\n",
              "  <thead>\n",
              "    <tr style=\"text-align: right;\">\n",
              "      <th></th>\n",
              "      <th>customer_id</th>\n",
              "      <th>customer_zip_code_prefix</th>\n",
              "      <th>customer_city</th>\n",
              "      <th>customer_state</th>\n",
              "      <th>geolocation_lat</th>\n",
              "      <th>geolocation_lng</th>\n",
              "      <th>order_id</th>\n",
              "      <th>order_status</th>\n",
              "      <th>order_delivered_carrier_date</th>\n",
              "      <th>order_delivered_customer_date</th>\n",
              "      <th>delivery_time</th>\n",
              "    </tr>\n",
              "  </thead>\n",
              "  <tbody>\n",
              "    <tr>\n",
              "      <th>3963195</th>\n",
              "      <td>6b1577eb1255bed59d909efbe9ee74a0</td>\n",
              "      <td>36700</td>\n",
              "      <td>leopoldina</td>\n",
              "      <td>MG</td>\n",
              "      <td>-21.528998</td>\n",
              "      <td>-42.639341</td>\n",
              "      <td>f2052987962f815b4cc4f293e5a3868b</td>\n",
              "      <td>delivered</td>\n",
              "      <td>2017-07-13 20:46:51</td>\n",
              "      <td>2017-07-19 12:52:22</td>\n",
              "      <td>6.0</td>\n",
              "    </tr>\n",
              "    <tr>\n",
              "      <th>3907915</th>\n",
              "      <td>1d9185a63d204e8a36a36edcadb69a95</td>\n",
              "      <td>11701</td>\n",
              "      <td>praia grande</td>\n",
              "      <td>SP</td>\n",
              "      <td>-24.011370</td>\n",
              "      <td>-46.422959</td>\n",
              "      <td>1590f37cad06b14cb123f6a45b2bdf4c</td>\n",
              "      <td>delivered</td>\n",
              "      <td>2017-04-06 10:54:03</td>\n",
              "      <td>2017-04-15 13:55:35</td>\n",
              "      <td>9.0</td>\n",
              "    </tr>\n",
              "    <tr>\n",
              "      <th>808873</th>\n",
              "      <td>b7f5e7be6992f2dbf83cd873e2f8f898</td>\n",
              "      <td>13480</td>\n",
              "      <td>limeira</td>\n",
              "      <td>SP</td>\n",
              "      <td>-22.554928</td>\n",
              "      <td>-47.408716</td>\n",
              "      <td>9d440eeeb611d4b50ec1cee0ca410507</td>\n",
              "      <td>delivered</td>\n",
              "      <td>2017-10-04 23:46:49</td>\n",
              "      <td>2017-10-10 20:25:09</td>\n",
              "      <td>6.0</td>\n",
              "    </tr>\n",
              "    <tr>\n",
              "      <th>4329581</th>\n",
              "      <td>abdd13750056da284b03b4c6f68ceef3</td>\n",
              "      <td>25255</td>\n",
              "      <td>duque de caxias</td>\n",
              "      <td>RJ</td>\n",
              "      <td>-22.620712</td>\n",
              "      <td>-43.283091</td>\n",
              "      <td>c32b4d70241f1ac1d8802908cfc85f03</td>\n",
              "      <td>delivered</td>\n",
              "      <td>2018-04-05 00:47:19</td>\n",
              "      <td>2018-04-09 23:54:27</td>\n",
              "      <td>5.0</td>\n",
              "    </tr>\n",
              "    <tr>\n",
              "      <th>121815</th>\n",
              "      <td>9e29cde4ddb42f9330bcf3c9bc23d177</td>\n",
              "      <td>30290</td>\n",
              "      <td>belo horizonte</td>\n",
              "      <td>MG</td>\n",
              "      <td>-19.919819</td>\n",
              "      <td>-43.883496</td>\n",
              "      <td>8e17072ec97ce29f0e1f111e598b0c85</td>\n",
              "      <td>delivered</td>\n",
              "      <td>2018-04-03 15:58:24</td>\n",
              "      <td>2018-04-06 17:38:34</td>\n",
              "      <td>3.0</td>\n",
              "    </tr>\n",
              "  </tbody>\n",
              "</table>\n",
              "</div>"
            ],
            "text/plain": [
              "                              customer_id  customer_zip_code_prefix  \\\n",
              "3963195  6b1577eb1255bed59d909efbe9ee74a0                     36700   \n",
              "3907915  1d9185a63d204e8a36a36edcadb69a95                     11701   \n",
              "808873   b7f5e7be6992f2dbf83cd873e2f8f898                     13480   \n",
              "4329581  abdd13750056da284b03b4c6f68ceef3                     25255   \n",
              "121815   9e29cde4ddb42f9330bcf3c9bc23d177                     30290   \n",
              "\n",
              "           customer_city customer_state  geolocation_lat  geolocation_lng  \\\n",
              "3963195       leopoldina             MG       -21.528998       -42.639341   \n",
              "3907915     praia grande             SP       -24.011370       -46.422959   \n",
              "808873           limeira             SP       -22.554928       -47.408716   \n",
              "4329581  duque de caxias             RJ       -22.620712       -43.283091   \n",
              "121815    belo horizonte             MG       -19.919819       -43.883496   \n",
              "\n",
              "                                 order_id order_status  \\\n",
              "3963195  f2052987962f815b4cc4f293e5a3868b    delivered   \n",
              "3907915  1590f37cad06b14cb123f6a45b2bdf4c    delivered   \n",
              "808873   9d440eeeb611d4b50ec1cee0ca410507    delivered   \n",
              "4329581  c32b4d70241f1ac1d8802908cfc85f03    delivered   \n",
              "121815   8e17072ec97ce29f0e1f111e598b0c85    delivered   \n",
              "\n",
              "        order_delivered_carrier_date order_delivered_customer_date  \\\n",
              "3963195          2017-07-13 20:46:51           2017-07-19 12:52:22   \n",
              "3907915          2017-04-06 10:54:03           2017-04-15 13:55:35   \n",
              "808873           2017-10-04 23:46:49           2017-10-10 20:25:09   \n",
              "4329581          2018-04-05 00:47:19           2018-04-09 23:54:27   \n",
              "121815           2018-04-03 15:58:24           2018-04-06 17:38:34   \n",
              "\n",
              "         delivery_time  \n",
              "3963195            6.0  \n",
              "3907915            9.0  \n",
              "808873             6.0  \n",
              "4329581            5.0  \n",
              "121815             3.0  "
            ]
          },
          "execution_count": 70,
          "metadata": {},
          "output_type": "execute_result"
        }
      ],
      "source": [
        "customer_order_geolocation_df=pd.merge(\n",
        "    left=customer_geolocation_df,\n",
        "    right=orders_df,\n",
        "    how='left',\n",
        "    left_on='customer_id',\n",
        "    right_on='customer_id'\n",
        ")\n",
        "customer_order_geolocation_df.sample(5)"
      ]
    },
    {
      "cell_type": "markdown",
      "metadata": {},
      "source": [
        "dari data tesebut kita dapat mengelompokan customer berdasarkan order status nya"
      ]
    },
    {
      "cell_type": "code",
      "execution_count": 71,
      "metadata": {},
      "outputs": [
        {
          "data": {
            "text/plain": [
              "order_status\n",
              "delivered      96478\n",
              "shipped         1107\n",
              "canceled         625\n",
              "unavailable      609\n",
              "invoiced         314\n",
              "processing       301\n",
              "created            5\n",
              "approved           2\n",
              "Name: customer_id, dtype: int64"
            ]
          },
          "execution_count": 71,
          "metadata": {},
          "output_type": "execute_result"
        }
      ],
      "source": [
        "customer_order_geolocation_df.groupby('order_status').customer_id.nunique().sort_values(ascending=False)"
      ]
    },
    {
      "cell_type": "markdown",
      "metadata": {},
      "source": [
        "dari data diatas, didapatkan informasi bahwa terdapat:\n",
        "- 96478 pelanggan yang pesanannya sudah terkirim (delivered)\n",
        "- 1107 pelanggan yang pesanannya sedang dikirim (shipped)\n",
        "- 625 pelanggan yang pesanannya dibatalkan (canceled)\n",
        "- 609 pelanggan yang pesanannya tidak tersedia (unavailable)\n",
        "- 314 pelanggan yang pesanannya sudah tahap invoice (invoiced)\n",
        "- 301 pelanggan yang pesanannya sudah tahap pemrosesan (processing)\n",
        "- 5 pelanggan yang pesannanyan telah dibuat (created)\n",
        "- 2 pelanggan yang pesanannya sudah disetujui (approved)\n"
      ]
    },
    {
      "cell_type": "markdown",
      "metadata": {},
      "source": [
        "lalu kita bisa mengelompokan customer berdasarkan delivery time nya"
      ]
    },
    {
      "cell_type": "code",
      "execution_count": 72,
      "metadata": {},
      "outputs": [
        {
          "data": {
            "text/html": [
              "<div>\n",
              "<style scoped>\n",
              "    .dataframe tbody tr th:only-of-type {\n",
              "        vertical-align: middle;\n",
              "    }\n",
              "\n",
              "    .dataframe tbody tr th {\n",
              "        vertical-align: top;\n",
              "    }\n",
              "\n",
              "    .dataframe thead th {\n",
              "        text-align: right;\n",
              "    }\n",
              "</style>\n",
              "<table border=\"1\" class=\"dataframe\">\n",
              "  <thead>\n",
              "    <tr style=\"text-align: right;\">\n",
              "      <th></th>\n",
              "      <th>delivery_time</th>\n",
              "      <th>customer_id</th>\n",
              "    </tr>\n",
              "  </thead>\n",
              "  <tbody>\n",
              "    <tr>\n",
              "      <th>293</th>\n",
              "      <td>460.0</td>\n",
              "      <td>1</td>\n",
              "    </tr>\n",
              "    <tr>\n",
              "      <th>292</th>\n",
              "      <td>456.0</td>\n",
              "      <td>2</td>\n",
              "    </tr>\n",
              "    <tr>\n",
              "      <th>291</th>\n",
              "      <td>453.0</td>\n",
              "      <td>1</td>\n",
              "    </tr>\n",
              "    <tr>\n",
              "      <th>290</th>\n",
              "      <td>445.0</td>\n",
              "      <td>1</td>\n",
              "    </tr>\n",
              "    <tr>\n",
              "      <th>289</th>\n",
              "      <td>441.0</td>\n",
              "      <td>1</td>\n",
              "    </tr>\n",
              "    <tr>\n",
              "      <th>...</th>\n",
              "      <td>...</td>\n",
              "      <td>...</td>\n",
              "    </tr>\n",
              "    <tr>\n",
              "      <th>4</th>\n",
              "      <td>4.0</td>\n",
              "      <td>6237</td>\n",
              "    </tr>\n",
              "    <tr>\n",
              "      <th>3</th>\n",
              "      <td>3.0</td>\n",
              "      <td>6937</td>\n",
              "    </tr>\n",
              "    <tr>\n",
              "      <th>2</th>\n",
              "      <td>2.0</td>\n",
              "      <td>5261</td>\n",
              "    </tr>\n",
              "    <tr>\n",
              "      <th>1</th>\n",
              "      <td>1.0</td>\n",
              "      <td>8226</td>\n",
              "    </tr>\n",
              "    <tr>\n",
              "      <th>0</th>\n",
              "      <td>0.0</td>\n",
              "      <td>115</td>\n",
              "    </tr>\n",
              "  </tbody>\n",
              "</table>\n",
              "<p>294 rows × 2 columns</p>\n",
              "</div>"
            ],
            "text/plain": [
              "     delivery_time  customer_id\n",
              "293          460.0            1\n",
              "292          456.0            2\n",
              "291          453.0            1\n",
              "290          445.0            1\n",
              "289          441.0            1\n",
              "..             ...          ...\n",
              "4              4.0         6237\n",
              "3              3.0         6937\n",
              "2              2.0         5261\n",
              "1              1.0         8226\n",
              "0              0.0          115\n",
              "\n",
              "[294 rows x 2 columns]"
            ]
          },
          "execution_count": 72,
          "metadata": {},
          "output_type": "execute_result"
        }
      ],
      "source": [
        "customer_order_geolocation_df.groupby('delivery_time').customer_id.nunique().reset_index().sort_values(by='delivery_time',ascending=False)"
      ]
    },
    {
      "cell_type": "markdown",
      "metadata": {},
      "source": [
        "dari data diatas, didapatkan informasi bahwa terdapat 1 pelanggan yang mengalami delivery time paling lama (460 hari)"
      ]
    },
    {
      "cell_type": "markdown",
      "metadata": {},
      "source": [
        "### explore data order_items"
      ]
    },
    {
      "cell_type": "code",
      "execution_count": 73,
      "metadata": {},
      "outputs": [
        {
          "data": {
            "text/html": [
              "<div>\n",
              "<style scoped>\n",
              "    .dataframe tbody tr th:only-of-type {\n",
              "        vertical-align: middle;\n",
              "    }\n",
              "\n",
              "    .dataframe tbody tr th {\n",
              "        vertical-align: top;\n",
              "    }\n",
              "\n",
              "    .dataframe thead th {\n",
              "        text-align: right;\n",
              "    }\n",
              "</style>\n",
              "<table border=\"1\" class=\"dataframe\">\n",
              "  <thead>\n",
              "    <tr style=\"text-align: right;\">\n",
              "      <th></th>\n",
              "      <th>order_id</th>\n",
              "      <th>order_item_id</th>\n",
              "      <th>product_id</th>\n",
              "      <th>seller_id</th>\n",
              "      <th>shipping_limit_date</th>\n",
              "      <th>price</th>\n",
              "      <th>freight_value</th>\n",
              "    </tr>\n",
              "  </thead>\n",
              "  <tbody>\n",
              "    <tr>\n",
              "      <th>count</th>\n",
              "      <td>112650</td>\n",
              "      <td>112650.000000</td>\n",
              "      <td>112650</td>\n",
              "      <td>112650</td>\n",
              "      <td>112650</td>\n",
              "      <td>112650.000000</td>\n",
              "      <td>112650.000000</td>\n",
              "    </tr>\n",
              "    <tr>\n",
              "      <th>unique</th>\n",
              "      <td>98666</td>\n",
              "      <td>NaN</td>\n",
              "      <td>32951</td>\n",
              "      <td>3095</td>\n",
              "      <td>NaN</td>\n",
              "      <td>NaN</td>\n",
              "      <td>NaN</td>\n",
              "    </tr>\n",
              "    <tr>\n",
              "      <th>top</th>\n",
              "      <td>8272b63d03f5f79c56e9e4120aec44ef</td>\n",
              "      <td>NaN</td>\n",
              "      <td>aca2eb7d00ea1a7b8ebd4e68314663af</td>\n",
              "      <td>6560211a19b47992c3666cc44a7e94c0</td>\n",
              "      <td>NaN</td>\n",
              "      <td>NaN</td>\n",
              "      <td>NaN</td>\n",
              "    </tr>\n",
              "    <tr>\n",
              "      <th>freq</th>\n",
              "      <td>21</td>\n",
              "      <td>NaN</td>\n",
              "      <td>527</td>\n",
              "      <td>2033</td>\n",
              "      <td>NaN</td>\n",
              "      <td>NaN</td>\n",
              "      <td>NaN</td>\n",
              "    </tr>\n",
              "    <tr>\n",
              "      <th>mean</th>\n",
              "      <td>NaN</td>\n",
              "      <td>1.197834</td>\n",
              "      <td>NaN</td>\n",
              "      <td>NaN</td>\n",
              "      <td>2018-01-07 15:36:52.192685312</td>\n",
              "      <td>120.653739</td>\n",
              "      <td>19.990320</td>\n",
              "    </tr>\n",
              "    <tr>\n",
              "      <th>min</th>\n",
              "      <td>NaN</td>\n",
              "      <td>1.000000</td>\n",
              "      <td>NaN</td>\n",
              "      <td>NaN</td>\n",
              "      <td>2016-09-19 00:15:34</td>\n",
              "      <td>0.850000</td>\n",
              "      <td>0.000000</td>\n",
              "    </tr>\n",
              "    <tr>\n",
              "      <th>25%</th>\n",
              "      <td>NaN</td>\n",
              "      <td>1.000000</td>\n",
              "      <td>NaN</td>\n",
              "      <td>NaN</td>\n",
              "      <td>2017-09-20 20:57:27.500000</td>\n",
              "      <td>39.900000</td>\n",
              "      <td>13.080000</td>\n",
              "    </tr>\n",
              "    <tr>\n",
              "      <th>50%</th>\n",
              "      <td>NaN</td>\n",
              "      <td>1.000000</td>\n",
              "      <td>NaN</td>\n",
              "      <td>NaN</td>\n",
              "      <td>2018-01-26 13:59:35</td>\n",
              "      <td>74.990000</td>\n",
              "      <td>16.260000</td>\n",
              "    </tr>\n",
              "    <tr>\n",
              "      <th>75%</th>\n",
              "      <td>NaN</td>\n",
              "      <td>1.000000</td>\n",
              "      <td>NaN</td>\n",
              "      <td>NaN</td>\n",
              "      <td>2018-05-10 14:34:00.750000128</td>\n",
              "      <td>134.900000</td>\n",
              "      <td>21.150000</td>\n",
              "    </tr>\n",
              "    <tr>\n",
              "      <th>max</th>\n",
              "      <td>NaN</td>\n",
              "      <td>21.000000</td>\n",
              "      <td>NaN</td>\n",
              "      <td>NaN</td>\n",
              "      <td>2020-04-09 22:35:08</td>\n",
              "      <td>6735.000000</td>\n",
              "      <td>409.680000</td>\n",
              "    </tr>\n",
              "    <tr>\n",
              "      <th>std</th>\n",
              "      <td>NaN</td>\n",
              "      <td>0.705124</td>\n",
              "      <td>NaN</td>\n",
              "      <td>NaN</td>\n",
              "      <td>NaN</td>\n",
              "      <td>183.633928</td>\n",
              "      <td>15.806405</td>\n",
              "    </tr>\n",
              "  </tbody>\n",
              "</table>\n",
              "</div>"
            ],
            "text/plain": [
              "                                order_id  order_item_id  \\\n",
              "count                             112650  112650.000000   \n",
              "unique                             98666            NaN   \n",
              "top     8272b63d03f5f79c56e9e4120aec44ef            NaN   \n",
              "freq                                  21            NaN   \n",
              "mean                                 NaN       1.197834   \n",
              "min                                  NaN       1.000000   \n",
              "25%                                  NaN       1.000000   \n",
              "50%                                  NaN       1.000000   \n",
              "75%                                  NaN       1.000000   \n",
              "max                                  NaN      21.000000   \n",
              "std                                  NaN       0.705124   \n",
              "\n",
              "                              product_id                         seller_id  \\\n",
              "count                             112650                            112650   \n",
              "unique                             32951                              3095   \n",
              "top     aca2eb7d00ea1a7b8ebd4e68314663af  6560211a19b47992c3666cc44a7e94c0   \n",
              "freq                                 527                              2033   \n",
              "mean                                 NaN                               NaN   \n",
              "min                                  NaN                               NaN   \n",
              "25%                                  NaN                               NaN   \n",
              "50%                                  NaN                               NaN   \n",
              "75%                                  NaN                               NaN   \n",
              "max                                  NaN                               NaN   \n",
              "std                                  NaN                               NaN   \n",
              "\n",
              "                  shipping_limit_date          price  freight_value  \n",
              "count                          112650  112650.000000  112650.000000  \n",
              "unique                            NaN            NaN            NaN  \n",
              "top                               NaN            NaN            NaN  \n",
              "freq                              NaN            NaN            NaN  \n",
              "mean    2018-01-07 15:36:52.192685312     120.653739      19.990320  \n",
              "min               2016-09-19 00:15:34       0.850000       0.000000  \n",
              "25%        2017-09-20 20:57:27.500000      39.900000      13.080000  \n",
              "50%               2018-01-26 13:59:35      74.990000      16.260000  \n",
              "75%     2018-05-10 14:34:00.750000128     134.900000      21.150000  \n",
              "max               2020-04-09 22:35:08    6735.000000     409.680000  \n",
              "std                               NaN     183.633928      15.806405  "
            ]
          },
          "execution_count": 73,
          "metadata": {},
          "output_type": "execute_result"
        }
      ],
      "source": [
        "order_items_df.describe(include='all')"
      ]
    },
    {
      "cell_type": "markdown",
      "metadata": {},
      "source": [
        "untuk menemukan informasi lebih lanjut saya akan menggabungkan data order_items_df dengan customer_order_geolocation_df"
      ]
    },
    {
      "cell_type": "code",
      "execution_count": 74,
      "metadata": {},
      "outputs": [
        {
          "data": {
            "text/html": [
              "<div>\n",
              "<style scoped>\n",
              "    .dataframe tbody tr th:only-of-type {\n",
              "        vertical-align: middle;\n",
              "    }\n",
              "\n",
              "    .dataframe tbody tr th {\n",
              "        vertical-align: top;\n",
              "    }\n",
              "\n",
              "    .dataframe thead th {\n",
              "        text-align: right;\n",
              "    }\n",
              "</style>\n",
              "<table border=\"1\" class=\"dataframe\">\n",
              "  <thead>\n",
              "    <tr style=\"text-align: right;\">\n",
              "      <th></th>\n",
              "      <th>customer_id</th>\n",
              "      <th>customer_zip_code_prefix</th>\n",
              "      <th>customer_city</th>\n",
              "      <th>customer_state</th>\n",
              "      <th>geolocation_lat</th>\n",
              "      <th>geolocation_lng</th>\n",
              "      <th>order_id</th>\n",
              "      <th>order_status</th>\n",
              "      <th>order_delivered_carrier_date</th>\n",
              "      <th>order_delivered_customer_date</th>\n",
              "      <th>delivery_time</th>\n",
              "      <th>order_item_id</th>\n",
              "      <th>product_id</th>\n",
              "      <th>seller_id</th>\n",
              "      <th>shipping_limit_date</th>\n",
              "      <th>price</th>\n",
              "      <th>freight_value</th>\n",
              "    </tr>\n",
              "  </thead>\n",
              "  <tbody>\n",
              "    <tr>\n",
              "      <th>1782241</th>\n",
              "      <td>1e3cc418d008eb445aeca1e65fe1a9a1</td>\n",
              "      <td>75920</td>\n",
              "      <td>santa helena de goias</td>\n",
              "      <td>GO</td>\n",
              "      <td>-17.806015</td>\n",
              "      <td>-50.591356</td>\n",
              "      <td>f66700bc0daa1c69ee30003597354134</td>\n",
              "      <td>delivered</td>\n",
              "      <td>2018-07-14 10:28:00</td>\n",
              "      <td>2018-07-25 17:37:37</td>\n",
              "      <td>11.0</td>\n",
              "      <td>1.0</td>\n",
              "      <td>e47d150b1ca529641e12015c3109bb24</td>\n",
              "      <td>6eb94e1466490d327a09abf8f3552a50</td>\n",
              "      <td>2018-07-19 17:05:20</td>\n",
              "      <td>139.00</td>\n",
              "      <td>41.95</td>\n",
              "    </tr>\n",
              "    <tr>\n",
              "      <th>9788782</th>\n",
              "      <td>e30fa490cbcc9a729fc955c34fdf6267</td>\n",
              "      <td>25070</td>\n",
              "      <td>duque de caxias</td>\n",
              "      <td>RJ</td>\n",
              "      <td>-22.778133</td>\n",
              "      <td>-43.303751</td>\n",
              "      <td>b1886110c1ae28ae4f81d9bc674b4384</td>\n",
              "      <td>delivered</td>\n",
              "      <td>2018-01-15 15:13:37</td>\n",
              "      <td>2018-01-22 19:58:54</td>\n",
              "      <td>7.0</td>\n",
              "      <td>1.0</td>\n",
              "      <td>2b4609f8948be18874494203496bc318</td>\n",
              "      <td>cc419e0650a3c5ba77189a1882b7556a</td>\n",
              "      <td>2018-01-19 16:33:24</td>\n",
              "      <td>89.99</td>\n",
              "      <td>15.39</td>\n",
              "    </tr>\n",
              "    <tr>\n",
              "      <th>9190147</th>\n",
              "      <td>19d3b3a2d4756af17603e2c35c7c2815</td>\n",
              "      <td>18602</td>\n",
              "      <td>botucatu</td>\n",
              "      <td>SP</td>\n",
              "      <td>-22.894729</td>\n",
              "      <td>-48.444129</td>\n",
              "      <td>cc66dee6fbc18bb79903c3a2cc14ff52</td>\n",
              "      <td>delivered</td>\n",
              "      <td>2018-04-16 16:23:53</td>\n",
              "      <td>2018-04-20 17:28:56</td>\n",
              "      <td>4.0</td>\n",
              "      <td>1.0</td>\n",
              "      <td>cc5447118c174dcc6456c84ccb29e6f7</td>\n",
              "      <td>ef0ace09169ac090589d85746e3e036f</td>\n",
              "      <td>2018-04-18 15:15:27</td>\n",
              "      <td>117.70</td>\n",
              "      <td>18.70</td>\n",
              "    </tr>\n",
              "    <tr>\n",
              "      <th>4463179</th>\n",
              "      <td>fbe5e936200a869da3a98b8bb37584af</td>\n",
              "      <td>39400</td>\n",
              "      <td>montes claros</td>\n",
              "      <td>MG</td>\n",
              "      <td>-16.715964</td>\n",
              "      <td>-43.870500</td>\n",
              "      <td>1639cec93b4df0f2fec8601299c7f4c8</td>\n",
              "      <td>delivered</td>\n",
              "      <td>2017-12-05 22:22:46</td>\n",
              "      <td>2017-12-18 21:12:36</td>\n",
              "      <td>13.0</td>\n",
              "      <td>1.0</td>\n",
              "      <td>96ed3b4b62790bd962aac0b317109be4</td>\n",
              "      <td>cac4c8e7b1ca6252d8f20b2fc1a2e4af</td>\n",
              "      <td>2017-12-07 20:56:22</td>\n",
              "      <td>34.99</td>\n",
              "      <td>17.60</td>\n",
              "    </tr>\n",
              "    <tr>\n",
              "      <th>11486338</th>\n",
              "      <td>6906dc635a151b12340ae5657e98a0ca</td>\n",
              "      <td>85580</td>\n",
              "      <td>itapejara d'oeste</td>\n",
              "      <td>PR</td>\n",
              "      <td>-25.961701</td>\n",
              "      <td>-52.816808</td>\n",
              "      <td>975a0b1030c5f60d85ae5431fb40162b</td>\n",
              "      <td>delivered</td>\n",
              "      <td>2018-03-12 21:37:24</td>\n",
              "      <td>2018-03-22 09:18:23</td>\n",
              "      <td>9.0</td>\n",
              "      <td>1.0</td>\n",
              "      <td>060f0122cdc8f25db4a0d7359fdae7b0</td>\n",
              "      <td>6560211a19b47992c3666cc44a7e94c0</td>\n",
              "      <td>2018-03-15 13:30:49</td>\n",
              "      <td>49.00</td>\n",
              "      <td>18.23</td>\n",
              "    </tr>\n",
              "  </tbody>\n",
              "</table>\n",
              "</div>"
            ],
            "text/plain": [
              "                               customer_id  customer_zip_code_prefix  \\\n",
              "1782241   1e3cc418d008eb445aeca1e65fe1a9a1                     75920   \n",
              "9788782   e30fa490cbcc9a729fc955c34fdf6267                     25070   \n",
              "9190147   19d3b3a2d4756af17603e2c35c7c2815                     18602   \n",
              "4463179   fbe5e936200a869da3a98b8bb37584af                     39400   \n",
              "11486338  6906dc635a151b12340ae5657e98a0ca                     85580   \n",
              "\n",
              "                  customer_city customer_state  geolocation_lat  \\\n",
              "1782241   santa helena de goias             GO       -17.806015   \n",
              "9788782         duque de caxias             RJ       -22.778133   \n",
              "9190147                botucatu             SP       -22.894729   \n",
              "4463179           montes claros             MG       -16.715964   \n",
              "11486338      itapejara d'oeste             PR       -25.961701   \n",
              "\n",
              "          geolocation_lng                          order_id order_status  \\\n",
              "1782241        -50.591356  f66700bc0daa1c69ee30003597354134    delivered   \n",
              "9788782        -43.303751  b1886110c1ae28ae4f81d9bc674b4384    delivered   \n",
              "9190147        -48.444129  cc66dee6fbc18bb79903c3a2cc14ff52    delivered   \n",
              "4463179        -43.870500  1639cec93b4df0f2fec8601299c7f4c8    delivered   \n",
              "11486338       -52.816808  975a0b1030c5f60d85ae5431fb40162b    delivered   \n",
              "\n",
              "         order_delivered_carrier_date order_delivered_customer_date  \\\n",
              "1782241           2018-07-14 10:28:00           2018-07-25 17:37:37   \n",
              "9788782           2018-01-15 15:13:37           2018-01-22 19:58:54   \n",
              "9190147           2018-04-16 16:23:53           2018-04-20 17:28:56   \n",
              "4463179           2017-12-05 22:22:46           2017-12-18 21:12:36   \n",
              "11486338          2018-03-12 21:37:24           2018-03-22 09:18:23   \n",
              "\n",
              "          delivery_time  order_item_id                        product_id  \\\n",
              "1782241            11.0            1.0  e47d150b1ca529641e12015c3109bb24   \n",
              "9788782             7.0            1.0  2b4609f8948be18874494203496bc318   \n",
              "9190147             4.0            1.0  cc5447118c174dcc6456c84ccb29e6f7   \n",
              "4463179            13.0            1.0  96ed3b4b62790bd962aac0b317109be4   \n",
              "11486338            9.0            1.0  060f0122cdc8f25db4a0d7359fdae7b0   \n",
              "\n",
              "                                 seller_id shipping_limit_date   price  \\\n",
              "1782241   6eb94e1466490d327a09abf8f3552a50 2018-07-19 17:05:20  139.00   \n",
              "9788782   cc419e0650a3c5ba77189a1882b7556a 2018-01-19 16:33:24   89.99   \n",
              "9190147   ef0ace09169ac090589d85746e3e036f 2018-04-18 15:15:27  117.70   \n",
              "4463179   cac4c8e7b1ca6252d8f20b2fc1a2e4af 2017-12-07 20:56:22   34.99   \n",
              "11486338  6560211a19b47992c3666cc44a7e94c0 2018-03-15 13:30:49   49.00   \n",
              "\n",
              "          freight_value  \n",
              "1782241           41.95  \n",
              "9788782           15.39  \n",
              "9190147           18.70  \n",
              "4463179           17.60  \n",
              "11486338          18.23  "
            ]
          },
          "execution_count": 74,
          "metadata": {},
          "output_type": "execute_result"
        }
      ],
      "source": [
        "customer_order_geolocation_items_df=pd.merge(\n",
        "    left=customer_order_geolocation_df,\n",
        "    right=order_items_df,\n",
        "    how='left',\n",
        "    left_on='order_id',\n",
        "    right_on='order_id'\n",
        ")\n",
        "customer_order_geolocation_items_df.sample(5)"
      ]
    },
    {
      "cell_type": "markdown",
      "metadata": {},
      "source": [
        "menurut saya kolom 'order_item_id' kuranng berpengaruh terhadap analisis, jadi saya akan drop kolom tersebut"
      ]
    },
    {
      "cell_type": "code",
      "execution_count": 75,
      "metadata": {},
      "outputs": [
        {
          "data": {
            "text/html": [
              "<div>\n",
              "<style scoped>\n",
              "    .dataframe tbody tr th:only-of-type {\n",
              "        vertical-align: middle;\n",
              "    }\n",
              "\n",
              "    .dataframe tbody tr th {\n",
              "        vertical-align: top;\n",
              "    }\n",
              "\n",
              "    .dataframe thead th {\n",
              "        text-align: right;\n",
              "    }\n",
              "</style>\n",
              "<table border=\"1\" class=\"dataframe\">\n",
              "  <thead>\n",
              "    <tr style=\"text-align: right;\">\n",
              "      <th></th>\n",
              "      <th>customer_id</th>\n",
              "      <th>customer_zip_code_prefix</th>\n",
              "      <th>customer_city</th>\n",
              "      <th>customer_state</th>\n",
              "      <th>geolocation_lat</th>\n",
              "      <th>geolocation_lng</th>\n",
              "      <th>order_id</th>\n",
              "      <th>order_status</th>\n",
              "      <th>order_delivered_carrier_date</th>\n",
              "      <th>order_delivered_customer_date</th>\n",
              "      <th>delivery_time</th>\n",
              "      <th>product_id</th>\n",
              "      <th>seller_id</th>\n",
              "      <th>shipping_limit_date</th>\n",
              "      <th>price</th>\n",
              "      <th>freight_value</th>\n",
              "    </tr>\n",
              "  </thead>\n",
              "  <tbody>\n",
              "    <tr>\n",
              "      <th>3511991</th>\n",
              "      <td>54ba026ae689f610b309353e28a5fcd1</td>\n",
              "      <td>8573</td>\n",
              "      <td>itaquaquecetuba</td>\n",
              "      <td>SP</td>\n",
              "      <td>-23.492266</td>\n",
              "      <td>-46.345937</td>\n",
              "      <td>51074d1feab8a648c5d1dfb7c354674d</td>\n",
              "      <td>delivered</td>\n",
              "      <td>2018-03-05 20:19:13</td>\n",
              "      <td>2018-03-15 17:26:36</td>\n",
              "      <td>10.0</td>\n",
              "      <td>e2dbf7712dcef4577bfee8f58eea55d1</td>\n",
              "      <td>d52cbce9845184537284a23c3bc3da0e</td>\n",
              "      <td>2018-03-08 10:50:01</td>\n",
              "      <td>29.00</td>\n",
              "      <td>15.10</td>\n",
              "    </tr>\n",
              "    <tr>\n",
              "      <th>8051600</th>\n",
              "      <td>6d8b84bc65ad63bb703b96c994e3f18d</td>\n",
              "      <td>9710</td>\n",
              "      <td>sao bernardo do campo</td>\n",
              "      <td>SP</td>\n",
              "      <td>-23.709491</td>\n",
              "      <td>-46.551968</td>\n",
              "      <td>4d31272d8cb07c4ab84562c8ae2e0fdb</td>\n",
              "      <td>delivered</td>\n",
              "      <td>2017-07-11 21:47:59</td>\n",
              "      <td>2017-07-25 19:28:50</td>\n",
              "      <td>14.0</td>\n",
              "      <td>cfc37213adcf7bc0a35084f70a312b13</td>\n",
              "      <td>f021c962aaba8ef6eb527a9c2c8394d1</td>\n",
              "      <td>2017-07-17 06:43:42</td>\n",
              "      <td>479.90</td>\n",
              "      <td>21.60</td>\n",
              "    </tr>\n",
              "    <tr>\n",
              "      <th>758802</th>\n",
              "      <td>4061f8d0fc60b4961515e1ac8897ca1c</td>\n",
              "      <td>8275</td>\n",
              "      <td>sao paulo</td>\n",
              "      <td>SP</td>\n",
              "      <td>-23.572423</td>\n",
              "      <td>-46.478428</td>\n",
              "      <td>1ce94e846b53c3ed9a075323a8dbe580</td>\n",
              "      <td>delivered</td>\n",
              "      <td>2018-04-19 14:51:53</td>\n",
              "      <td>2018-04-28 15:41:54</td>\n",
              "      <td>9.0</td>\n",
              "      <td>186d7d472f062ca6ef30689faa935d2e</td>\n",
              "      <td>53e4c6e0f4312d4d2107a8c9cddf45cd</td>\n",
              "      <td>2018-04-19 13:55:11</td>\n",
              "      <td>24.00</td>\n",
              "      <td>8.29</td>\n",
              "    </tr>\n",
              "    <tr>\n",
              "      <th>4118852</th>\n",
              "      <td>dc51d4a03b2448771b76837517052d68</td>\n",
              "      <td>5734</td>\n",
              "      <td>sao paulo</td>\n",
              "      <td>SP</td>\n",
              "      <td>-23.628416</td>\n",
              "      <td>-46.746632</td>\n",
              "      <td>8ddd550f59752f7efbbf0284aee4631b</td>\n",
              "      <td>delivered</td>\n",
              "      <td>2017-12-12 22:49:09</td>\n",
              "      <td>2017-12-15 18:28:58</td>\n",
              "      <td>3.0</td>\n",
              "      <td>cc971e0365873137b8bef2ebad633e6f</td>\n",
              "      <td>7a67c85e85bb2ce8582c35f2203ad736</td>\n",
              "      <td>2017-12-14 17:30:31</td>\n",
              "      <td>239.99</td>\n",
              "      <td>14.23</td>\n",
              "    </tr>\n",
              "    <tr>\n",
              "      <th>6527603</th>\n",
              "      <td>3946e462dbdea5c684aa376441820496</td>\n",
              "      <td>18550</td>\n",
              "      <td>boituva</td>\n",
              "      <td>SP</td>\n",
              "      <td>-23.290662</td>\n",
              "      <td>-47.720142</td>\n",
              "      <td>6dc3e3b2cee53031d832943548d16db9</td>\n",
              "      <td>delivered</td>\n",
              "      <td>2017-11-17 15:42:53</td>\n",
              "      <td>2017-11-27 18:45:04</td>\n",
              "      <td>10.0</td>\n",
              "      <td>b99e4f4fa3f421e0ffbd512d9f152dec</td>\n",
              "      <td>128639473a139ac0f3e5f5ade55873a5</td>\n",
              "      <td>2017-11-20 18:30:31</td>\n",
              "      <td>19.90</td>\n",
              "      <td>12.48</td>\n",
              "    </tr>\n",
              "  </tbody>\n",
              "</table>\n",
              "</div>"
            ],
            "text/plain": [
              "                              customer_id  customer_zip_code_prefix  \\\n",
              "3511991  54ba026ae689f610b309353e28a5fcd1                      8573   \n",
              "8051600  6d8b84bc65ad63bb703b96c994e3f18d                      9710   \n",
              "758802   4061f8d0fc60b4961515e1ac8897ca1c                      8275   \n",
              "4118852  dc51d4a03b2448771b76837517052d68                      5734   \n",
              "6527603  3946e462dbdea5c684aa376441820496                     18550   \n",
              "\n",
              "                 customer_city customer_state  geolocation_lat  \\\n",
              "3511991        itaquaquecetuba             SP       -23.492266   \n",
              "8051600  sao bernardo do campo             SP       -23.709491   \n",
              "758802               sao paulo             SP       -23.572423   \n",
              "4118852              sao paulo             SP       -23.628416   \n",
              "6527603                boituva             SP       -23.290662   \n",
              "\n",
              "         geolocation_lng                          order_id order_status  \\\n",
              "3511991       -46.345937  51074d1feab8a648c5d1dfb7c354674d    delivered   \n",
              "8051600       -46.551968  4d31272d8cb07c4ab84562c8ae2e0fdb    delivered   \n",
              "758802        -46.478428  1ce94e846b53c3ed9a075323a8dbe580    delivered   \n",
              "4118852       -46.746632  8ddd550f59752f7efbbf0284aee4631b    delivered   \n",
              "6527603       -47.720142  6dc3e3b2cee53031d832943548d16db9    delivered   \n",
              "\n",
              "        order_delivered_carrier_date order_delivered_customer_date  \\\n",
              "3511991          2018-03-05 20:19:13           2018-03-15 17:26:36   \n",
              "8051600          2017-07-11 21:47:59           2017-07-25 19:28:50   \n",
              "758802           2018-04-19 14:51:53           2018-04-28 15:41:54   \n",
              "4118852          2017-12-12 22:49:09           2017-12-15 18:28:58   \n",
              "6527603          2017-11-17 15:42:53           2017-11-27 18:45:04   \n",
              "\n",
              "         delivery_time                        product_id  \\\n",
              "3511991           10.0  e2dbf7712dcef4577bfee8f58eea55d1   \n",
              "8051600           14.0  cfc37213adcf7bc0a35084f70a312b13   \n",
              "758802             9.0  186d7d472f062ca6ef30689faa935d2e   \n",
              "4118852            3.0  cc971e0365873137b8bef2ebad633e6f   \n",
              "6527603           10.0  b99e4f4fa3f421e0ffbd512d9f152dec   \n",
              "\n",
              "                                seller_id shipping_limit_date   price  \\\n",
              "3511991  d52cbce9845184537284a23c3bc3da0e 2018-03-08 10:50:01   29.00   \n",
              "8051600  f021c962aaba8ef6eb527a9c2c8394d1 2017-07-17 06:43:42  479.90   \n",
              "758802   53e4c6e0f4312d4d2107a8c9cddf45cd 2018-04-19 13:55:11   24.00   \n",
              "4118852  7a67c85e85bb2ce8582c35f2203ad736 2017-12-14 17:30:31  239.99   \n",
              "6527603  128639473a139ac0f3e5f5ade55873a5 2017-11-20 18:30:31   19.90   \n",
              "\n",
              "         freight_value  \n",
              "3511991          15.10  \n",
              "8051600          21.60  \n",
              "758802            8.29  \n",
              "4118852          14.23  \n",
              "6527603          12.48  "
            ]
          },
          "execution_count": 75,
          "metadata": {},
          "output_type": "execute_result"
        }
      ],
      "source": [
        "customer_order_geolocation_items_df.drop('order_item_id',axis=1,inplace=True)\n",
        "customer_order_geolocation_items_df.sample(5)"
      ]
    },
    {
      "cell_type": "markdown",
      "metadata": {},
      "source": [
        "berdasarkan data diatas, kita bisa membuat kolom baru yang berisi informasi apakah pesanan tersebut melewati batas pengiriman atau tidak. untuk melakukannya kita perlu memeriksa apakah 'order_delivered_customer_date' lebih lambat daripada 'shipping_limit_date'."
      ]
    },
    {
      "cell_type": "code",
      "execution_count": 76,
      "metadata": {},
      "outputs": [
        {
          "data": {
            "text/html": [
              "<div>\n",
              "<style scoped>\n",
              "    .dataframe tbody tr th:only-of-type {\n",
              "        vertical-align: middle;\n",
              "    }\n",
              "\n",
              "    .dataframe tbody tr th {\n",
              "        vertical-align: top;\n",
              "    }\n",
              "\n",
              "    .dataframe thead th {\n",
              "        text-align: right;\n",
              "    }\n",
              "</style>\n",
              "<table border=\"1\" class=\"dataframe\">\n",
              "  <thead>\n",
              "    <tr style=\"text-align: right;\">\n",
              "      <th></th>\n",
              "      <th>customer_id</th>\n",
              "      <th>customer_zip_code_prefix</th>\n",
              "      <th>customer_city</th>\n",
              "      <th>customer_state</th>\n",
              "      <th>geolocation_lat</th>\n",
              "      <th>geolocation_lng</th>\n",
              "      <th>order_id</th>\n",
              "      <th>order_status</th>\n",
              "      <th>order_delivered_carrier_date</th>\n",
              "      <th>order_delivered_customer_date</th>\n",
              "      <th>delivery_time</th>\n",
              "      <th>product_id</th>\n",
              "      <th>seller_id</th>\n",
              "      <th>shipping_limit_date</th>\n",
              "      <th>price</th>\n",
              "      <th>freight_value</th>\n",
              "      <th>delivery_status</th>\n",
              "    </tr>\n",
              "  </thead>\n",
              "  <tbody>\n",
              "    <tr>\n",
              "      <th>8612555</th>\n",
              "      <td>5a96ef8103ed640c565b1cb9c2ac290d</td>\n",
              "      <td>12214</td>\n",
              "      <td>sao jose dos campos</td>\n",
              "      <td>SP</td>\n",
              "      <td>-23.167327</td>\n",
              "      <td>-45.914982</td>\n",
              "      <td>6eb436e1a42af6f8b731fc54576181a5</td>\n",
              "      <td>delivered</td>\n",
              "      <td>2018-02-21 18:28:53</td>\n",
              "      <td>2018-03-05 20:28:35</td>\n",
              "      <td>12.0</td>\n",
              "      <td>389d119b48cf3043d311335e499d9c6b</td>\n",
              "      <td>1f50f920176fa81dab994f9023523100</td>\n",
              "      <td>2018-02-22 13:35:24</td>\n",
              "      <td>49.90</td>\n",
              "      <td>13.37</td>\n",
              "      <td>Past Deadline</td>\n",
              "    </tr>\n",
              "    <tr>\n",
              "      <th>7910603</th>\n",
              "      <td>94f050fb387af0b4c3a6780278db299e</td>\n",
              "      <td>88020</td>\n",
              "      <td>florianopolis</td>\n",
              "      <td>SC</td>\n",
              "      <td>-27.597450</td>\n",
              "      <td>-48.547963</td>\n",
              "      <td>a10b5cf95e016d8abd403c05970234a0</td>\n",
              "      <td>delivered</td>\n",
              "      <td>2018-04-18 18:26:26</td>\n",
              "      <td>2018-04-25 00:48:38</td>\n",
              "      <td>6.0</td>\n",
              "      <td>7e646f7e1e428a1ddde5a18dd9d42e95</td>\n",
              "      <td>5058e8c1e82653974541e83690655b4a</td>\n",
              "      <td>2018-04-18 03:28:47</td>\n",
              "      <td>119.99</td>\n",
              "      <td>27.60</td>\n",
              "      <td>Past Deadline</td>\n",
              "    </tr>\n",
              "    <tr>\n",
              "      <th>10240690</th>\n",
              "      <td>8fe12987222716b7f2cacc4bf4b3d367</td>\n",
              "      <td>6216</td>\n",
              "      <td>osasco</td>\n",
              "      <td>SP</td>\n",
              "      <td>-23.523504</td>\n",
              "      <td>-46.776105</td>\n",
              "      <td>90eb7899e0ba01c27fc128e31e0c872e</td>\n",
              "      <td>delivered</td>\n",
              "      <td>2018-08-06 14:57:00</td>\n",
              "      <td>2018-08-13 14:51:49</td>\n",
              "      <td>7.0</td>\n",
              "      <td>02851253400fd18410f8eb4369cff9e1</td>\n",
              "      <td>cb6c9f5888a7a090c75beaf615925792</td>\n",
              "      <td>2018-08-08 12:05:14</td>\n",
              "      <td>114.90</td>\n",
              "      <td>27.78</td>\n",
              "      <td>Past Deadline</td>\n",
              "    </tr>\n",
              "    <tr>\n",
              "      <th>10427661</th>\n",
              "      <td>82d49350087901dbb49770edeae39a07</td>\n",
              "      <td>59152</td>\n",
              "      <td>parnamirim</td>\n",
              "      <td>RN</td>\n",
              "      <td>-5.893205</td>\n",
              "      <td>-35.205572</td>\n",
              "      <td>382b28c2f9fa93f5bb38c304ea11d6fc</td>\n",
              "      <td>delivered</td>\n",
              "      <td>2018-06-22 13:35:00</td>\n",
              "      <td>2018-07-02 19:54:17</td>\n",
              "      <td>10.0</td>\n",
              "      <td>0c66624528bd676dbe410f6f07ec32b0</td>\n",
              "      <td>8ae520247981aa06bc94abddf5f46d34</td>\n",
              "      <td>2018-06-26 09:15:30</td>\n",
              "      <td>189.90</td>\n",
              "      <td>61.61</td>\n",
              "      <td>Past Deadline</td>\n",
              "    </tr>\n",
              "    <tr>\n",
              "      <th>2401240</th>\n",
              "      <td>acac7c47f37fdb07e2bfe3932a997d3b</td>\n",
              "      <td>13569</td>\n",
              "      <td>sao carlos</td>\n",
              "      <td>SP</td>\n",
              "      <td>-22.024352</td>\n",
              "      <td>-47.871714</td>\n",
              "      <td>d7d9f1ff0b6aa62f2d4e7fc99e60e8ea</td>\n",
              "      <td>delivered</td>\n",
              "      <td>2018-01-18 23:18:53</td>\n",
              "      <td>2018-01-24 19:52:56</td>\n",
              "      <td>6.0</td>\n",
              "      <td>651fe753ea1d6ad3d5744c1bffd3d6e1</td>\n",
              "      <td>7178f9f4dd81dcef02f62acdf8151e01</td>\n",
              "      <td>2018-01-26 14:56:22</td>\n",
              "      <td>19.90</td>\n",
              "      <td>15.10</td>\n",
              "      <td>On Time</td>\n",
              "    </tr>\n",
              "  </tbody>\n",
              "</table>\n",
              "</div>"
            ],
            "text/plain": [
              "                               customer_id  customer_zip_code_prefix  \\\n",
              "8612555   5a96ef8103ed640c565b1cb9c2ac290d                     12214   \n",
              "7910603   94f050fb387af0b4c3a6780278db299e                     88020   \n",
              "10240690  8fe12987222716b7f2cacc4bf4b3d367                      6216   \n",
              "10427661  82d49350087901dbb49770edeae39a07                     59152   \n",
              "2401240   acac7c47f37fdb07e2bfe3932a997d3b                     13569   \n",
              "\n",
              "                customer_city customer_state  geolocation_lat  \\\n",
              "8612555   sao jose dos campos             SP       -23.167327   \n",
              "7910603         florianopolis             SC       -27.597450   \n",
              "10240690               osasco             SP       -23.523504   \n",
              "10427661           parnamirim             RN        -5.893205   \n",
              "2401240            sao carlos             SP       -22.024352   \n",
              "\n",
              "          geolocation_lng                          order_id order_status  \\\n",
              "8612555        -45.914982  6eb436e1a42af6f8b731fc54576181a5    delivered   \n",
              "7910603        -48.547963  a10b5cf95e016d8abd403c05970234a0    delivered   \n",
              "10240690       -46.776105  90eb7899e0ba01c27fc128e31e0c872e    delivered   \n",
              "10427661       -35.205572  382b28c2f9fa93f5bb38c304ea11d6fc    delivered   \n",
              "2401240        -47.871714  d7d9f1ff0b6aa62f2d4e7fc99e60e8ea    delivered   \n",
              "\n",
              "         order_delivered_carrier_date order_delivered_customer_date  \\\n",
              "8612555           2018-02-21 18:28:53           2018-03-05 20:28:35   \n",
              "7910603           2018-04-18 18:26:26           2018-04-25 00:48:38   \n",
              "10240690          2018-08-06 14:57:00           2018-08-13 14:51:49   \n",
              "10427661          2018-06-22 13:35:00           2018-07-02 19:54:17   \n",
              "2401240           2018-01-18 23:18:53           2018-01-24 19:52:56   \n",
              "\n",
              "          delivery_time                        product_id  \\\n",
              "8612555            12.0  389d119b48cf3043d311335e499d9c6b   \n",
              "7910603             6.0  7e646f7e1e428a1ddde5a18dd9d42e95   \n",
              "10240690            7.0  02851253400fd18410f8eb4369cff9e1   \n",
              "10427661           10.0  0c66624528bd676dbe410f6f07ec32b0   \n",
              "2401240             6.0  651fe753ea1d6ad3d5744c1bffd3d6e1   \n",
              "\n",
              "                                 seller_id shipping_limit_date   price  \\\n",
              "8612555   1f50f920176fa81dab994f9023523100 2018-02-22 13:35:24   49.90   \n",
              "7910603   5058e8c1e82653974541e83690655b4a 2018-04-18 03:28:47  119.99   \n",
              "10240690  cb6c9f5888a7a090c75beaf615925792 2018-08-08 12:05:14  114.90   \n",
              "10427661  8ae520247981aa06bc94abddf5f46d34 2018-06-26 09:15:30  189.90   \n",
              "2401240   7178f9f4dd81dcef02f62acdf8151e01 2018-01-26 14:56:22   19.90   \n",
              "\n",
              "          freight_value delivery_status  \n",
              "8612555           13.37   Past Deadline  \n",
              "7910603           27.60   Past Deadline  \n",
              "10240690          27.78   Past Deadline  \n",
              "10427661          61.61   Past Deadline  \n",
              "2401240           15.10         On Time  "
            ]
          },
          "execution_count": 76,
          "metadata": {},
          "output_type": "execute_result"
        }
      ],
      "source": [
        "customer_order_geolocation_items_df['delivery_status']=customer_order_geolocation_items_df.apply(lambda row: 'Past Deadline' if row['order_delivered_customer_date'] > row['shipping_limit_date'] else 'On Time', axis=1)\n",
        "customer_order_geolocation_items_df.sample(5)"
      ]
    },
    {
      "cell_type": "markdown",
      "metadata": {},
      "source": [
        "dari data diatas kita bisa mengetahui order mana yang mengalami past deadline"
      ]
    },
    {
      "cell_type": "code",
      "execution_count": 77,
      "metadata": {},
      "outputs": [
        {
          "data": {
            "text/plain": [
              "delivery_status\n",
              "Past Deadline    77865\n",
              "On Time          21698\n",
              "Name: order_id, dtype: int64"
            ]
          },
          "execution_count": 77,
          "metadata": {},
          "output_type": "execute_result"
        }
      ],
      "source": [
        "customer_order_geolocation_items_df.groupby('delivery_status').order_id.nunique().sort_values(ascending=False)"
      ]
    },
    {
      "cell_type": "markdown",
      "metadata": {},
      "source": [
        "dari informasi tersebut didapatkan:\n",
        "- 77865 pesanan yang melewati batas waktu pengiriman (Past Deadline)\n",
        "- 21698 pesanan yang tepat waktu (On Time)"
      ]
    },
    {
      "cell_type": "markdown",
      "metadata": {},
      "source": [
        "### explore data order_payments_df"
      ]
    },
    {
      "cell_type": "code",
      "execution_count": 78,
      "metadata": {},
      "outputs": [
        {
          "data": {
            "text/html": [
              "<div>\n",
              "<style scoped>\n",
              "    .dataframe tbody tr th:only-of-type {\n",
              "        vertical-align: middle;\n",
              "    }\n",
              "\n",
              "    .dataframe tbody tr th {\n",
              "        vertical-align: top;\n",
              "    }\n",
              "\n",
              "    .dataframe thead th {\n",
              "        text-align: right;\n",
              "    }\n",
              "</style>\n",
              "<table border=\"1\" class=\"dataframe\">\n",
              "  <thead>\n",
              "    <tr style=\"text-align: right;\">\n",
              "      <th></th>\n",
              "      <th>order_id</th>\n",
              "      <th>payment_sequential</th>\n",
              "      <th>payment_type</th>\n",
              "      <th>payment_installments</th>\n",
              "      <th>payment_value</th>\n",
              "    </tr>\n",
              "  </thead>\n",
              "  <tbody>\n",
              "    <tr>\n",
              "      <th>count</th>\n",
              "      <td>103886</td>\n",
              "      <td>103886.000000</td>\n",
              "      <td>103886</td>\n",
              "      <td>103886.000000</td>\n",
              "      <td>103886.000000</td>\n",
              "    </tr>\n",
              "    <tr>\n",
              "      <th>unique</th>\n",
              "      <td>99440</td>\n",
              "      <td>NaN</td>\n",
              "      <td>5</td>\n",
              "      <td>NaN</td>\n",
              "      <td>NaN</td>\n",
              "    </tr>\n",
              "    <tr>\n",
              "      <th>top</th>\n",
              "      <td>fa65dad1b0e818e3ccc5cb0e39231352</td>\n",
              "      <td>NaN</td>\n",
              "      <td>credit_card</td>\n",
              "      <td>NaN</td>\n",
              "      <td>NaN</td>\n",
              "    </tr>\n",
              "    <tr>\n",
              "      <th>freq</th>\n",
              "      <td>29</td>\n",
              "      <td>NaN</td>\n",
              "      <td>76795</td>\n",
              "      <td>NaN</td>\n",
              "      <td>NaN</td>\n",
              "    </tr>\n",
              "    <tr>\n",
              "      <th>mean</th>\n",
              "      <td>NaN</td>\n",
              "      <td>1.092679</td>\n",
              "      <td>NaN</td>\n",
              "      <td>2.853349</td>\n",
              "      <td>154.100380</td>\n",
              "    </tr>\n",
              "    <tr>\n",
              "      <th>std</th>\n",
              "      <td>NaN</td>\n",
              "      <td>0.706584</td>\n",
              "      <td>NaN</td>\n",
              "      <td>2.687051</td>\n",
              "      <td>217.494064</td>\n",
              "    </tr>\n",
              "    <tr>\n",
              "      <th>min</th>\n",
              "      <td>NaN</td>\n",
              "      <td>1.000000</td>\n",
              "      <td>NaN</td>\n",
              "      <td>0.000000</td>\n",
              "      <td>0.000000</td>\n",
              "    </tr>\n",
              "    <tr>\n",
              "      <th>25%</th>\n",
              "      <td>NaN</td>\n",
              "      <td>1.000000</td>\n",
              "      <td>NaN</td>\n",
              "      <td>1.000000</td>\n",
              "      <td>56.790000</td>\n",
              "    </tr>\n",
              "    <tr>\n",
              "      <th>50%</th>\n",
              "      <td>NaN</td>\n",
              "      <td>1.000000</td>\n",
              "      <td>NaN</td>\n",
              "      <td>1.000000</td>\n",
              "      <td>100.000000</td>\n",
              "    </tr>\n",
              "    <tr>\n",
              "      <th>75%</th>\n",
              "      <td>NaN</td>\n",
              "      <td>1.000000</td>\n",
              "      <td>NaN</td>\n",
              "      <td>4.000000</td>\n",
              "      <td>171.837500</td>\n",
              "    </tr>\n",
              "    <tr>\n",
              "      <th>max</th>\n",
              "      <td>NaN</td>\n",
              "      <td>29.000000</td>\n",
              "      <td>NaN</td>\n",
              "      <td>24.000000</td>\n",
              "      <td>13664.080000</td>\n",
              "    </tr>\n",
              "  </tbody>\n",
              "</table>\n",
              "</div>"
            ],
            "text/plain": [
              "                                order_id  payment_sequential payment_type  \\\n",
              "count                             103886       103886.000000       103886   \n",
              "unique                             99440                 NaN            5   \n",
              "top     fa65dad1b0e818e3ccc5cb0e39231352                 NaN  credit_card   \n",
              "freq                                  29                 NaN        76795   \n",
              "mean                                 NaN            1.092679          NaN   \n",
              "std                                  NaN            0.706584          NaN   \n",
              "min                                  NaN            1.000000          NaN   \n",
              "25%                                  NaN            1.000000          NaN   \n",
              "50%                                  NaN            1.000000          NaN   \n",
              "75%                                  NaN            1.000000          NaN   \n",
              "max                                  NaN           29.000000          NaN   \n",
              "\n",
              "        payment_installments  payment_value  \n",
              "count          103886.000000  103886.000000  \n",
              "unique                   NaN            NaN  \n",
              "top                      NaN            NaN  \n",
              "freq                     NaN            NaN  \n",
              "mean                2.853349     154.100380  \n",
              "std                 2.687051     217.494064  \n",
              "min                 0.000000       0.000000  \n",
              "25%                 1.000000      56.790000  \n",
              "50%                 1.000000     100.000000  \n",
              "75%                 4.000000     171.837500  \n",
              "max                24.000000   13664.080000  "
            ]
          },
          "execution_count": 78,
          "metadata": {},
          "output_type": "execute_result"
        }
      ],
      "source": [
        "order_payments_df.describe(include='all')"
      ]
    },
    {
      "cell_type": "markdown",
      "metadata": {},
      "source": [
        "menururt saya kolom 'payment_sequential' tidak diperlukan. maka dari itu saya akan drop kolom tersebut."
      ]
    },
    {
      "cell_type": "code",
      "execution_count": 79,
      "metadata": {},
      "outputs": [
        {
          "data": {
            "text/html": [
              "<div>\n",
              "<style scoped>\n",
              "    .dataframe tbody tr th:only-of-type {\n",
              "        vertical-align: middle;\n",
              "    }\n",
              "\n",
              "    .dataframe tbody tr th {\n",
              "        vertical-align: top;\n",
              "    }\n",
              "\n",
              "    .dataframe thead th {\n",
              "        text-align: right;\n",
              "    }\n",
              "</style>\n",
              "<table border=\"1\" class=\"dataframe\">\n",
              "  <thead>\n",
              "    <tr style=\"text-align: right;\">\n",
              "      <th></th>\n",
              "      <th>order_id</th>\n",
              "      <th>payment_type</th>\n",
              "      <th>payment_installments</th>\n",
              "      <th>payment_value</th>\n",
              "    </tr>\n",
              "  </thead>\n",
              "  <tbody>\n",
              "    <tr>\n",
              "      <th>0</th>\n",
              "      <td>b81ef226f3fe1789b1e8b2acac839d17</td>\n",
              "      <td>credit_card</td>\n",
              "      <td>8</td>\n",
              "      <td>99.33</td>\n",
              "    </tr>\n",
              "    <tr>\n",
              "      <th>1</th>\n",
              "      <td>a9810da82917af2d9aefd1278f1dcfa0</td>\n",
              "      <td>credit_card</td>\n",
              "      <td>1</td>\n",
              "      <td>24.39</td>\n",
              "    </tr>\n",
              "    <tr>\n",
              "      <th>2</th>\n",
              "      <td>25e8ea4e93396b6fa0d3dd708e76c1bd</td>\n",
              "      <td>credit_card</td>\n",
              "      <td>1</td>\n",
              "      <td>65.71</td>\n",
              "    </tr>\n",
              "    <tr>\n",
              "      <th>3</th>\n",
              "      <td>ba78997921bbcdc1373bb41e913ab953</td>\n",
              "      <td>credit_card</td>\n",
              "      <td>8</td>\n",
              "      <td>107.78</td>\n",
              "    </tr>\n",
              "    <tr>\n",
              "      <th>4</th>\n",
              "      <td>42fdf880ba16b47b59251dd489d4441a</td>\n",
              "      <td>credit_card</td>\n",
              "      <td>2</td>\n",
              "      <td>128.45</td>\n",
              "    </tr>\n",
              "  </tbody>\n",
              "</table>\n",
              "</div>"
            ],
            "text/plain": [
              "                           order_id payment_type  payment_installments  \\\n",
              "0  b81ef226f3fe1789b1e8b2acac839d17  credit_card                     8   \n",
              "1  a9810da82917af2d9aefd1278f1dcfa0  credit_card                     1   \n",
              "2  25e8ea4e93396b6fa0d3dd708e76c1bd  credit_card                     1   \n",
              "3  ba78997921bbcdc1373bb41e913ab953  credit_card                     8   \n",
              "4  42fdf880ba16b47b59251dd489d4441a  credit_card                     2   \n",
              "\n",
              "   payment_value  \n",
              "0          99.33  \n",
              "1          24.39  \n",
              "2          65.71  \n",
              "3         107.78  \n",
              "4         128.45  "
            ]
          },
          "execution_count": 79,
          "metadata": {},
          "output_type": "execute_result"
        }
      ],
      "source": [
        "order_payments_df.drop('payment_sequential',axis=1,inplace=True)\n",
        "order_payments_df.head()"
      ]
    },
    {
      "cell_type": "markdown",
      "metadata": {},
      "source": [
        "untuk menemukan informasi lebih lanjut saya akan menggabungkan data order_payments_df dengan customer_order_geolocation_items_df"
      ]
    },
    {
      "cell_type": "code",
      "execution_count": 80,
      "metadata": {},
      "outputs": [
        {
          "data": {
            "text/html": [
              "<div>\n",
              "<style scoped>\n",
              "    .dataframe tbody tr th:only-of-type {\n",
              "        vertical-align: middle;\n",
              "    }\n",
              "\n",
              "    .dataframe tbody tr th {\n",
              "        vertical-align: top;\n",
              "    }\n",
              "\n",
              "    .dataframe thead th {\n",
              "        text-align: right;\n",
              "    }\n",
              "</style>\n",
              "<table border=\"1\" class=\"dataframe\">\n",
              "  <thead>\n",
              "    <tr style=\"text-align: right;\">\n",
              "      <th></th>\n",
              "      <th>customer_id</th>\n",
              "      <th>customer_zip_code_prefix</th>\n",
              "      <th>customer_city</th>\n",
              "      <th>customer_state</th>\n",
              "      <th>geolocation_lat</th>\n",
              "      <th>geolocation_lng</th>\n",
              "      <th>order_id</th>\n",
              "      <th>order_status</th>\n",
              "      <th>order_delivered_carrier_date</th>\n",
              "      <th>order_delivered_customer_date</th>\n",
              "      <th>delivery_time</th>\n",
              "      <th>product_id</th>\n",
              "      <th>seller_id</th>\n",
              "      <th>shipping_limit_date</th>\n",
              "      <th>price</th>\n",
              "      <th>freight_value</th>\n",
              "      <th>delivery_status</th>\n",
              "      <th>payment_type</th>\n",
              "      <th>payment_installments</th>\n",
              "      <th>payment_value</th>\n",
              "    </tr>\n",
              "  </thead>\n",
              "  <tbody>\n",
              "    <tr>\n",
              "      <th>6220759</th>\n",
              "      <td>9c79fa52d8ef5e2e023052e24a06e896</td>\n",
              "      <td>19970</td>\n",
              "      <td>palmital</td>\n",
              "      <td>SP</td>\n",
              "      <td>-22.785744</td>\n",
              "      <td>-50.217360</td>\n",
              "      <td>823384842bb58973b0c88e31c6f94da9</td>\n",
              "      <td>delivered</td>\n",
              "      <td>2017-09-26 09:35:34</td>\n",
              "      <td>2017-10-10 19:48:47</td>\n",
              "      <td>14.0</td>\n",
              "      <td>8b8422bfeaebcd02e897666185ca2c2c</td>\n",
              "      <td>822166ed1e47908f7cfb49946d03c726</td>\n",
              "      <td>2017-09-28 14:10:10</td>\n",
              "      <td>18.74</td>\n",
              "      <td>15.10</td>\n",
              "      <td>Past Deadline</td>\n",
              "      <td>credit_card</td>\n",
              "      <td>6.0</td>\n",
              "      <td>67.68</td>\n",
              "    </tr>\n",
              "    <tr>\n",
              "      <th>3033674</th>\n",
              "      <td>1889da9a714df2f014fe375a0aa0ac7c</td>\n",
              "      <td>35170</td>\n",
              "      <td>coronel fabriciano</td>\n",
              "      <td>MG</td>\n",
              "      <td>-19.520765</td>\n",
              "      <td>-42.627518</td>\n",
              "      <td>88dc98a18a69037c35842524a4b9a058</td>\n",
              "      <td>delivered</td>\n",
              "      <td>2018-01-20 00:54:44</td>\n",
              "      <td>2018-01-29 13:58:52</td>\n",
              "      <td>10.0</td>\n",
              "      <td>eeb2d1e155818957df60a76fc47e75a8</td>\n",
              "      <td>1e8b33f18b4f7598d87f5cbee2282cc2</td>\n",
              "      <td>2018-01-25 09:12:38</td>\n",
              "      <td>75.50</td>\n",
              "      <td>17.78</td>\n",
              "      <td>Past Deadline</td>\n",
              "      <td>credit_card</td>\n",
              "      <td>4.0</td>\n",
              "      <td>93.28</td>\n",
              "    </tr>\n",
              "    <tr>\n",
              "      <th>8877463</th>\n",
              "      <td>40d75f2033ae0bd1f8668f21007975b6</td>\n",
              "      <td>39560</td>\n",
              "      <td>salinas</td>\n",
              "      <td>MG</td>\n",
              "      <td>-16.163237</td>\n",
              "      <td>-42.287725</td>\n",
              "      <td>533dccc39b9e7286042aba868d574ecf</td>\n",
              "      <td>delivered</td>\n",
              "      <td>2018-06-07 12:05:00</td>\n",
              "      <td>2018-06-18 15:08:34</td>\n",
              "      <td>11.0</td>\n",
              "      <td>e4c20c867bf5ef9bd109b0ba8a60cd5c</td>\n",
              "      <td>d97df38225e5abadaff1e72cb72b823c</td>\n",
              "      <td>2018-06-15 08:31:58</td>\n",
              "      <td>250.00</td>\n",
              "      <td>59.61</td>\n",
              "      <td>Past Deadline</td>\n",
              "      <td>credit_card</td>\n",
              "      <td>5.0</td>\n",
              "      <td>309.61</td>\n",
              "    </tr>\n",
              "    <tr>\n",
              "      <th>6005074</th>\n",
              "      <td>8e15432cb70519851d493b9dce73707c</td>\n",
              "      <td>30170</td>\n",
              "      <td>belo horizonte</td>\n",
              "      <td>MG</td>\n",
              "      <td>-19.919174</td>\n",
              "      <td>-43.940052</td>\n",
              "      <td>a1ab5e252318a46e01c2429f06ce0a41</td>\n",
              "      <td>delivered</td>\n",
              "      <td>2017-06-26 15:41:40</td>\n",
              "      <td>2017-07-10 16:32:36</td>\n",
              "      <td>14.0</td>\n",
              "      <td>e5ae72c62ebfa708624f5029d609b160</td>\n",
              "      <td>e9bc59e7b60fc3063eb2290deda4cced</td>\n",
              "      <td>2017-06-29 02:30:07</td>\n",
              "      <td>61.90</td>\n",
              "      <td>16.87</td>\n",
              "      <td>Past Deadline</td>\n",
              "      <td>boleto</td>\n",
              "      <td>1.0</td>\n",
              "      <td>78.77</td>\n",
              "    </tr>\n",
              "    <tr>\n",
              "      <th>9727686</th>\n",
              "      <td>c142a0c1cafdbc0cdd3a2f017aed7b27</td>\n",
              "      <td>11250</td>\n",
              "      <td>bertioga</td>\n",
              "      <td>SP</td>\n",
              "      <td>-23.827471</td>\n",
              "      <td>-46.139087</td>\n",
              "      <td>8df3b9ee87391ad43854a0ea83da2b93</td>\n",
              "      <td>delivered</td>\n",
              "      <td>2018-05-14 09:04:00</td>\n",
              "      <td>2018-05-19 20:42:39</td>\n",
              "      <td>5.0</td>\n",
              "      <td>4b703444923b5e57bb73ba343f5ebab7</td>\n",
              "      <td>42b729f859728f5079499127a9c2ef37</td>\n",
              "      <td>2018-05-17 18:16:40</td>\n",
              "      <td>35.90</td>\n",
              "      <td>12.79</td>\n",
              "      <td>Past Deadline</td>\n",
              "      <td>credit_card</td>\n",
              "      <td>1.0</td>\n",
              "      <td>48.69</td>\n",
              "    </tr>\n",
              "  </tbody>\n",
              "</table>\n",
              "</div>"
            ],
            "text/plain": [
              "                              customer_id  customer_zip_code_prefix  \\\n",
              "6220759  9c79fa52d8ef5e2e023052e24a06e896                     19970   \n",
              "3033674  1889da9a714df2f014fe375a0aa0ac7c                     35170   \n",
              "8877463  40d75f2033ae0bd1f8668f21007975b6                     39560   \n",
              "6005074  8e15432cb70519851d493b9dce73707c                     30170   \n",
              "9727686  c142a0c1cafdbc0cdd3a2f017aed7b27                     11250   \n",
              "\n",
              "              customer_city customer_state  geolocation_lat  geolocation_lng  \\\n",
              "6220759            palmital             SP       -22.785744       -50.217360   \n",
              "3033674  coronel fabriciano             MG       -19.520765       -42.627518   \n",
              "8877463             salinas             MG       -16.163237       -42.287725   \n",
              "6005074      belo horizonte             MG       -19.919174       -43.940052   \n",
              "9727686            bertioga             SP       -23.827471       -46.139087   \n",
              "\n",
              "                                 order_id order_status  \\\n",
              "6220759  823384842bb58973b0c88e31c6f94da9    delivered   \n",
              "3033674  88dc98a18a69037c35842524a4b9a058    delivered   \n",
              "8877463  533dccc39b9e7286042aba868d574ecf    delivered   \n",
              "6005074  a1ab5e252318a46e01c2429f06ce0a41    delivered   \n",
              "9727686  8df3b9ee87391ad43854a0ea83da2b93    delivered   \n",
              "\n",
              "        order_delivered_carrier_date order_delivered_customer_date  \\\n",
              "6220759          2017-09-26 09:35:34           2017-10-10 19:48:47   \n",
              "3033674          2018-01-20 00:54:44           2018-01-29 13:58:52   \n",
              "8877463          2018-06-07 12:05:00           2018-06-18 15:08:34   \n",
              "6005074          2017-06-26 15:41:40           2017-07-10 16:32:36   \n",
              "9727686          2018-05-14 09:04:00           2018-05-19 20:42:39   \n",
              "\n",
              "         delivery_time                        product_id  \\\n",
              "6220759           14.0  8b8422bfeaebcd02e897666185ca2c2c   \n",
              "3033674           10.0  eeb2d1e155818957df60a76fc47e75a8   \n",
              "8877463           11.0  e4c20c867bf5ef9bd109b0ba8a60cd5c   \n",
              "6005074           14.0  e5ae72c62ebfa708624f5029d609b160   \n",
              "9727686            5.0  4b703444923b5e57bb73ba343f5ebab7   \n",
              "\n",
              "                                seller_id shipping_limit_date   price  \\\n",
              "6220759  822166ed1e47908f7cfb49946d03c726 2017-09-28 14:10:10   18.74   \n",
              "3033674  1e8b33f18b4f7598d87f5cbee2282cc2 2018-01-25 09:12:38   75.50   \n",
              "8877463  d97df38225e5abadaff1e72cb72b823c 2018-06-15 08:31:58  250.00   \n",
              "6005074  e9bc59e7b60fc3063eb2290deda4cced 2017-06-29 02:30:07   61.90   \n",
              "9727686  42b729f859728f5079499127a9c2ef37 2018-05-17 18:16:40   35.90   \n",
              "\n",
              "         freight_value delivery_status payment_type  payment_installments  \\\n",
              "6220759          15.10   Past Deadline  credit_card                   6.0   \n",
              "3033674          17.78   Past Deadline  credit_card                   4.0   \n",
              "8877463          59.61   Past Deadline  credit_card                   5.0   \n",
              "6005074          16.87   Past Deadline       boleto                   1.0   \n",
              "9727686          12.79   Past Deadline  credit_card                   1.0   \n",
              "\n",
              "         payment_value  \n",
              "6220759          67.68  \n",
              "3033674          93.28  \n",
              "8877463         309.61  \n",
              "6005074          78.77  \n",
              "9727686          48.69  "
            ]
          },
          "execution_count": 80,
          "metadata": {},
          "output_type": "execute_result"
        }
      ],
      "source": [
        "customer_order_geolocation_item_payments_df=pd.merge(\n",
        "    left=customer_order_geolocation_items_df,\n",
        "    right=order_payments_df,\n",
        "    how='left',\n",
        "    left_on='order_id',\n",
        "    right_on='order_id'\n",
        ")\n",
        "customer_order_geolocation_item_payments_df.sample(5)"
      ]
    },
    {
      "cell_type": "markdown",
      "metadata": {},
      "source": [
        "dari data diatas kita bisa mengelompokan customer berdasarkan jenis pembayarannya, jumlah cicilan, dan nilai pembayarannya"
      ]
    },
    {
      "cell_type": "code",
      "execution_count": 81,
      "metadata": {},
      "outputs": [
        {
          "data": {
            "text/plain": [
              "payment_type  payment_installments\n",
              "credit_card   1.0                     25407\n",
              "boleto        1.0                     19784\n",
              "credit_card   2.0                     12389\n",
              "              3.0                     10443\n",
              "              4.0                      7088\n",
              "              10.0                     5315\n",
              "              5.0                      5234\n",
              "              8.0                      4253\n",
              "              6.0                      3916\n",
              "voucher       1.0                      3866\n",
              "credit_card   7.0                      1623\n",
              "debit_card    1.0                      1528\n",
              "credit_card   9.0                       644\n",
              "              12.0                      133\n",
              "              15.0                       74\n",
              "              18.0                       27\n",
              "              11.0                       23\n",
              "              24.0                       18\n",
              "              20.0                       17\n",
              "              13.0                       16\n",
              "              14.0                       15\n",
              "              17.0                        8\n",
              "              16.0                        5\n",
              "              21.0                        3\n",
              "not_defined   1.0                         3\n",
              "credit_card   0.0                         2\n",
              "              22.0                        1\n",
              "              23.0                        1\n",
              "Name: customer_id, dtype: int64"
            ]
          },
          "execution_count": 81,
          "metadata": {},
          "output_type": "execute_result"
        }
      ],
      "source": [
        "customer_order_geolocation_item_payments_df.groupby(['payment_type','payment_installments']).customer_id.nunique().sort_values(ascending=False)"
      ]
    },
    {
      "cell_type": "markdown",
      "metadata": {},
      "source": [
        "berdasarkan informasi diatas, customer paling banyak pelakukan permbayara dengan credit card"
      ]
    },
    {
      "cell_type": "markdown",
      "metadata": {},
      "source": [
        "### explore data order_reviews_df"
      ]
    },
    {
      "cell_type": "code",
      "execution_count": 82,
      "metadata": {},
      "outputs": [
        {
          "data": {
            "text/html": [
              "<div>\n",
              "<style scoped>\n",
              "    .dataframe tbody tr th:only-of-type {\n",
              "        vertical-align: middle;\n",
              "    }\n",
              "\n",
              "    .dataframe tbody tr th {\n",
              "        vertical-align: top;\n",
              "    }\n",
              "\n",
              "    .dataframe thead th {\n",
              "        text-align: right;\n",
              "    }\n",
              "</style>\n",
              "<table border=\"1\" class=\"dataframe\">\n",
              "  <thead>\n",
              "    <tr style=\"text-align: right;\">\n",
              "      <th></th>\n",
              "      <th>review_id</th>\n",
              "      <th>order_id</th>\n",
              "      <th>review_score</th>\n",
              "      <th>review_comment_title</th>\n",
              "      <th>review_comment_message</th>\n",
              "      <th>review_creation_date</th>\n",
              "      <th>review_answer_timestamp</th>\n",
              "    </tr>\n",
              "  </thead>\n",
              "  <tbody>\n",
              "    <tr>\n",
              "      <th>count</th>\n",
              "      <td>99224</td>\n",
              "      <td>99224</td>\n",
              "      <td>99224.000000</td>\n",
              "      <td>99224</td>\n",
              "      <td>99224</td>\n",
              "      <td>99224</td>\n",
              "      <td>99224</td>\n",
              "    </tr>\n",
              "    <tr>\n",
              "      <th>unique</th>\n",
              "      <td>98410</td>\n",
              "      <td>98673</td>\n",
              "      <td>NaN</td>\n",
              "      <td>4527</td>\n",
              "      <td>36159</td>\n",
              "      <td>NaN</td>\n",
              "      <td>NaN</td>\n",
              "    </tr>\n",
              "    <tr>\n",
              "      <th>top</th>\n",
              "      <td>7b606b0d57b078384f0b58eac1d41d78</td>\n",
              "      <td>c88b1d1b157a9999ce368f218a407141</td>\n",
              "      <td>NaN</td>\n",
              "      <td>Recomendo</td>\n",
              "      <td>Muito bom</td>\n",
              "      <td>NaN</td>\n",
              "      <td>NaN</td>\n",
              "    </tr>\n",
              "    <tr>\n",
              "      <th>freq</th>\n",
              "      <td>3</td>\n",
              "      <td>3</td>\n",
              "      <td>NaN</td>\n",
              "      <td>88079</td>\n",
              "      <td>58477</td>\n",
              "      <td>NaN</td>\n",
              "      <td>NaN</td>\n",
              "    </tr>\n",
              "    <tr>\n",
              "      <th>mean</th>\n",
              "      <td>NaN</td>\n",
              "      <td>NaN</td>\n",
              "      <td>4.086421</td>\n",
              "      <td>NaN</td>\n",
              "      <td>NaN</td>\n",
              "      <td>2018-01-12 20:49:23.948238336</td>\n",
              "      <td>2018-01-16 00:23:56.977938688</td>\n",
              "    </tr>\n",
              "    <tr>\n",
              "      <th>min</th>\n",
              "      <td>NaN</td>\n",
              "      <td>NaN</td>\n",
              "      <td>1.000000</td>\n",
              "      <td>NaN</td>\n",
              "      <td>NaN</td>\n",
              "      <td>2016-10-02 00:00:00</td>\n",
              "      <td>2016-10-07 18:32:28</td>\n",
              "    </tr>\n",
              "    <tr>\n",
              "      <th>25%</th>\n",
              "      <td>NaN</td>\n",
              "      <td>NaN</td>\n",
              "      <td>4.000000</td>\n",
              "      <td>NaN</td>\n",
              "      <td>NaN</td>\n",
              "      <td>2017-09-23 00:00:00</td>\n",
              "      <td>2017-09-27 01:53:27.249999872</td>\n",
              "    </tr>\n",
              "    <tr>\n",
              "      <th>50%</th>\n",
              "      <td>NaN</td>\n",
              "      <td>NaN</td>\n",
              "      <td>5.000000</td>\n",
              "      <td>NaN</td>\n",
              "      <td>NaN</td>\n",
              "      <td>2018-02-02 00:00:00</td>\n",
              "      <td>2018-02-04 22:41:47.500000</td>\n",
              "    </tr>\n",
              "    <tr>\n",
              "      <th>75%</th>\n",
              "      <td>NaN</td>\n",
              "      <td>NaN</td>\n",
              "      <td>5.000000</td>\n",
              "      <td>NaN</td>\n",
              "      <td>NaN</td>\n",
              "      <td>2018-05-16 00:00:00</td>\n",
              "      <td>2018-05-20 12:11:21.500000</td>\n",
              "    </tr>\n",
              "    <tr>\n",
              "      <th>max</th>\n",
              "      <td>NaN</td>\n",
              "      <td>NaN</td>\n",
              "      <td>5.000000</td>\n",
              "      <td>NaN</td>\n",
              "      <td>NaN</td>\n",
              "      <td>2018-08-31 00:00:00</td>\n",
              "      <td>2018-10-29 12:27:35</td>\n",
              "    </tr>\n",
              "    <tr>\n",
              "      <th>std</th>\n",
              "      <td>NaN</td>\n",
              "      <td>NaN</td>\n",
              "      <td>1.347579</td>\n",
              "      <td>NaN</td>\n",
              "      <td>NaN</td>\n",
              "      <td>NaN</td>\n",
              "      <td>NaN</td>\n",
              "    </tr>\n",
              "  </tbody>\n",
              "</table>\n",
              "</div>"
            ],
            "text/plain": [
              "                               review_id                          order_id  \\\n",
              "count                              99224                             99224   \n",
              "unique                             98410                             98673   \n",
              "top     7b606b0d57b078384f0b58eac1d41d78  c88b1d1b157a9999ce368f218a407141   \n",
              "freq                                   3                                 3   \n",
              "mean                                 NaN                               NaN   \n",
              "min                                  NaN                               NaN   \n",
              "25%                                  NaN                               NaN   \n",
              "50%                                  NaN                               NaN   \n",
              "75%                                  NaN                               NaN   \n",
              "max                                  NaN                               NaN   \n",
              "std                                  NaN                               NaN   \n",
              "\n",
              "        review_score review_comment_title review_comment_message  \\\n",
              "count   99224.000000                99224                  99224   \n",
              "unique           NaN                 4527                  36159   \n",
              "top              NaN            Recomendo              Muito bom   \n",
              "freq             NaN                88079                  58477   \n",
              "mean        4.086421                  NaN                    NaN   \n",
              "min         1.000000                  NaN                    NaN   \n",
              "25%         4.000000                  NaN                    NaN   \n",
              "50%         5.000000                  NaN                    NaN   \n",
              "75%         5.000000                  NaN                    NaN   \n",
              "max         5.000000                  NaN                    NaN   \n",
              "std         1.347579                  NaN                    NaN   \n",
              "\n",
              "                 review_creation_date        review_answer_timestamp  \n",
              "count                           99224                          99224  \n",
              "unique                            NaN                            NaN  \n",
              "top                               NaN                            NaN  \n",
              "freq                              NaN                            NaN  \n",
              "mean    2018-01-12 20:49:23.948238336  2018-01-16 00:23:56.977938688  \n",
              "min               2016-10-02 00:00:00            2016-10-07 18:32:28  \n",
              "25%               2017-09-23 00:00:00  2017-09-27 01:53:27.249999872  \n",
              "50%               2018-02-02 00:00:00     2018-02-04 22:41:47.500000  \n",
              "75%               2018-05-16 00:00:00     2018-05-20 12:11:21.500000  \n",
              "max               2018-08-31 00:00:00            2018-10-29 12:27:35  \n",
              "std                               NaN                            NaN  "
            ]
          },
          "execution_count": 82,
          "metadata": {},
          "output_type": "execute_result"
        }
      ],
      "source": [
        "order_reviews_df.describe(include='all')"
      ]
    },
    {
      "cell_type": "markdown",
      "metadata": {},
      "source": [
        "menurut saya kolom 'review_creation_date', dan kolom 'review_answer_timestamp' tidak begitu diperlukan. maka dari itu saya akan drop kedua kolom tersebut"
      ]
    },
    {
      "cell_type": "code",
      "execution_count": 83,
      "metadata": {},
      "outputs": [
        {
          "data": {
            "text/html": [
              "<div>\n",
              "<style scoped>\n",
              "    .dataframe tbody tr th:only-of-type {\n",
              "        vertical-align: middle;\n",
              "    }\n",
              "\n",
              "    .dataframe tbody tr th {\n",
              "        vertical-align: top;\n",
              "    }\n",
              "\n",
              "    .dataframe thead th {\n",
              "        text-align: right;\n",
              "    }\n",
              "</style>\n",
              "<table border=\"1\" class=\"dataframe\">\n",
              "  <thead>\n",
              "    <tr style=\"text-align: right;\">\n",
              "      <th></th>\n",
              "      <th>review_id</th>\n",
              "      <th>order_id</th>\n",
              "      <th>review_score</th>\n",
              "      <th>review_comment_title</th>\n",
              "      <th>review_comment_message</th>\n",
              "    </tr>\n",
              "  </thead>\n",
              "  <tbody>\n",
              "    <tr>\n",
              "      <th>0</th>\n",
              "      <td>7bc2406110b926393aa56f80a40eba40</td>\n",
              "      <td>73fc7af87114b39712e6da79b0a377eb</td>\n",
              "      <td>4</td>\n",
              "      <td>Recomendo</td>\n",
              "      <td>Muito bom</td>\n",
              "    </tr>\n",
              "    <tr>\n",
              "      <th>1</th>\n",
              "      <td>80e641a11e56f04c1ad469d5645fdfde</td>\n",
              "      <td>a548910a1c6147796b98fdf73dbeba33</td>\n",
              "      <td>5</td>\n",
              "      <td>Recomendo</td>\n",
              "      <td>Muito bom</td>\n",
              "    </tr>\n",
              "    <tr>\n",
              "      <th>2</th>\n",
              "      <td>228ce5500dc1d8e020d8d1322874b6f0</td>\n",
              "      <td>f9e4b658b201a9f2ecdecbb34bed034b</td>\n",
              "      <td>5</td>\n",
              "      <td>Recomendo</td>\n",
              "      <td>Muito bom</td>\n",
              "    </tr>\n",
              "    <tr>\n",
              "      <th>3</th>\n",
              "      <td>e64fb393e7b32834bb789ff8bb30750e</td>\n",
              "      <td>658677c97b385a9be170737859d3511b</td>\n",
              "      <td>5</td>\n",
              "      <td>Recomendo</td>\n",
              "      <td>Recebi bem antes do prazo estipulado.</td>\n",
              "    </tr>\n",
              "    <tr>\n",
              "      <th>4</th>\n",
              "      <td>f7c4243c7fe1938f181bec41a392bdeb</td>\n",
              "      <td>8e6bfb81e283fa7e4f11123a3fb894f1</td>\n",
              "      <td>5</td>\n",
              "      <td>Recomendo</td>\n",
              "      <td>Parabéns lojas lannister adorei comprar pela I...</td>\n",
              "    </tr>\n",
              "  </tbody>\n",
              "</table>\n",
              "</div>"
            ],
            "text/plain": [
              "                          review_id                          order_id  \\\n",
              "0  7bc2406110b926393aa56f80a40eba40  73fc7af87114b39712e6da79b0a377eb   \n",
              "1  80e641a11e56f04c1ad469d5645fdfde  a548910a1c6147796b98fdf73dbeba33   \n",
              "2  228ce5500dc1d8e020d8d1322874b6f0  f9e4b658b201a9f2ecdecbb34bed034b   \n",
              "3  e64fb393e7b32834bb789ff8bb30750e  658677c97b385a9be170737859d3511b   \n",
              "4  f7c4243c7fe1938f181bec41a392bdeb  8e6bfb81e283fa7e4f11123a3fb894f1   \n",
              "\n",
              "   review_score review_comment_title  \\\n",
              "0             4            Recomendo   \n",
              "1             5            Recomendo   \n",
              "2             5            Recomendo   \n",
              "3             5            Recomendo   \n",
              "4             5            Recomendo   \n",
              "\n",
              "                              review_comment_message  \n",
              "0                                          Muito bom  \n",
              "1                                          Muito bom  \n",
              "2                                          Muito bom  \n",
              "3              Recebi bem antes do prazo estipulado.  \n",
              "4  Parabéns lojas lannister adorei comprar pela I...  "
            ]
          },
          "execution_count": 83,
          "metadata": {},
          "output_type": "execute_result"
        }
      ],
      "source": [
        "order_reviews_df.drop(['review_creation_date','review_answer_timestamp'],axis=1,inplace=True)\n",
        "order_reviews_df.head()"
      ]
    },
    {
      "cell_type": "markdown",
      "metadata": {},
      "source": [
        "untuk menemukan informasi lebih lanjut, saya akan menggabungkan data order_reviews_df dengan customer_order_geolocation_item_payments_df"
      ]
    },
    {
      "cell_type": "code",
      "execution_count": 84,
      "metadata": {},
      "outputs": [
        {
          "data": {
            "text/html": [
              "<div>\n",
              "<style scoped>\n",
              "    .dataframe tbody tr th:only-of-type {\n",
              "        vertical-align: middle;\n",
              "    }\n",
              "\n",
              "    .dataframe tbody tr th {\n",
              "        vertical-align: top;\n",
              "    }\n",
              "\n",
              "    .dataframe thead th {\n",
              "        text-align: right;\n",
              "    }\n",
              "</style>\n",
              "<table border=\"1\" class=\"dataframe\">\n",
              "  <thead>\n",
              "    <tr style=\"text-align: right;\">\n",
              "      <th></th>\n",
              "      <th>customer_id</th>\n",
              "      <th>customer_zip_code_prefix</th>\n",
              "      <th>customer_city</th>\n",
              "      <th>customer_state</th>\n",
              "      <th>geolocation_lat</th>\n",
              "      <th>geolocation_lng</th>\n",
              "      <th>order_id</th>\n",
              "      <th>order_status</th>\n",
              "      <th>order_delivered_carrier_date</th>\n",
              "      <th>order_delivered_customer_date</th>\n",
              "      <th>...</th>\n",
              "      <th>price</th>\n",
              "      <th>freight_value</th>\n",
              "      <th>delivery_status</th>\n",
              "      <th>payment_type</th>\n",
              "      <th>payment_installments</th>\n",
              "      <th>payment_value</th>\n",
              "      <th>review_id</th>\n",
              "      <th>review_score</th>\n",
              "      <th>review_comment_title</th>\n",
              "      <th>review_comment_message</th>\n",
              "    </tr>\n",
              "  </thead>\n",
              "  <tbody>\n",
              "    <tr>\n",
              "      <th>2195788</th>\n",
              "      <td>26d46563156d3bd9dc62fd4d3efd92da</td>\n",
              "      <td>7051</td>\n",
              "      <td>guarulhos</td>\n",
              "      <td>SP</td>\n",
              "      <td>-23.466395</td>\n",
              "      <td>-46.546899</td>\n",
              "      <td>e5719cfaa683987b3ac4bdcc0c5c6a46</td>\n",
              "      <td>shipped</td>\n",
              "      <td>2017-05-04 13:44:29</td>\n",
              "      <td>2018-01-14 12:09:19</td>\n",
              "      <td>...</td>\n",
              "      <td>82.99</td>\n",
              "      <td>13.16</td>\n",
              "      <td>Past Deadline</td>\n",
              "      <td>credit_card</td>\n",
              "      <td>3.0</td>\n",
              "      <td>48.08</td>\n",
              "      <td>b988d4475d2c71665ddbd403eab29648</td>\n",
              "      <td>2.0</td>\n",
              "      <td>Recomendo</td>\n",
              "      <td>Muito bom</td>\n",
              "    </tr>\n",
              "    <tr>\n",
              "      <th>10658828</th>\n",
              "      <td>d375691b753ce7bc99190bc08b813003</td>\n",
              "      <td>30620</td>\n",
              "      <td>belo horizonte</td>\n",
              "      <td>MG</td>\n",
              "      <td>-19.979039</td>\n",
              "      <td>-44.003289</td>\n",
              "      <td>56c93a3f93a1e7eb24ed51a6931dc488</td>\n",
              "      <td>delivered</td>\n",
              "      <td>2017-05-30 11:34:23</td>\n",
              "      <td>2017-06-05 19:05:47</td>\n",
              "      <td>...</td>\n",
              "      <td>834.56</td>\n",
              "      <td>99.14</td>\n",
              "      <td>Past Deadline</td>\n",
              "      <td>boleto</td>\n",
              "      <td>1.0</td>\n",
              "      <td>933.70</td>\n",
              "      <td>021a091d23f2c64ef1302c6e60897bfb</td>\n",
              "      <td>5.0</td>\n",
              "      <td>Recomendo</td>\n",
              "      <td>Muito bom</td>\n",
              "    </tr>\n",
              "    <tr>\n",
              "      <th>150205</th>\n",
              "      <td>dfac69a327ba24dac0d50fb8b12ef48f</td>\n",
              "      <td>22753</td>\n",
              "      <td>rio de janeiro</td>\n",
              "      <td>RJ</td>\n",
              "      <td>-22.980286</td>\n",
              "      <td>-43.338868</td>\n",
              "      <td>f92e5fb7bc8594b9ce97ecf12b43cf5f</td>\n",
              "      <td>shipped</td>\n",
              "      <td>2018-04-11 19:21:06</td>\n",
              "      <td>2018-01-14 12:09:19</td>\n",
              "      <td>...</td>\n",
              "      <td>117.80</td>\n",
              "      <td>79.63</td>\n",
              "      <td>On Time</td>\n",
              "      <td>boleto</td>\n",
              "      <td>1.0</td>\n",
              "      <td>197.43</td>\n",
              "      <td>dec47f96432fc0ade5e0c1d1c50fa157</td>\n",
              "      <td>1.0</td>\n",
              "      <td>Não recebi meu produto</td>\n",
              "      <td>Empresas que trabalham com correios tem um gra...</td>\n",
              "    </tr>\n",
              "    <tr>\n",
              "      <th>9318150</th>\n",
              "      <td>ad6422b821f38baebd08dd741a040921</td>\n",
              "      <td>12410</td>\n",
              "      <td>pindamonhangaba</td>\n",
              "      <td>SP</td>\n",
              "      <td>-22.930065</td>\n",
              "      <td>-45.457129</td>\n",
              "      <td>b81af5e0dbc943da7544bf507acf9e23</td>\n",
              "      <td>delivered</td>\n",
              "      <td>2018-07-27 10:41:00</td>\n",
              "      <td>2018-08-01 16:11:06</td>\n",
              "      <td>...</td>\n",
              "      <td>94.00</td>\n",
              "      <td>14.96</td>\n",
              "      <td>Past Deadline</td>\n",
              "      <td>boleto</td>\n",
              "      <td>1.0</td>\n",
              "      <td>108.96</td>\n",
              "      <td>7de6887a56d94a338c00af36ff8cea78</td>\n",
              "      <td>5.0</td>\n",
              "      <td>muito bom e bonito</td>\n",
              "      <td>ok</td>\n",
              "    </tr>\n",
              "    <tr>\n",
              "      <th>12057266</th>\n",
              "      <td>a8f61973eedaf5f3ca7ad94a31619ed0</td>\n",
              "      <td>11740</td>\n",
              "      <td>itanhaem</td>\n",
              "      <td>SP</td>\n",
              "      <td>-24.193325</td>\n",
              "      <td>-46.817680</td>\n",
              "      <td>ed7646bd67d7f803bfe1d24cc78cd827</td>\n",
              "      <td>delivered</td>\n",
              "      <td>2018-04-03 18:14:36</td>\n",
              "      <td>2018-04-16 14:12:15</td>\n",
              "      <td>...</td>\n",
              "      <td>69.90</td>\n",
              "      <td>16.18</td>\n",
              "      <td>Past Deadline</td>\n",
              "      <td>credit_card</td>\n",
              "      <td>4.0</td>\n",
              "      <td>86.08</td>\n",
              "      <td>8ff2b2af1dc7232e1186cb6df66533b2</td>\n",
              "      <td>5.0</td>\n",
              "      <td>Recomendo</td>\n",
              "      <td>Muito bom</td>\n",
              "    </tr>\n",
              "  </tbody>\n",
              "</table>\n",
              "<p>5 rows × 24 columns</p>\n",
              "</div>"
            ],
            "text/plain": [
              "                               customer_id  customer_zip_code_prefix  \\\n",
              "2195788   26d46563156d3bd9dc62fd4d3efd92da                      7051   \n",
              "10658828  d375691b753ce7bc99190bc08b813003                     30620   \n",
              "150205    dfac69a327ba24dac0d50fb8b12ef48f                     22753   \n",
              "9318150   ad6422b821f38baebd08dd741a040921                     12410   \n",
              "12057266  a8f61973eedaf5f3ca7ad94a31619ed0                     11740   \n",
              "\n",
              "            customer_city customer_state  geolocation_lat  geolocation_lng  \\\n",
              "2195788         guarulhos             SP       -23.466395       -46.546899   \n",
              "10658828   belo horizonte             MG       -19.979039       -44.003289   \n",
              "150205     rio de janeiro             RJ       -22.980286       -43.338868   \n",
              "9318150   pindamonhangaba             SP       -22.930065       -45.457129   \n",
              "12057266         itanhaem             SP       -24.193325       -46.817680   \n",
              "\n",
              "                                  order_id order_status  \\\n",
              "2195788   e5719cfaa683987b3ac4bdcc0c5c6a46      shipped   \n",
              "10658828  56c93a3f93a1e7eb24ed51a6931dc488    delivered   \n",
              "150205    f92e5fb7bc8594b9ce97ecf12b43cf5f      shipped   \n",
              "9318150   b81af5e0dbc943da7544bf507acf9e23    delivered   \n",
              "12057266  ed7646bd67d7f803bfe1d24cc78cd827    delivered   \n",
              "\n",
              "         order_delivered_carrier_date order_delivered_customer_date  ...  \\\n",
              "2195788           2017-05-04 13:44:29           2018-01-14 12:09:19  ...   \n",
              "10658828          2017-05-30 11:34:23           2017-06-05 19:05:47  ...   \n",
              "150205            2018-04-11 19:21:06           2018-01-14 12:09:19  ...   \n",
              "9318150           2018-07-27 10:41:00           2018-08-01 16:11:06  ...   \n",
              "12057266          2018-04-03 18:14:36           2018-04-16 14:12:15  ...   \n",
              "\n",
              "           price freight_value delivery_status payment_type  \\\n",
              "2195788    82.99         13.16   Past Deadline  credit_card   \n",
              "10658828  834.56         99.14   Past Deadline       boleto   \n",
              "150205    117.80         79.63         On Time       boleto   \n",
              "9318150    94.00         14.96   Past Deadline       boleto   \n",
              "12057266   69.90         16.18   Past Deadline  credit_card   \n",
              "\n",
              "          payment_installments  payment_value  \\\n",
              "2195788                    3.0          48.08   \n",
              "10658828                   1.0         933.70   \n",
              "150205                     1.0         197.43   \n",
              "9318150                    1.0         108.96   \n",
              "12057266                   4.0          86.08   \n",
              "\n",
              "                                 review_id review_score  \\\n",
              "2195788   b988d4475d2c71665ddbd403eab29648          2.0   \n",
              "10658828  021a091d23f2c64ef1302c6e60897bfb          5.0   \n",
              "150205    dec47f96432fc0ade5e0c1d1c50fa157          1.0   \n",
              "9318150   7de6887a56d94a338c00af36ff8cea78          5.0   \n",
              "12057266  8ff2b2af1dc7232e1186cb6df66533b2          5.0   \n",
              "\n",
              "             review_comment_title  \\\n",
              "2195788                 Recomendo   \n",
              "10658828                Recomendo   \n",
              "150205    Não recebi meu produto    \n",
              "9318150        muito bom e bonito   \n",
              "12057266                Recomendo   \n",
              "\n",
              "                                     review_comment_message  \n",
              "2195788                                           Muito bom  \n",
              "10658828                                          Muito bom  \n",
              "150205    Empresas que trabalham com correios tem um gra...  \n",
              "9318150                                                  ok  \n",
              "12057266                                          Muito bom  \n",
              "\n",
              "[5 rows x 24 columns]"
            ]
          },
          "execution_count": 84,
          "metadata": {},
          "output_type": "execute_result"
        }
      ],
      "source": [
        "customer_order_geolocation_item_payments_review_df=pd.merge(\n",
        "    left=customer_order_geolocation_item_payments_df,\n",
        "    right=order_reviews_df,\n",
        "    how='left',\n",
        "    left_on='order_id',\n",
        "    right_on='order_id'\n",
        ")\n",
        "customer_order_geolocation_item_payments_review_df.sample(5)"
      ]
    },
    {
      "cell_type": "markdown",
      "metadata": {},
      "source": [
        "dari data diatas kita bisa mengelompokan pesanan sesuai dengan review nya"
      ]
    },
    {
      "cell_type": "code",
      "execution_count": 85,
      "metadata": {},
      "outputs": [
        {
          "data": {
            "text/plain": [
              "review_score  review_comment_title\n",
              "5.0           Recomendo               50704\n",
              "4.0           Recomendo               17486\n",
              "1.0           Recomendo                9520\n",
              "3.0           Recomendo                7362\n",
              "2.0           Recomendo                2670\n",
              "                                      ...  \n",
              "3.0           Lindo                       1\n",
              "              Legal pelo preço            1\n",
              "              Legal                       1\n",
              "              Led queimados               1\n",
              "5.0           🔟                           1\n",
              "Name: order_id, Length: 5108, dtype: int64"
            ]
          },
          "execution_count": 85,
          "metadata": {},
          "output_type": "execute_result"
        }
      ],
      "source": [
        "customer_order_geolocation_item_payments_review_df.groupby(['review_score','review_comment_title']).order_id.nunique().sort_values(ascending=False)"
      ]
    },
    {
      "cell_type": "markdown",
      "metadata": {},
      "source": [
        "berdasarkan informasi diatas, didapatkan informasi bahwa order paling banyak memiliki review paling baik"
      ]
    },
    {
      "cell_type": "markdown",
      "metadata": {},
      "source": [
        "### explore data products_df"
      ]
    },
    {
      "cell_type": "code",
      "execution_count": 86,
      "metadata": {},
      "outputs": [
        {
          "data": {
            "text/html": [
              "<div>\n",
              "<style scoped>\n",
              "    .dataframe tbody tr th:only-of-type {\n",
              "        vertical-align: middle;\n",
              "    }\n",
              "\n",
              "    .dataframe tbody tr th {\n",
              "        vertical-align: top;\n",
              "    }\n",
              "\n",
              "    .dataframe thead th {\n",
              "        text-align: right;\n",
              "    }\n",
              "</style>\n",
              "<table border=\"1\" class=\"dataframe\">\n",
              "  <thead>\n",
              "    <tr style=\"text-align: right;\">\n",
              "      <th></th>\n",
              "      <th>product_id</th>\n",
              "      <th>product_category_name</th>\n",
              "      <th>product_name_lenght</th>\n",
              "      <th>product_description_lenght</th>\n",
              "      <th>product_photos_qty</th>\n",
              "      <th>product_weight_g</th>\n",
              "      <th>product_length_cm</th>\n",
              "      <th>product_height_cm</th>\n",
              "      <th>product_width_cm</th>\n",
              "    </tr>\n",
              "  </thead>\n",
              "  <tbody>\n",
              "    <tr>\n",
              "      <th>count</th>\n",
              "      <td>32949</td>\n",
              "      <td>32949</td>\n",
              "      <td>32949.000000</td>\n",
              "      <td>32949.000000</td>\n",
              "      <td>32949.000000</td>\n",
              "      <td>32949.000000</td>\n",
              "      <td>32949.000000</td>\n",
              "      <td>32949.000000</td>\n",
              "      <td>32949.000000</td>\n",
              "    </tr>\n",
              "    <tr>\n",
              "      <th>unique</th>\n",
              "      <td>32949</td>\n",
              "      <td>73</td>\n",
              "      <td>NaN</td>\n",
              "      <td>NaN</td>\n",
              "      <td>NaN</td>\n",
              "      <td>NaN</td>\n",
              "      <td>NaN</td>\n",
              "      <td>NaN</td>\n",
              "      <td>NaN</td>\n",
              "    </tr>\n",
              "    <tr>\n",
              "      <th>top</th>\n",
              "      <td>1e9e8ef04dbcff4541ed26657ea517e5</td>\n",
              "      <td>cama_mesa_banho</td>\n",
              "      <td>NaN</td>\n",
              "      <td>NaN</td>\n",
              "      <td>NaN</td>\n",
              "      <td>NaN</td>\n",
              "      <td>NaN</td>\n",
              "      <td>NaN</td>\n",
              "      <td>NaN</td>\n",
              "    </tr>\n",
              "    <tr>\n",
              "      <th>freq</th>\n",
              "      <td>1</td>\n",
              "      <td>3638</td>\n",
              "      <td>NaN</td>\n",
              "      <td>NaN</td>\n",
              "      <td>NaN</td>\n",
              "      <td>NaN</td>\n",
              "      <td>NaN</td>\n",
              "      <td>NaN</td>\n",
              "      <td>NaN</td>\n",
              "    </tr>\n",
              "    <tr>\n",
              "      <th>mean</th>\n",
              "      <td>NaN</td>\n",
              "      <td>NaN</td>\n",
              "      <td>48.477025</td>\n",
              "      <td>771.490686</td>\n",
              "      <td>2.187317</td>\n",
              "      <td>2276.472488</td>\n",
              "      <td>30.815078</td>\n",
              "      <td>16.937661</td>\n",
              "      <td>23.196728</td>\n",
              "    </tr>\n",
              "    <tr>\n",
              "      <th>std</th>\n",
              "      <td>NaN</td>\n",
              "      <td>NaN</td>\n",
              "      <td>10.150569</td>\n",
              "      <td>629.227735</td>\n",
              "      <td>1.720702</td>\n",
              "      <td>4282.038731</td>\n",
              "      <td>16.914458</td>\n",
              "      <td>13.637554</td>\n",
              "      <td>12.079047</td>\n",
              "    </tr>\n",
              "    <tr>\n",
              "      <th>min</th>\n",
              "      <td>NaN</td>\n",
              "      <td>NaN</td>\n",
              "      <td>5.000000</td>\n",
              "      <td>4.000000</td>\n",
              "      <td>1.000000</td>\n",
              "      <td>0.000000</td>\n",
              "      <td>7.000000</td>\n",
              "      <td>2.000000</td>\n",
              "      <td>6.000000</td>\n",
              "    </tr>\n",
              "    <tr>\n",
              "      <th>25%</th>\n",
              "      <td>NaN</td>\n",
              "      <td>NaN</td>\n",
              "      <td>42.000000</td>\n",
              "      <td>344.000000</td>\n",
              "      <td>1.000000</td>\n",
              "      <td>300.000000</td>\n",
              "      <td>18.000000</td>\n",
              "      <td>8.000000</td>\n",
              "      <td>15.000000</td>\n",
              "    </tr>\n",
              "    <tr>\n",
              "      <th>50%</th>\n",
              "      <td>NaN</td>\n",
              "      <td>NaN</td>\n",
              "      <td>51.000000</td>\n",
              "      <td>604.000000</td>\n",
              "      <td>1.000000</td>\n",
              "      <td>700.000000</td>\n",
              "      <td>25.000000</td>\n",
              "      <td>13.000000</td>\n",
              "      <td>20.000000</td>\n",
              "    </tr>\n",
              "    <tr>\n",
              "      <th>75%</th>\n",
              "      <td>NaN</td>\n",
              "      <td>NaN</td>\n",
              "      <td>57.000000</td>\n",
              "      <td>961.000000</td>\n",
              "      <td>3.000000</td>\n",
              "      <td>1900.000000</td>\n",
              "      <td>38.000000</td>\n",
              "      <td>21.000000</td>\n",
              "      <td>30.000000</td>\n",
              "    </tr>\n",
              "    <tr>\n",
              "      <th>max</th>\n",
              "      <td>NaN</td>\n",
              "      <td>NaN</td>\n",
              "      <td>76.000000</td>\n",
              "      <td>3992.000000</td>\n",
              "      <td>20.000000</td>\n",
              "      <td>40425.000000</td>\n",
              "      <td>105.000000</td>\n",
              "      <td>105.000000</td>\n",
              "      <td>118.000000</td>\n",
              "    </tr>\n",
              "  </tbody>\n",
              "</table>\n",
              "</div>"
            ],
            "text/plain": [
              "                              product_id product_category_name  \\\n",
              "count                              32949                 32949   \n",
              "unique                             32949                    73   \n",
              "top     1e9e8ef04dbcff4541ed26657ea517e5       cama_mesa_banho   \n",
              "freq                                   1                  3638   \n",
              "mean                                 NaN                   NaN   \n",
              "std                                  NaN                   NaN   \n",
              "min                                  NaN                   NaN   \n",
              "25%                                  NaN                   NaN   \n",
              "50%                                  NaN                   NaN   \n",
              "75%                                  NaN                   NaN   \n",
              "max                                  NaN                   NaN   \n",
              "\n",
              "        product_name_lenght  product_description_lenght  product_photos_qty  \\\n",
              "count          32949.000000                32949.000000        32949.000000   \n",
              "unique                  NaN                         NaN                 NaN   \n",
              "top                     NaN                         NaN                 NaN   \n",
              "freq                    NaN                         NaN                 NaN   \n",
              "mean              48.477025                  771.490686            2.187317   \n",
              "std               10.150569                  629.227735            1.720702   \n",
              "min                5.000000                    4.000000            1.000000   \n",
              "25%               42.000000                  344.000000            1.000000   \n",
              "50%               51.000000                  604.000000            1.000000   \n",
              "75%               57.000000                  961.000000            3.000000   \n",
              "max               76.000000                 3992.000000           20.000000   \n",
              "\n",
              "        product_weight_g  product_length_cm  product_height_cm  \\\n",
              "count       32949.000000       32949.000000       32949.000000   \n",
              "unique               NaN                NaN                NaN   \n",
              "top                  NaN                NaN                NaN   \n",
              "freq                 NaN                NaN                NaN   \n",
              "mean         2276.472488          30.815078          16.937661   \n",
              "std          4282.038731          16.914458          13.637554   \n",
              "min             0.000000           7.000000           2.000000   \n",
              "25%           300.000000          18.000000           8.000000   \n",
              "50%           700.000000          25.000000          13.000000   \n",
              "75%          1900.000000          38.000000          21.000000   \n",
              "max         40425.000000         105.000000         105.000000   \n",
              "\n",
              "        product_width_cm  \n",
              "count       32949.000000  \n",
              "unique               NaN  \n",
              "top                  NaN  \n",
              "freq                 NaN  \n",
              "mean           23.196728  \n",
              "std            12.079047  \n",
              "min             6.000000  \n",
              "25%            15.000000  \n",
              "50%            20.000000  \n",
              "75%            30.000000  \n",
              "max           118.000000  "
            ]
          },
          "execution_count": 86,
          "metadata": {},
          "output_type": "execute_result"
        }
      ],
      "source": [
        "products_df.describe(include='all')"
      ]
    },
    {
      "cell_type": "markdown",
      "metadata": {},
      "source": [
        "menurut saya kolom 'product_name_lenght', 'product_description_lenght', 'product_photos_qty' tidak terlalu berpengaruh. maka dari itu saya akan drop kolom tersebut"
      ]
    },
    {
      "cell_type": "code",
      "execution_count": 87,
      "metadata": {},
      "outputs": [
        {
          "data": {
            "text/html": [
              "<div>\n",
              "<style scoped>\n",
              "    .dataframe tbody tr th:only-of-type {\n",
              "        vertical-align: middle;\n",
              "    }\n",
              "\n",
              "    .dataframe tbody tr th {\n",
              "        vertical-align: top;\n",
              "    }\n",
              "\n",
              "    .dataframe thead th {\n",
              "        text-align: right;\n",
              "    }\n",
              "</style>\n",
              "<table border=\"1\" class=\"dataframe\">\n",
              "  <thead>\n",
              "    <tr style=\"text-align: right;\">\n",
              "      <th></th>\n",
              "      <th>product_id</th>\n",
              "      <th>product_category_name</th>\n",
              "      <th>product_weight_g</th>\n",
              "      <th>product_length_cm</th>\n",
              "      <th>product_height_cm</th>\n",
              "      <th>product_width_cm</th>\n",
              "    </tr>\n",
              "  </thead>\n",
              "  <tbody>\n",
              "    <tr>\n",
              "      <th>0</th>\n",
              "      <td>1e9e8ef04dbcff4541ed26657ea517e5</td>\n",
              "      <td>perfumaria</td>\n",
              "      <td>225.0</td>\n",
              "      <td>16.0</td>\n",
              "      <td>10.0</td>\n",
              "      <td>14.0</td>\n",
              "    </tr>\n",
              "    <tr>\n",
              "      <th>1</th>\n",
              "      <td>3aa071139cb16b67ca9e5dea641aaa2f</td>\n",
              "      <td>artes</td>\n",
              "      <td>1000.0</td>\n",
              "      <td>30.0</td>\n",
              "      <td>18.0</td>\n",
              "      <td>20.0</td>\n",
              "    </tr>\n",
              "    <tr>\n",
              "      <th>2</th>\n",
              "      <td>96bd76ec8810374ed1b65e291975717f</td>\n",
              "      <td>esporte_lazer</td>\n",
              "      <td>154.0</td>\n",
              "      <td>18.0</td>\n",
              "      <td>9.0</td>\n",
              "      <td>15.0</td>\n",
              "    </tr>\n",
              "    <tr>\n",
              "      <th>3</th>\n",
              "      <td>cef67bcfe19066a932b7673e239eb23d</td>\n",
              "      <td>bebes</td>\n",
              "      <td>371.0</td>\n",
              "      <td>26.0</td>\n",
              "      <td>4.0</td>\n",
              "      <td>26.0</td>\n",
              "    </tr>\n",
              "    <tr>\n",
              "      <th>4</th>\n",
              "      <td>9dc1a7de274444849c219cff195d0b71</td>\n",
              "      <td>utilidades_domesticas</td>\n",
              "      <td>625.0</td>\n",
              "      <td>20.0</td>\n",
              "      <td>17.0</td>\n",
              "      <td>13.0</td>\n",
              "    </tr>\n",
              "  </tbody>\n",
              "</table>\n",
              "</div>"
            ],
            "text/plain": [
              "                         product_id  product_category_name  product_weight_g  \\\n",
              "0  1e9e8ef04dbcff4541ed26657ea517e5             perfumaria             225.0   \n",
              "1  3aa071139cb16b67ca9e5dea641aaa2f                  artes            1000.0   \n",
              "2  96bd76ec8810374ed1b65e291975717f          esporte_lazer             154.0   \n",
              "3  cef67bcfe19066a932b7673e239eb23d                  bebes             371.0   \n",
              "4  9dc1a7de274444849c219cff195d0b71  utilidades_domesticas             625.0   \n",
              "\n",
              "   product_length_cm  product_height_cm  product_width_cm  \n",
              "0               16.0               10.0              14.0  \n",
              "1               30.0               18.0              20.0  \n",
              "2               18.0                9.0              15.0  \n",
              "3               26.0                4.0              26.0  \n",
              "4               20.0               17.0              13.0  "
            ]
          },
          "execution_count": 87,
          "metadata": {},
          "output_type": "execute_result"
        }
      ],
      "source": [
        "products_df.drop(['product_name_lenght', 'product_description_lenght', 'product_photos_qty'],axis=1,inplace=True)\n",
        "products_df.head()"
      ]
    },
    {
      "cell_type": "markdown",
      "metadata": {},
      "source": [
        "dari data tersebut diketahui product_length_cm, product_height_cm, product_width_cm. Berdasarkan informasi tersebut, kita bisa membuat sebuah kolom baru untuk memuat volume dari produk tersebut. Untuk melakukannya, kita perlu menghitung perkalian dari 'product_length_cm', 'product_height_cm','product_width_cm'."
      ]
    },
    {
      "cell_type": "code",
      "execution_count": 88,
      "metadata": {},
      "outputs": [
        {
          "data": {
            "text/html": [
              "<div>\n",
              "<style scoped>\n",
              "    .dataframe tbody tr th:only-of-type {\n",
              "        vertical-align: middle;\n",
              "    }\n",
              "\n",
              "    .dataframe tbody tr th {\n",
              "        vertical-align: top;\n",
              "    }\n",
              "\n",
              "    .dataframe thead th {\n",
              "        text-align: right;\n",
              "    }\n",
              "</style>\n",
              "<table border=\"1\" class=\"dataframe\">\n",
              "  <thead>\n",
              "    <tr style=\"text-align: right;\">\n",
              "      <th></th>\n",
              "      <th>product_id</th>\n",
              "      <th>product_category_name</th>\n",
              "      <th>product_weight_g</th>\n",
              "      <th>product_length_cm</th>\n",
              "      <th>product_height_cm</th>\n",
              "      <th>product_width_cm</th>\n",
              "      <th>product_volume_cm3</th>\n",
              "    </tr>\n",
              "  </thead>\n",
              "  <tbody>\n",
              "    <tr>\n",
              "      <th>0</th>\n",
              "      <td>1e9e8ef04dbcff4541ed26657ea517e5</td>\n",
              "      <td>perfumaria</td>\n",
              "      <td>225.0</td>\n",
              "      <td>16.0</td>\n",
              "      <td>10.0</td>\n",
              "      <td>14.0</td>\n",
              "      <td>2240.0</td>\n",
              "    </tr>\n",
              "    <tr>\n",
              "      <th>1</th>\n",
              "      <td>3aa071139cb16b67ca9e5dea641aaa2f</td>\n",
              "      <td>artes</td>\n",
              "      <td>1000.0</td>\n",
              "      <td>30.0</td>\n",
              "      <td>18.0</td>\n",
              "      <td>20.0</td>\n",
              "      <td>10800.0</td>\n",
              "    </tr>\n",
              "    <tr>\n",
              "      <th>2</th>\n",
              "      <td>96bd76ec8810374ed1b65e291975717f</td>\n",
              "      <td>esporte_lazer</td>\n",
              "      <td>154.0</td>\n",
              "      <td>18.0</td>\n",
              "      <td>9.0</td>\n",
              "      <td>15.0</td>\n",
              "      <td>2430.0</td>\n",
              "    </tr>\n",
              "    <tr>\n",
              "      <th>3</th>\n",
              "      <td>cef67bcfe19066a932b7673e239eb23d</td>\n",
              "      <td>bebes</td>\n",
              "      <td>371.0</td>\n",
              "      <td>26.0</td>\n",
              "      <td>4.0</td>\n",
              "      <td>26.0</td>\n",
              "      <td>2704.0</td>\n",
              "    </tr>\n",
              "    <tr>\n",
              "      <th>4</th>\n",
              "      <td>9dc1a7de274444849c219cff195d0b71</td>\n",
              "      <td>utilidades_domesticas</td>\n",
              "      <td>625.0</td>\n",
              "      <td>20.0</td>\n",
              "      <td>17.0</td>\n",
              "      <td>13.0</td>\n",
              "      <td>4420.0</td>\n",
              "    </tr>\n",
              "  </tbody>\n",
              "</table>\n",
              "</div>"
            ],
            "text/plain": [
              "                         product_id  product_category_name  product_weight_g  \\\n",
              "0  1e9e8ef04dbcff4541ed26657ea517e5             perfumaria             225.0   \n",
              "1  3aa071139cb16b67ca9e5dea641aaa2f                  artes            1000.0   \n",
              "2  96bd76ec8810374ed1b65e291975717f          esporte_lazer             154.0   \n",
              "3  cef67bcfe19066a932b7673e239eb23d                  bebes             371.0   \n",
              "4  9dc1a7de274444849c219cff195d0b71  utilidades_domesticas             625.0   \n",
              "\n",
              "   product_length_cm  product_height_cm  product_width_cm  product_volume_cm3  \n",
              "0               16.0               10.0              14.0              2240.0  \n",
              "1               30.0               18.0              20.0             10800.0  \n",
              "2               18.0                9.0              15.0              2430.0  \n",
              "3               26.0                4.0              26.0              2704.0  \n",
              "4               20.0               17.0              13.0              4420.0  "
            ]
          },
          "execution_count": 88,
          "metadata": {},
          "output_type": "execute_result"
        }
      ],
      "source": [
        "products_df['product_volume_cm3'] = products_df.apply(lambda row: row['product_length_cm'] * row['product_height_cm'] * row['product_width_cm'], axis=1)\n",
        "products_df.head()"
      ]
    },
    {
      "cell_type": "markdown",
      "metadata": {},
      "source": [
        "dari data tersebut kita bisa mengelompokan kategori produk berdasarkan volume nya"
      ]
    },
    {
      "cell_type": "code",
      "execution_count": 89,
      "metadata": {},
      "outputs": [
        {
          "data": {
            "text/plain": [
              "product_category_name\n",
              "utilidades_domesticas            296208.0\n",
              "moveis_sala                      294000.0\n",
              "moveis_decoracao                 294000.0\n",
              "eletrodomesticos                 285138.0\n",
              "cool_stuff                       281232.0\n",
              "                                   ...   \n",
              "seguros_e_servicos                14175.0\n",
              "cds_dvds_musicais                 13125.0\n",
              "fashion_roupa_infanto_juvenil     12000.0\n",
              "pc_gamer                           8712.0\n",
              "livros_importados                  5625.0\n",
              "Name: product_volume_cm3, Length: 73, dtype: float64"
            ]
          },
          "execution_count": 89,
          "metadata": {},
          "output_type": "execute_result"
        }
      ],
      "source": [
        "products_df.groupby(by='product_category_name').product_volume_cm3.max().sort_values(ascending=False)"
      ]
    },
    {
      "cell_type": "markdown",
      "metadata": {},
      "source": [
        "berdasarkan informasi diatas, didapatkan bahwa kategori produk utilidades_domesticas memiliki volume paling tinggi sebesar 296208 cm3"
      ]
    },
    {
      "cell_type": "markdown",
      "metadata": {},
      "source": [
        "### explore product_category_name_translation_df"
      ]
    },
    {
      "cell_type": "code",
      "execution_count": 90,
      "metadata": {},
      "outputs": [
        {
          "data": {
            "text/html": [
              "<div>\n",
              "<style scoped>\n",
              "    .dataframe tbody tr th:only-of-type {\n",
              "        vertical-align: middle;\n",
              "    }\n",
              "\n",
              "    .dataframe tbody tr th {\n",
              "        vertical-align: top;\n",
              "    }\n",
              "\n",
              "    .dataframe thead th {\n",
              "        text-align: right;\n",
              "    }\n",
              "</style>\n",
              "<table border=\"1\" class=\"dataframe\">\n",
              "  <thead>\n",
              "    <tr style=\"text-align: right;\">\n",
              "      <th></th>\n",
              "      <th>product_category_name</th>\n",
              "      <th>product_category_name_english</th>\n",
              "    </tr>\n",
              "  </thead>\n",
              "  <tbody>\n",
              "    <tr>\n",
              "      <th>count</th>\n",
              "      <td>71</td>\n",
              "      <td>71</td>\n",
              "    </tr>\n",
              "    <tr>\n",
              "      <th>unique</th>\n",
              "      <td>71</td>\n",
              "      <td>71</td>\n",
              "    </tr>\n",
              "    <tr>\n",
              "      <th>top</th>\n",
              "      <td>beleza_saude</td>\n",
              "      <td>health_beauty</td>\n",
              "    </tr>\n",
              "    <tr>\n",
              "      <th>freq</th>\n",
              "      <td>1</td>\n",
              "      <td>1</td>\n",
              "    </tr>\n",
              "  </tbody>\n",
              "</table>\n",
              "</div>"
            ],
            "text/plain": [
              "       product_category_name product_category_name_english\n",
              "count                     71                            71\n",
              "unique                    71                            71\n",
              "top             beleza_saude                 health_beauty\n",
              "freq                       1                             1"
            ]
          },
          "execution_count": 90,
          "metadata": {},
          "output_type": "execute_result"
        }
      ],
      "source": [
        "product_category_name_translation_df.describe(include='all')"
      ]
    },
    {
      "cell_type": "markdown",
      "metadata": {},
      "source": [
        "untuk menemukan informasi lebih lanjut saya akan menggabungkan data product_category_name_translation_df dengan products_df"
      ]
    },
    {
      "cell_type": "code",
      "execution_count": 91,
      "metadata": {},
      "outputs": [
        {
          "data": {
            "text/html": [
              "<div>\n",
              "<style scoped>\n",
              "    .dataframe tbody tr th:only-of-type {\n",
              "        vertical-align: middle;\n",
              "    }\n",
              "\n",
              "    .dataframe tbody tr th {\n",
              "        vertical-align: top;\n",
              "    }\n",
              "\n",
              "    .dataframe thead th {\n",
              "        text-align: right;\n",
              "    }\n",
              "</style>\n",
              "<table border=\"1\" class=\"dataframe\">\n",
              "  <thead>\n",
              "    <tr style=\"text-align: right;\">\n",
              "      <th></th>\n",
              "      <th>product_id</th>\n",
              "      <th>product_category_name</th>\n",
              "      <th>product_weight_g</th>\n",
              "      <th>product_length_cm</th>\n",
              "      <th>product_height_cm</th>\n",
              "      <th>product_width_cm</th>\n",
              "      <th>product_volume_cm3</th>\n",
              "      <th>product_category_name_english</th>\n",
              "    </tr>\n",
              "  </thead>\n",
              "  <tbody>\n",
              "    <tr>\n",
              "      <th>4911</th>\n",
              "      <td>b6381477a9bdb75f7c1c97478ab25467</td>\n",
              "      <td>telefonia_fixa</td>\n",
              "      <td>100.0</td>\n",
              "      <td>16.0</td>\n",
              "      <td>4.0</td>\n",
              "      <td>11.0</td>\n",
              "      <td>704.0</td>\n",
              "      <td>fixed_telephony</td>\n",
              "    </tr>\n",
              "    <tr>\n",
              "      <th>14616</th>\n",
              "      <td>e39ad6a03434d2664d4b5c3bb331f2d8</td>\n",
              "      <td>telefonia</td>\n",
              "      <td>150.0</td>\n",
              "      <td>16.0</td>\n",
              "      <td>5.0</td>\n",
              "      <td>11.0</td>\n",
              "      <td>880.0</td>\n",
              "      <td>telephony</td>\n",
              "    </tr>\n",
              "    <tr>\n",
              "      <th>32868</th>\n",
              "      <td>4d0b5865d84734aeee18cb62a506f515</td>\n",
              "      <td>moveis_decoracao</td>\n",
              "      <td>600.0</td>\n",
              "      <td>17.0</td>\n",
              "      <td>17.0</td>\n",
              "      <td>60.0</td>\n",
              "      <td>17340.0</td>\n",
              "      <td>furniture_decor</td>\n",
              "    </tr>\n",
              "    <tr>\n",
              "      <th>31347</th>\n",
              "      <td>9932cef18f605505959181dbce9896ea</td>\n",
              "      <td>perfumaria</td>\n",
              "      <td>200.0</td>\n",
              "      <td>16.0</td>\n",
              "      <td>5.0</td>\n",
              "      <td>11.0</td>\n",
              "      <td>880.0</td>\n",
              "      <td>perfumery</td>\n",
              "    </tr>\n",
              "    <tr>\n",
              "      <th>8689</th>\n",
              "      <td>355e78eaf102f03855b48498d1b7e996</td>\n",
              "      <td>brinquedos</td>\n",
              "      <td>9700.0</td>\n",
              "      <td>30.0</td>\n",
              "      <td>80.0</td>\n",
              "      <td>40.0</td>\n",
              "      <td>96000.0</td>\n",
              "      <td>toys</td>\n",
              "    </tr>\n",
              "  </tbody>\n",
              "</table>\n",
              "</div>"
            ],
            "text/plain": [
              "                             product_id product_category_name  \\\n",
              "4911   b6381477a9bdb75f7c1c97478ab25467        telefonia_fixa   \n",
              "14616  e39ad6a03434d2664d4b5c3bb331f2d8             telefonia   \n",
              "32868  4d0b5865d84734aeee18cb62a506f515      moveis_decoracao   \n",
              "31347  9932cef18f605505959181dbce9896ea            perfumaria   \n",
              "8689   355e78eaf102f03855b48498d1b7e996            brinquedos   \n",
              "\n",
              "       product_weight_g  product_length_cm  product_height_cm  \\\n",
              "4911              100.0               16.0                4.0   \n",
              "14616             150.0               16.0                5.0   \n",
              "32868             600.0               17.0               17.0   \n",
              "31347             200.0               16.0                5.0   \n",
              "8689             9700.0               30.0               80.0   \n",
              "\n",
              "       product_width_cm  product_volume_cm3 product_category_name_english  \n",
              "4911               11.0               704.0               fixed_telephony  \n",
              "14616              11.0               880.0                     telephony  \n",
              "32868              60.0             17340.0               furniture_decor  \n",
              "31347              11.0               880.0                     perfumery  \n",
              "8689               40.0             96000.0                          toys  "
            ]
          },
          "execution_count": 91,
          "metadata": {},
          "output_type": "execute_result"
        }
      ],
      "source": [
        "product_english_df = pd.merge(\n",
        "    left=products_df,\n",
        "    right=product_category_name_translation_df,\n",
        "    how='left',\n",
        "    left_on='product_category_name',\n",
        "    right_on='product_category_name'\n",
        ")\n",
        "product_english_df.sample(5)"
      ]
    },
    {
      "cell_type": "code",
      "execution_count": 92,
      "metadata": {},
      "outputs": [
        {
          "data": {
            "text/html": [
              "<div>\n",
              "<style scoped>\n",
              "    .dataframe tbody tr th:only-of-type {\n",
              "        vertical-align: middle;\n",
              "    }\n",
              "\n",
              "    .dataframe tbody tr th {\n",
              "        vertical-align: top;\n",
              "    }\n",
              "\n",
              "    .dataframe thead th {\n",
              "        text-align: right;\n",
              "    }\n",
              "</style>\n",
              "<table border=\"1\" class=\"dataframe\">\n",
              "  <thead>\n",
              "    <tr style=\"text-align: right;\">\n",
              "      <th></th>\n",
              "      <th>product_id</th>\n",
              "      <th>product_category_name</th>\n",
              "      <th>product_category_name_english</th>\n",
              "      <th>product_weight_g</th>\n",
              "      <th>product_length_cm</th>\n",
              "      <th>product_height_cm</th>\n",
              "      <th>product_width_cm</th>\n",
              "      <th>product_volume_cm3</th>\n",
              "    </tr>\n",
              "  </thead>\n",
              "  <tbody>\n",
              "    <tr>\n",
              "      <th>17674</th>\n",
              "      <td>2eb8c6f513599fd67149f8f9cd8e2ea5</td>\n",
              "      <td>cool_stuff</td>\n",
              "      <td>cool_stuff</td>\n",
              "      <td>1400.0</td>\n",
              "      <td>40.0</td>\n",
              "      <td>40.0</td>\n",
              "      <td>30.0</td>\n",
              "      <td>48000.0</td>\n",
              "    </tr>\n",
              "    <tr>\n",
              "      <th>24720</th>\n",
              "      <td>df2d06c915846282d43217da4911c122</td>\n",
              "      <td>informatica_acessorios</td>\n",
              "      <td>computers_accessories</td>\n",
              "      <td>250.0</td>\n",
              "      <td>19.0</td>\n",
              "      <td>3.0</td>\n",
              "      <td>14.0</td>\n",
              "      <td>798.0</td>\n",
              "    </tr>\n",
              "    <tr>\n",
              "      <th>1649</th>\n",
              "      <td>ba8a143b592c2af31aa106f79e521424</td>\n",
              "      <td>informatica_acessorios</td>\n",
              "      <td>computers_accessories</td>\n",
              "      <td>100.0</td>\n",
              "      <td>16.0</td>\n",
              "      <td>4.0</td>\n",
              "      <td>12.0</td>\n",
              "      <td>768.0</td>\n",
              "    </tr>\n",
              "    <tr>\n",
              "      <th>14353</th>\n",
              "      <td>975c79322e3ae1a967d8f5b82608ffd7</td>\n",
              "      <td>livros_importados</td>\n",
              "      <td>books_imported</td>\n",
              "      <td>500.0</td>\n",
              "      <td>30.0</td>\n",
              "      <td>2.0</td>\n",
              "      <td>20.0</td>\n",
              "      <td>1200.0</td>\n",
              "    </tr>\n",
              "    <tr>\n",
              "      <th>29081</th>\n",
              "      <td>27c5d184e397082e7f0ff11ace0d7269</td>\n",
              "      <td>beleza_saude</td>\n",
              "      <td>health_beauty</td>\n",
              "      <td>750.0</td>\n",
              "      <td>22.0</td>\n",
              "      <td>12.0</td>\n",
              "      <td>22.0</td>\n",
              "      <td>5808.0</td>\n",
              "    </tr>\n",
              "  </tbody>\n",
              "</table>\n",
              "</div>"
            ],
            "text/plain": [
              "                             product_id   product_category_name  \\\n",
              "17674  2eb8c6f513599fd67149f8f9cd8e2ea5              cool_stuff   \n",
              "24720  df2d06c915846282d43217da4911c122  informatica_acessorios   \n",
              "1649   ba8a143b592c2af31aa106f79e521424  informatica_acessorios   \n",
              "14353  975c79322e3ae1a967d8f5b82608ffd7       livros_importados   \n",
              "29081  27c5d184e397082e7f0ff11ace0d7269            beleza_saude   \n",
              "\n",
              "      product_category_name_english  product_weight_g  product_length_cm  \\\n",
              "17674                    cool_stuff            1400.0               40.0   \n",
              "24720         computers_accessories             250.0               19.0   \n",
              "1649          computers_accessories             100.0               16.0   \n",
              "14353                books_imported             500.0               30.0   \n",
              "29081                 health_beauty             750.0               22.0   \n",
              "\n",
              "       product_height_cm  product_width_cm  product_volume_cm3  \n",
              "17674               40.0              30.0             48000.0  \n",
              "24720                3.0              14.0               798.0  \n",
              "1649                 4.0              12.0               768.0  \n",
              "14353                2.0              20.0              1200.0  \n",
              "29081               12.0              22.0              5808.0  "
            ]
          },
          "execution_count": 92,
          "metadata": {},
          "output_type": "execute_result"
        }
      ],
      "source": [
        "product_english_df.insert(2,'product_category_name_english',product_english_df.pop('product_category_name_english'))\n",
        "product_english_df.sample(5)"
      ]
    },
    {
      "cell_type": "markdown",
      "metadata": {},
      "source": [
        "karena sudah terdapat terjemahan dari kolom product_category_name, maka kolom tersebut tidak diperlukan lagi. oleh karena itu saya akan drop kolom tersebut."
      ]
    },
    {
      "cell_type": "code",
      "execution_count": 93,
      "metadata": {},
      "outputs": [
        {
          "data": {
            "text/html": [
              "<div>\n",
              "<style scoped>\n",
              "    .dataframe tbody tr th:only-of-type {\n",
              "        vertical-align: middle;\n",
              "    }\n",
              "\n",
              "    .dataframe tbody tr th {\n",
              "        vertical-align: top;\n",
              "    }\n",
              "\n",
              "    .dataframe thead th {\n",
              "        text-align: right;\n",
              "    }\n",
              "</style>\n",
              "<table border=\"1\" class=\"dataframe\">\n",
              "  <thead>\n",
              "    <tr style=\"text-align: right;\">\n",
              "      <th></th>\n",
              "      <th>product_id</th>\n",
              "      <th>product_category_name_english</th>\n",
              "      <th>product_weight_g</th>\n",
              "      <th>product_length_cm</th>\n",
              "      <th>product_height_cm</th>\n",
              "      <th>product_width_cm</th>\n",
              "      <th>product_volume_cm3</th>\n",
              "    </tr>\n",
              "  </thead>\n",
              "  <tbody>\n",
              "    <tr>\n",
              "      <th>0</th>\n",
              "      <td>1e9e8ef04dbcff4541ed26657ea517e5</td>\n",
              "      <td>perfumery</td>\n",
              "      <td>225.0</td>\n",
              "      <td>16.0</td>\n",
              "      <td>10.0</td>\n",
              "      <td>14.0</td>\n",
              "      <td>2240.0</td>\n",
              "    </tr>\n",
              "    <tr>\n",
              "      <th>1</th>\n",
              "      <td>3aa071139cb16b67ca9e5dea641aaa2f</td>\n",
              "      <td>art</td>\n",
              "      <td>1000.0</td>\n",
              "      <td>30.0</td>\n",
              "      <td>18.0</td>\n",
              "      <td>20.0</td>\n",
              "      <td>10800.0</td>\n",
              "    </tr>\n",
              "    <tr>\n",
              "      <th>2</th>\n",
              "      <td>96bd76ec8810374ed1b65e291975717f</td>\n",
              "      <td>sports_leisure</td>\n",
              "      <td>154.0</td>\n",
              "      <td>18.0</td>\n",
              "      <td>9.0</td>\n",
              "      <td>15.0</td>\n",
              "      <td>2430.0</td>\n",
              "    </tr>\n",
              "    <tr>\n",
              "      <th>3</th>\n",
              "      <td>cef67bcfe19066a932b7673e239eb23d</td>\n",
              "      <td>baby</td>\n",
              "      <td>371.0</td>\n",
              "      <td>26.0</td>\n",
              "      <td>4.0</td>\n",
              "      <td>26.0</td>\n",
              "      <td>2704.0</td>\n",
              "    </tr>\n",
              "    <tr>\n",
              "      <th>4</th>\n",
              "      <td>9dc1a7de274444849c219cff195d0b71</td>\n",
              "      <td>housewares</td>\n",
              "      <td>625.0</td>\n",
              "      <td>20.0</td>\n",
              "      <td>17.0</td>\n",
              "      <td>13.0</td>\n",
              "      <td>4420.0</td>\n",
              "    </tr>\n",
              "  </tbody>\n",
              "</table>\n",
              "</div>"
            ],
            "text/plain": [
              "                         product_id product_category_name_english  \\\n",
              "0  1e9e8ef04dbcff4541ed26657ea517e5                     perfumery   \n",
              "1  3aa071139cb16b67ca9e5dea641aaa2f                           art   \n",
              "2  96bd76ec8810374ed1b65e291975717f                sports_leisure   \n",
              "3  cef67bcfe19066a932b7673e239eb23d                          baby   \n",
              "4  9dc1a7de274444849c219cff195d0b71                    housewares   \n",
              "\n",
              "   product_weight_g  product_length_cm  product_height_cm  product_width_cm  \\\n",
              "0             225.0               16.0               10.0              14.0   \n",
              "1            1000.0               30.0               18.0              20.0   \n",
              "2             154.0               18.0                9.0              15.0   \n",
              "3             371.0               26.0                4.0              26.0   \n",
              "4             625.0               20.0               17.0              13.0   \n",
              "\n",
              "   product_volume_cm3  \n",
              "0              2240.0  \n",
              "1             10800.0  \n",
              "2              2430.0  \n",
              "3              2704.0  \n",
              "4              4420.0  "
            ]
          },
          "execution_count": 93,
          "metadata": {},
          "output_type": "execute_result"
        }
      ],
      "source": [
        "product_english_df.drop('product_category_name',axis=1,inplace=True)\n",
        "product_english_df.head(5)"
      ]
    },
    {
      "cell_type": "markdown",
      "metadata": {},
      "source": [
        "untuk mendapatkan informasi lebih lanjut, saya akan menggabungkan data product_english_df dengan data customer_order_geolocation_item_payments_review_df"
      ]
    },
    {
      "cell_type": "code",
      "execution_count": 94,
      "metadata": {},
      "outputs": [
        {
          "data": {
            "text/html": [
              "<div>\n",
              "<style scoped>\n",
              "    .dataframe tbody tr th:only-of-type {\n",
              "        vertical-align: middle;\n",
              "    }\n",
              "\n",
              "    .dataframe tbody tr th {\n",
              "        vertical-align: top;\n",
              "    }\n",
              "\n",
              "    .dataframe thead th {\n",
              "        text-align: right;\n",
              "    }\n",
              "</style>\n",
              "<table border=\"1\" class=\"dataframe\">\n",
              "  <thead>\n",
              "    <tr style=\"text-align: right;\">\n",
              "      <th></th>\n",
              "      <th>customer_id</th>\n",
              "      <th>customer_zip_code_prefix</th>\n",
              "      <th>customer_city</th>\n",
              "      <th>customer_state</th>\n",
              "      <th>geolocation_lat</th>\n",
              "      <th>geolocation_lng</th>\n",
              "      <th>order_id</th>\n",
              "      <th>order_status</th>\n",
              "      <th>order_delivered_carrier_date</th>\n",
              "      <th>order_delivered_customer_date</th>\n",
              "      <th>...</th>\n",
              "      <th>review_id</th>\n",
              "      <th>review_score</th>\n",
              "      <th>review_comment_title</th>\n",
              "      <th>review_comment_message</th>\n",
              "      <th>product_category_name_english</th>\n",
              "      <th>product_weight_g</th>\n",
              "      <th>product_length_cm</th>\n",
              "      <th>product_height_cm</th>\n",
              "      <th>product_width_cm</th>\n",
              "      <th>product_volume_cm3</th>\n",
              "    </tr>\n",
              "  </thead>\n",
              "  <tbody>\n",
              "    <tr>\n",
              "      <th>434493</th>\n",
              "      <td>7e819d9576db510d58fb2df67b84a8d5</td>\n",
              "      <td>13184</td>\n",
              "      <td>hortolandia</td>\n",
              "      <td>SP</td>\n",
              "      <td>-22.866626</td>\n",
              "      <td>-47.212815</td>\n",
              "      <td>0ea1fd1eeeb46df9770ac9d07e1e71e6</td>\n",
              "      <td>delivered</td>\n",
              "      <td>2018-04-04 17:19:17</td>\n",
              "      <td>2018-04-09 15:58:43</td>\n",
              "      <td>...</td>\n",
              "      <td>0d5d1342a428b5b2885937e1a9ef9805</td>\n",
              "      <td>5.0</td>\n",
              "      <td>Recomendo</td>\n",
              "      <td>Muito bom o produto, e fácil de montar. Preten...</td>\n",
              "      <td>furniture_decor</td>\n",
              "      <td>2600.0</td>\n",
              "      <td>50.0</td>\n",
              "      <td>10.0</td>\n",
              "      <td>30.0</td>\n",
              "      <td>15000.0</td>\n",
              "    </tr>\n",
              "    <tr>\n",
              "      <th>447145</th>\n",
              "      <td>ab994eee6b515cbcf023c206bf29ec08</td>\n",
              "      <td>31530</td>\n",
              "      <td>belo horizonte</td>\n",
              "      <td>MG</td>\n",
              "      <td>-19.830608</td>\n",
              "      <td>-43.976524</td>\n",
              "      <td>275c73799ff2fa10ad41cbc15fcadb05</td>\n",
              "      <td>delivered</td>\n",
              "      <td>2017-10-30 21:22:49</td>\n",
              "      <td>2017-11-06 17:52:33</td>\n",
              "      <td>...</td>\n",
              "      <td>d591105674cc1838c0bedd551a3ba13a</td>\n",
              "      <td>5.0</td>\n",
              "      <td>Recomendo</td>\n",
              "      <td>Muito bom</td>\n",
              "      <td>sports_leisure</td>\n",
              "      <td>200.0</td>\n",
              "      <td>25.0</td>\n",
              "      <td>2.0</td>\n",
              "      <td>17.0</td>\n",
              "      <td>850.0</td>\n",
              "    </tr>\n",
              "    <tr>\n",
              "      <th>10692203</th>\n",
              "      <td>a704a342c9c7a6686554e5f5932c77cc</td>\n",
              "      <td>95030</td>\n",
              "      <td>caxias do sul</td>\n",
              "      <td>RS</td>\n",
              "      <td>-29.156849</td>\n",
              "      <td>-51.203680</td>\n",
              "      <td>644ae2fc953e74a21a0bd28b2049242e</td>\n",
              "      <td>delivered</td>\n",
              "      <td>2017-12-15 20:55:04</td>\n",
              "      <td>2017-12-21 12:19:19</td>\n",
              "      <td>...</td>\n",
              "      <td>ca6c02fda5f9cd1e2660ebcdc0701a9e</td>\n",
              "      <td>5.0</td>\n",
              "      <td>Recomendo</td>\n",
              "      <td>Chegou antes do prazo</td>\n",
              "      <td>cool_stuff</td>\n",
              "      <td>1950.0</td>\n",
              "      <td>33.0</td>\n",
              "      <td>44.0</td>\n",
              "      <td>19.0</td>\n",
              "      <td>27588.0</td>\n",
              "    </tr>\n",
              "    <tr>\n",
              "      <th>7164216</th>\n",
              "      <td>3aa42c09878ea293cacb60290fe10035</td>\n",
              "      <td>20560</td>\n",
              "      <td>rio de janeiro</td>\n",
              "      <td>RJ</td>\n",
              "      <td>-22.917899</td>\n",
              "      <td>-43.259999</td>\n",
              "      <td>ffd7f21b9b4ea30d3536d4cadd19fa42</td>\n",
              "      <td>delivered</td>\n",
              "      <td>2018-05-18 09:45:00</td>\n",
              "      <td>2018-06-05 20:08:46</td>\n",
              "      <td>...</td>\n",
              "      <td>25bcaf0f4b36906d045ef18cef5aff7e</td>\n",
              "      <td>4.0</td>\n",
              "      <td>Recomendo</td>\n",
              "      <td>Muito bom</td>\n",
              "      <td>electronics</td>\n",
              "      <td>350.0</td>\n",
              "      <td>30.0</td>\n",
              "      <td>19.0</td>\n",
              "      <td>14.0</td>\n",
              "      <td>7980.0</td>\n",
              "    </tr>\n",
              "    <tr>\n",
              "      <th>11779624</th>\n",
              "      <td>d1b373f540c9e9081095b729cb55e953</td>\n",
              "      <td>38440</td>\n",
              "      <td>araguari</td>\n",
              "      <td>MG</td>\n",
              "      <td>-18.643168</td>\n",
              "      <td>-48.192695</td>\n",
              "      <td>f232f2ea81a3f61313f6bb0f759e624d</td>\n",
              "      <td>delivered</td>\n",
              "      <td>2017-06-14 16:04:11</td>\n",
              "      <td>2017-06-19 18:32:15</td>\n",
              "      <td>...</td>\n",
              "      <td>b3d919d72cc9aaba9f80678d6230c650</td>\n",
              "      <td>5.0</td>\n",
              "      <td>Recomendo</td>\n",
              "      <td>Produtos de boa qualidade.</td>\n",
              "      <td>telephony</td>\n",
              "      <td>150.0</td>\n",
              "      <td>19.0</td>\n",
              "      <td>4.0</td>\n",
              "      <td>20.0</td>\n",
              "      <td>1520.0</td>\n",
              "    </tr>\n",
              "  </tbody>\n",
              "</table>\n",
              "<p>5 rows × 30 columns</p>\n",
              "</div>"
            ],
            "text/plain": [
              "                               customer_id  customer_zip_code_prefix  \\\n",
              "434493    7e819d9576db510d58fb2df67b84a8d5                     13184   \n",
              "447145    ab994eee6b515cbcf023c206bf29ec08                     31530   \n",
              "10692203  a704a342c9c7a6686554e5f5932c77cc                     95030   \n",
              "7164216   3aa42c09878ea293cacb60290fe10035                     20560   \n",
              "11779624  d1b373f540c9e9081095b729cb55e953                     38440   \n",
              "\n",
              "           customer_city customer_state  geolocation_lat  geolocation_lng  \\\n",
              "434493       hortolandia             SP       -22.866626       -47.212815   \n",
              "447145    belo horizonte             MG       -19.830608       -43.976524   \n",
              "10692203   caxias do sul             RS       -29.156849       -51.203680   \n",
              "7164216   rio de janeiro             RJ       -22.917899       -43.259999   \n",
              "11779624        araguari             MG       -18.643168       -48.192695   \n",
              "\n",
              "                                  order_id order_status  \\\n",
              "434493    0ea1fd1eeeb46df9770ac9d07e1e71e6    delivered   \n",
              "447145    275c73799ff2fa10ad41cbc15fcadb05    delivered   \n",
              "10692203  644ae2fc953e74a21a0bd28b2049242e    delivered   \n",
              "7164216   ffd7f21b9b4ea30d3536d4cadd19fa42    delivered   \n",
              "11779624  f232f2ea81a3f61313f6bb0f759e624d    delivered   \n",
              "\n",
              "         order_delivered_carrier_date order_delivered_customer_date  ...  \\\n",
              "434493            2018-04-04 17:19:17           2018-04-09 15:58:43  ...   \n",
              "447145            2017-10-30 21:22:49           2017-11-06 17:52:33  ...   \n",
              "10692203          2017-12-15 20:55:04           2017-12-21 12:19:19  ...   \n",
              "7164216           2018-05-18 09:45:00           2018-06-05 20:08:46  ...   \n",
              "11779624          2017-06-14 16:04:11           2017-06-19 18:32:15  ...   \n",
              "\n",
              "                                 review_id review_score review_comment_title  \\\n",
              "434493    0d5d1342a428b5b2885937e1a9ef9805          5.0            Recomendo   \n",
              "447145    d591105674cc1838c0bedd551a3ba13a          5.0            Recomendo   \n",
              "10692203  ca6c02fda5f9cd1e2660ebcdc0701a9e          5.0            Recomendo   \n",
              "7164216   25bcaf0f4b36906d045ef18cef5aff7e          4.0            Recomendo   \n",
              "11779624  b3d919d72cc9aaba9f80678d6230c650          5.0            Recomendo   \n",
              "\n",
              "                                     review_comment_message  \\\n",
              "434493    Muito bom o produto, e fácil de montar. Preten...   \n",
              "447145                                            Muito bom   \n",
              "10692203                             Chegou antes do prazo    \n",
              "7164216                                           Muito bom   \n",
              "11779624                         Produtos de boa qualidade.   \n",
              "\n",
              "          product_category_name_english  product_weight_g product_length_cm  \\\n",
              "434493                  furniture_decor            2600.0              50.0   \n",
              "447145                   sports_leisure             200.0              25.0   \n",
              "10692203                     cool_stuff            1950.0              33.0   \n",
              "7164216                     electronics             350.0              30.0   \n",
              "11779624                      telephony             150.0              19.0   \n",
              "\n",
              "         product_height_cm  product_width_cm  product_volume_cm3  \n",
              "434493                10.0              30.0             15000.0  \n",
              "447145                 2.0              17.0               850.0  \n",
              "10692203              44.0              19.0             27588.0  \n",
              "7164216               19.0              14.0              7980.0  \n",
              "11779624               4.0              20.0              1520.0  \n",
              "\n",
              "[5 rows x 30 columns]"
            ]
          },
          "execution_count": 94,
          "metadata": {},
          "output_type": "execute_result"
        }
      ],
      "source": [
        "customer_order_product_geolocation_item_payment_review_df = pd.merge(\n",
        "    left=customer_order_geolocation_item_payments_review_df,\n",
        "    right=product_english_df,\n",
        "    how='left',\n",
        "    left_on='product_id',\n",
        "    right_on='product_id'\n",
        ")\n",
        "customer_order_product_geolocation_item_payment_review_df.sample(5)"
      ]
    },
    {
      "cell_type": "markdown",
      "metadata": {},
      "source": [
        "berdasarkan data diatas, kita bisa mengelompokan jenis kategori berdasarkan customernya."
      ]
    },
    {
      "cell_type": "code",
      "execution_count": 95,
      "metadata": {},
      "outputs": [
        {
          "data": {
            "text/plain": [
              "product_category_name_english\n",
              "bed_bath_table               10845\n",
              "health_beauty                 8836\n",
              "sports_leisure                7720\n",
              "computers_accessories         6689\n",
              "furniture_decor               6449\n",
              "                             ...  \n",
              "arts_and_craftmanship           23\n",
              "la_cuisine                      13\n",
              "cds_dvds_musicals               12\n",
              "fashion_childrens_clothes        8\n",
              "security_and_services            2\n",
              "Name: customer_id, Length: 71, dtype: int64"
            ]
          },
          "execution_count": 95,
          "metadata": {},
          "output_type": "execute_result"
        }
      ],
      "source": [
        "customer_order_product_geolocation_item_payment_review_df.groupby(by='product_category_name_english').customer_id.nunique().sort_values(ascending=False)"
      ]
    },
    {
      "cell_type": "markdown",
      "metadata": {},
      "source": [
        "berdasarkan informasi tersebut, didapatkan bahwa kategori bed_bath_table memiliki pembelian paling banyak "
      ]
    },
    {
      "cell_type": "markdown",
      "metadata": {},
      "source": [
        "### explore data sellers_df"
      ]
    },
    {
      "cell_type": "code",
      "execution_count": 96,
      "metadata": {},
      "outputs": [
        {
          "data": {
            "text/html": [
              "<div>\n",
              "<style scoped>\n",
              "    .dataframe tbody tr th:only-of-type {\n",
              "        vertical-align: middle;\n",
              "    }\n",
              "\n",
              "    .dataframe tbody tr th {\n",
              "        vertical-align: top;\n",
              "    }\n",
              "\n",
              "    .dataframe thead th {\n",
              "        text-align: right;\n",
              "    }\n",
              "</style>\n",
              "<table border=\"1\" class=\"dataframe\">\n",
              "  <thead>\n",
              "    <tr style=\"text-align: right;\">\n",
              "      <th></th>\n",
              "      <th>seller_id</th>\n",
              "      <th>seller_zip_code_prefix</th>\n",
              "      <th>seller_city</th>\n",
              "      <th>seller_state</th>\n",
              "    </tr>\n",
              "  </thead>\n",
              "  <tbody>\n",
              "    <tr>\n",
              "      <th>count</th>\n",
              "      <td>3095</td>\n",
              "      <td>3095.000000</td>\n",
              "      <td>3095</td>\n",
              "      <td>3095</td>\n",
              "    </tr>\n",
              "    <tr>\n",
              "      <th>unique</th>\n",
              "      <td>3095</td>\n",
              "      <td>NaN</td>\n",
              "      <td>611</td>\n",
              "      <td>23</td>\n",
              "    </tr>\n",
              "    <tr>\n",
              "      <th>top</th>\n",
              "      <td>3442f8959a84dea7ee197c632cb2df15</td>\n",
              "      <td>NaN</td>\n",
              "      <td>sao paulo</td>\n",
              "      <td>SP</td>\n",
              "    </tr>\n",
              "    <tr>\n",
              "      <th>freq</th>\n",
              "      <td>1</td>\n",
              "      <td>NaN</td>\n",
              "      <td>694</td>\n",
              "      <td>1849</td>\n",
              "    </tr>\n",
              "    <tr>\n",
              "      <th>mean</th>\n",
              "      <td>NaN</td>\n",
              "      <td>32291.059451</td>\n",
              "      <td>NaN</td>\n",
              "      <td>NaN</td>\n",
              "    </tr>\n",
              "    <tr>\n",
              "      <th>std</th>\n",
              "      <td>NaN</td>\n",
              "      <td>32713.453830</td>\n",
              "      <td>NaN</td>\n",
              "      <td>NaN</td>\n",
              "    </tr>\n",
              "    <tr>\n",
              "      <th>min</th>\n",
              "      <td>NaN</td>\n",
              "      <td>1001.000000</td>\n",
              "      <td>NaN</td>\n",
              "      <td>NaN</td>\n",
              "    </tr>\n",
              "    <tr>\n",
              "      <th>25%</th>\n",
              "      <td>NaN</td>\n",
              "      <td>7093.500000</td>\n",
              "      <td>NaN</td>\n",
              "      <td>NaN</td>\n",
              "    </tr>\n",
              "    <tr>\n",
              "      <th>50%</th>\n",
              "      <td>NaN</td>\n",
              "      <td>14940.000000</td>\n",
              "      <td>NaN</td>\n",
              "      <td>NaN</td>\n",
              "    </tr>\n",
              "    <tr>\n",
              "      <th>75%</th>\n",
              "      <td>NaN</td>\n",
              "      <td>64552.500000</td>\n",
              "      <td>NaN</td>\n",
              "      <td>NaN</td>\n",
              "    </tr>\n",
              "    <tr>\n",
              "      <th>max</th>\n",
              "      <td>NaN</td>\n",
              "      <td>99730.000000</td>\n",
              "      <td>NaN</td>\n",
              "      <td>NaN</td>\n",
              "    </tr>\n",
              "  </tbody>\n",
              "</table>\n",
              "</div>"
            ],
            "text/plain": [
              "                               seller_id  seller_zip_code_prefix seller_city  \\\n",
              "count                               3095             3095.000000        3095   \n",
              "unique                              3095                     NaN         611   \n",
              "top     3442f8959a84dea7ee197c632cb2df15                     NaN   sao paulo   \n",
              "freq                                   1                     NaN         694   \n",
              "mean                                 NaN            32291.059451         NaN   \n",
              "std                                  NaN            32713.453830         NaN   \n",
              "min                                  NaN             1001.000000         NaN   \n",
              "25%                                  NaN             7093.500000         NaN   \n",
              "50%                                  NaN            14940.000000         NaN   \n",
              "75%                                  NaN            64552.500000         NaN   \n",
              "max                                  NaN            99730.000000         NaN   \n",
              "\n",
              "       seller_state  \n",
              "count          3095  \n",
              "unique           23  \n",
              "top              SP  \n",
              "freq           1849  \n",
              "mean            NaN  \n",
              "std             NaN  \n",
              "min             NaN  \n",
              "25%             NaN  \n",
              "50%             NaN  \n",
              "75%             NaN  \n",
              "max             NaN  "
            ]
          },
          "execution_count": 96,
          "metadata": {},
          "output_type": "execute_result"
        }
      ],
      "source": [
        "sellers_df.describe(include='all')"
      ]
    },
    {
      "cell_type": "markdown",
      "metadata": {},
      "source": [
        "dari informasi diatas, kita bisa mengelompokan seller berdasarkan kota dan state nya"
      ]
    },
    {
      "cell_type": "code",
      "execution_count": 97,
      "metadata": {},
      "outputs": [
        {
          "data": {
            "text/plain": [
              "seller_state  seller_city           \n",
              "SP            sao paulo                 694\n",
              "PR            curitiba                  124\n",
              "RJ            rio de janeiro             93\n",
              "MG            belo horizonte             66\n",
              "SP            ribeirao preto             52\n",
              "                                       ... \n",
              "RJ            tres rios                   1\n",
              "              saquarema                   1\n",
              "              sao pedro da aldeia         1\n",
              "              santo antonio de padua      1\n",
              "SC            camboriu                    1\n",
              "Name: seller_id, Length: 636, dtype: int64"
            ]
          },
          "execution_count": 97,
          "metadata": {},
          "output_type": "execute_result"
        }
      ],
      "source": [
        "sellers_df.groupby(by=['seller_state','seller_city']).seller_id.nunique().sort_values(ascending=False)"
      ]
    },
    {
      "cell_type": "markdown",
      "metadata": {},
      "source": [
        "berdasarkan informasi diatas, didapatkan bahwa seller paling banyak bersasal dari state sp kota sao paulo"
      ]
    },
    {
      "cell_type": "markdown",
      "metadata": {},
      "source": [
        "### explore data all_df"
      ]
    },
    {
      "cell_type": "markdown",
      "metadata": {},
      "source": [
        "untuk menemukan informasi lebih lanjut, kita akan menggabungkan semua data. lalu memberi nama 'all_df'"
      ]
    },
    {
      "cell_type": "code",
      "execution_count": 98,
      "metadata": {},
      "outputs": [
        {
          "data": {
            "text/html": [
              "<div>\n",
              "<style scoped>\n",
              "    .dataframe tbody tr th:only-of-type {\n",
              "        vertical-align: middle;\n",
              "    }\n",
              "\n",
              "    .dataframe tbody tr th {\n",
              "        vertical-align: top;\n",
              "    }\n",
              "\n",
              "    .dataframe thead th {\n",
              "        text-align: right;\n",
              "    }\n",
              "</style>\n",
              "<table border=\"1\" class=\"dataframe\">\n",
              "  <thead>\n",
              "    <tr style=\"text-align: right;\">\n",
              "      <th></th>\n",
              "      <th>customer_id</th>\n",
              "      <th>customer_zip_code_prefix</th>\n",
              "      <th>customer_city</th>\n",
              "      <th>customer_state</th>\n",
              "      <th>geolocation_lat</th>\n",
              "      <th>geolocation_lng</th>\n",
              "      <th>order_id</th>\n",
              "      <th>order_status</th>\n",
              "      <th>order_delivered_carrier_date</th>\n",
              "      <th>order_delivered_customer_date</th>\n",
              "      <th>...</th>\n",
              "      <th>review_comment_message</th>\n",
              "      <th>product_category_name_english</th>\n",
              "      <th>product_weight_g</th>\n",
              "      <th>product_length_cm</th>\n",
              "      <th>product_height_cm</th>\n",
              "      <th>product_width_cm</th>\n",
              "      <th>product_volume_cm3</th>\n",
              "      <th>seller_zip_code_prefix</th>\n",
              "      <th>seller_city</th>\n",
              "      <th>seller_state</th>\n",
              "    </tr>\n",
              "  </thead>\n",
              "  <tbody>\n",
              "    <tr>\n",
              "      <th>2701233</th>\n",
              "      <td>84f563605ea3fca13e318007b5ecc61b</td>\n",
              "      <td>41610</td>\n",
              "      <td>salvador</td>\n",
              "      <td>BA</td>\n",
              "      <td>-12.944761</td>\n",
              "      <td>-38.370016</td>\n",
              "      <td>2105771f19af1ff52afe2a18c984c412</td>\n",
              "      <td>delivered</td>\n",
              "      <td>2017-03-10 12:29:50</td>\n",
              "      <td>2017-03-30 17:12:37</td>\n",
              "      <td>...</td>\n",
              "      <td>No dia 30/03/2017. foi entregue apenas (1) um ...</td>\n",
              "      <td>health_beauty</td>\n",
              "      <td>225.0</td>\n",
              "      <td>17.0</td>\n",
              "      <td>8.0</td>\n",
              "      <td>13.0</td>\n",
              "      <td>1768.0</td>\n",
              "      <td>14403.0</td>\n",
              "      <td>franca</td>\n",
              "      <td>SP</td>\n",
              "    </tr>\n",
              "    <tr>\n",
              "      <th>12168553</th>\n",
              "      <td>1b14541f2e9a154f71cca55619ffc6d5</td>\n",
              "      <td>15910</td>\n",
              "      <td>monte alto</td>\n",
              "      <td>SP</td>\n",
              "      <td>-21.264603</td>\n",
              "      <td>-48.490480</td>\n",
              "      <td>782fab126cb645c5b3a1d88c15760b03</td>\n",
              "      <td>delivered</td>\n",
              "      <td>2017-11-07 17:03:28</td>\n",
              "      <td>2017-11-16 20:26:54</td>\n",
              "      <td>...</td>\n",
              "      <td>Produto bonito e eficiente, loja cumpre o que ...</td>\n",
              "      <td>cool_stuff</td>\n",
              "      <td>1750.0</td>\n",
              "      <td>20.0</td>\n",
              "      <td>8.0</td>\n",
              "      <td>14.0</td>\n",
              "      <td>2240.0</td>\n",
              "      <td>4273.0</td>\n",
              "      <td>sao paulo</td>\n",
              "      <td>SP</td>\n",
              "    </tr>\n",
              "    <tr>\n",
              "      <th>9775991</th>\n",
              "      <td>1412be486661c275b82db0ddd740fea9</td>\n",
              "      <td>29090</td>\n",
              "      <td>vitoria</td>\n",
              "      <td>ES</td>\n",
              "      <td>-20.260232</td>\n",
              "      <td>-40.270372</td>\n",
              "      <td>ddc904ea8bd4313e136beae61948c20d</td>\n",
              "      <td>delivered</td>\n",
              "      <td>2018-07-04 14:39:00</td>\n",
              "      <td>2018-07-12 00:08:40</td>\n",
              "      <td>...</td>\n",
              "      <td>Agilidade no envio.</td>\n",
              "      <td>books_technical</td>\n",
              "      <td>1800.0</td>\n",
              "      <td>29.0</td>\n",
              "      <td>5.0</td>\n",
              "      <td>21.0</td>\n",
              "      <td>3045.0</td>\n",
              "      <td>2274.0</td>\n",
              "      <td>sao paulo</td>\n",
              "      <td>SP</td>\n",
              "    </tr>\n",
              "    <tr>\n",
              "      <th>3126653</th>\n",
              "      <td>d138e93cfcb87bd2277361ff476b7076</td>\n",
              "      <td>93700</td>\n",
              "      <td>campo bom</td>\n",
              "      <td>RS</td>\n",
              "      <td>-29.684759</td>\n",
              "      <td>-51.044003</td>\n",
              "      <td>fe9d220ef122811f6078f92ee189d144</td>\n",
              "      <td>delivered</td>\n",
              "      <td>2018-07-03 14:03:00</td>\n",
              "      <td>2018-07-05 19:34:38</td>\n",
              "      <td>...</td>\n",
              "      <td>Muito bom</td>\n",
              "      <td>housewares</td>\n",
              "      <td>250.0</td>\n",
              "      <td>35.0</td>\n",
              "      <td>4.0</td>\n",
              "      <td>15.0</td>\n",
              "      <td>2100.0</td>\n",
              "      <td>95076.0</td>\n",
              "      <td>caxias do sul</td>\n",
              "      <td>RS</td>\n",
              "    </tr>\n",
              "    <tr>\n",
              "      <th>5023984</th>\n",
              "      <td>25d3e06c60d2d27035aaf892f9a48764</td>\n",
              "      <td>9540</td>\n",
              "      <td>sao caetano do sul</td>\n",
              "      <td>SP</td>\n",
              "      <td>-23.626328</td>\n",
              "      <td>-46.575989</td>\n",
              "      <td>842fbaff9da558be5528caf78d1e0969</td>\n",
              "      <td>delivered</td>\n",
              "      <td>2017-09-01 18:51:26</td>\n",
              "      <td>2017-09-05 20:32:48</td>\n",
              "      <td>...</td>\n",
              "      <td>Muito bom</td>\n",
              "      <td>auto</td>\n",
              "      <td>100.0</td>\n",
              "      <td>24.0</td>\n",
              "      <td>2.0</td>\n",
              "      <td>17.0</td>\n",
              "      <td>816.0</td>\n",
              "      <td>14709.0</td>\n",
              "      <td>bebedouro</td>\n",
              "      <td>SP</td>\n",
              "    </tr>\n",
              "  </tbody>\n",
              "</table>\n",
              "<p>5 rows × 33 columns</p>\n",
              "</div>"
            ],
            "text/plain": [
              "                               customer_id  customer_zip_code_prefix  \\\n",
              "2701233   84f563605ea3fca13e318007b5ecc61b                     41610   \n",
              "12168553  1b14541f2e9a154f71cca55619ffc6d5                     15910   \n",
              "9775991   1412be486661c275b82db0ddd740fea9                     29090   \n",
              "3126653   d138e93cfcb87bd2277361ff476b7076                     93700   \n",
              "5023984   25d3e06c60d2d27035aaf892f9a48764                      9540   \n",
              "\n",
              "               customer_city customer_state  geolocation_lat  geolocation_lng  \\\n",
              "2701233             salvador             BA       -12.944761       -38.370016   \n",
              "12168553          monte alto             SP       -21.264603       -48.490480   \n",
              "9775991              vitoria             ES       -20.260232       -40.270372   \n",
              "3126653            campo bom             RS       -29.684759       -51.044003   \n",
              "5023984   sao caetano do sul             SP       -23.626328       -46.575989   \n",
              "\n",
              "                                  order_id order_status  \\\n",
              "2701233   2105771f19af1ff52afe2a18c984c412    delivered   \n",
              "12168553  782fab126cb645c5b3a1d88c15760b03    delivered   \n",
              "9775991   ddc904ea8bd4313e136beae61948c20d    delivered   \n",
              "3126653   fe9d220ef122811f6078f92ee189d144    delivered   \n",
              "5023984   842fbaff9da558be5528caf78d1e0969    delivered   \n",
              "\n",
              "         order_delivered_carrier_date order_delivered_customer_date  ...  \\\n",
              "2701233           2017-03-10 12:29:50           2017-03-30 17:12:37  ...   \n",
              "12168553          2017-11-07 17:03:28           2017-11-16 20:26:54  ...   \n",
              "9775991           2018-07-04 14:39:00           2018-07-12 00:08:40  ...   \n",
              "3126653           2018-07-03 14:03:00           2018-07-05 19:34:38  ...   \n",
              "5023984           2017-09-01 18:51:26           2017-09-05 20:32:48  ...   \n",
              "\n",
              "                                     review_comment_message  \\\n",
              "2701233   No dia 30/03/2017. foi entregue apenas (1) um ...   \n",
              "12168553  Produto bonito e eficiente, loja cumpre o que ...   \n",
              "9775991                                 Agilidade no envio.   \n",
              "3126653                                           Muito bom   \n",
              "5023984                                           Muito bom   \n",
              "\n",
              "         product_category_name_english product_weight_g product_length_cm  \\\n",
              "2701233                  health_beauty            225.0              17.0   \n",
              "12168553                    cool_stuff           1750.0              20.0   \n",
              "9775991                books_technical           1800.0              29.0   \n",
              "3126653                     housewares            250.0              35.0   \n",
              "5023984                           auto            100.0              24.0   \n",
              "\n",
              "          product_height_cm  product_width_cm product_volume_cm3  \\\n",
              "2701233                 8.0              13.0             1768.0   \n",
              "12168553                8.0              14.0             2240.0   \n",
              "9775991                 5.0              21.0             3045.0   \n",
              "3126653                 4.0              15.0             2100.0   \n",
              "5023984                 2.0              17.0              816.0   \n",
              "\n",
              "         seller_zip_code_prefix    seller_city  seller_state  \n",
              "2701233                 14403.0         franca            SP  \n",
              "12168553                 4273.0      sao paulo            SP  \n",
              "9775991                  2274.0      sao paulo            SP  \n",
              "3126653                 95076.0  caxias do sul            RS  \n",
              "5023984                 14709.0      bebedouro            SP  \n",
              "\n",
              "[5 rows x 33 columns]"
            ]
          },
          "execution_count": 98,
          "metadata": {},
          "output_type": "execute_result"
        }
      ],
      "source": [
        "all_df = pd.merge(\n",
        "    left=customer_order_product_geolocation_item_payment_review_df,\n",
        "    right=sellers_df,\n",
        "    how='left',\n",
        "    left_on='seller_id',\n",
        "    right_on='seller_id'\n",
        ")\n",
        "all_df.sample(5)"
      ]
    },
    {
      "cell_type": "code",
      "execution_count": 99,
      "metadata": {},
      "outputs": [
        {
          "data": {
            "text/html": [
              "<div>\n",
              "<style scoped>\n",
              "    .dataframe tbody tr th:only-of-type {\n",
              "        vertical-align: middle;\n",
              "    }\n",
              "\n",
              "    .dataframe tbody tr th {\n",
              "        vertical-align: top;\n",
              "    }\n",
              "\n",
              "    .dataframe thead th {\n",
              "        text-align: right;\n",
              "    }\n",
              "</style>\n",
              "<table border=\"1\" class=\"dataframe\">\n",
              "  <thead>\n",
              "    <tr style=\"text-align: right;\">\n",
              "      <th></th>\n",
              "      <th>customer_id</th>\n",
              "      <th>customer_zip_code_prefix</th>\n",
              "      <th>customer_city</th>\n",
              "      <th>customer_state</th>\n",
              "      <th>geolocation_lat</th>\n",
              "      <th>geolocation_lng</th>\n",
              "      <th>order_id</th>\n",
              "      <th>order_status</th>\n",
              "      <th>order_delivered_carrier_date</th>\n",
              "      <th>order_delivered_customer_date</th>\n",
              "      <th>...</th>\n",
              "      <th>review_comment_message</th>\n",
              "      <th>product_category_name_english</th>\n",
              "      <th>product_weight_g</th>\n",
              "      <th>product_length_cm</th>\n",
              "      <th>product_height_cm</th>\n",
              "      <th>product_width_cm</th>\n",
              "      <th>product_volume_cm3</th>\n",
              "      <th>seller_zip_code_prefix</th>\n",
              "      <th>seller_city</th>\n",
              "      <th>seller_state</th>\n",
              "    </tr>\n",
              "  </thead>\n",
              "  <tbody>\n",
              "    <tr>\n",
              "      <th>count</th>\n",
              "      <td>12447813</td>\n",
              "      <td>1.244781e+07</td>\n",
              "      <td>12447813</td>\n",
              "      <td>12447813</td>\n",
              "      <td>1.244749e+07</td>\n",
              "      <td>1.244749e+07</td>\n",
              "      <td>12447813</td>\n",
              "      <td>12447813</td>\n",
              "      <td>12447813</td>\n",
              "      <td>12447813</td>\n",
              "      <td>...</td>\n",
              "      <td>12350538</td>\n",
              "      <td>12356906</td>\n",
              "      <td>1.235945e+07</td>\n",
              "      <td>1.235945e+07</td>\n",
              "      <td>1.235945e+07</td>\n",
              "      <td>1.235945e+07</td>\n",
              "      <td>1.235945e+07</td>\n",
              "      <td>1.236176e+07</td>\n",
              "      <td>12361759</td>\n",
              "      <td>12361759</td>\n",
              "    </tr>\n",
              "    <tr>\n",
              "      <th>unique</th>\n",
              "      <td>99441</td>\n",
              "      <td>NaN</td>\n",
              "      <td>4119</td>\n",
              "      <td>27</td>\n",
              "      <td>NaN</td>\n",
              "      <td>NaN</td>\n",
              "      <td>99441</td>\n",
              "      <td>8</td>\n",
              "      <td>NaN</td>\n",
              "      <td>NaN</td>\n",
              "      <td>...</td>\n",
              "      <td>36159</td>\n",
              "      <td>71</td>\n",
              "      <td>NaN</td>\n",
              "      <td>NaN</td>\n",
              "      <td>NaN</td>\n",
              "      <td>NaN</td>\n",
              "      <td>NaN</td>\n",
              "      <td>NaN</td>\n",
              "      <td>611</td>\n",
              "      <td>23</td>\n",
              "    </tr>\n",
              "    <tr>\n",
              "      <th>top</th>\n",
              "      <td>351e40989da90e70487765f6ea15d54b</td>\n",
              "      <td>NaN</td>\n",
              "      <td>rio de janeiro</td>\n",
              "      <td>SP</td>\n",
              "      <td>NaN</td>\n",
              "      <td>NaN</td>\n",
              "      <td>cf101c3abd3c061ca9f78c1bbb1125af</td>\n",
              "      <td>delivered</td>\n",
              "      <td>NaN</td>\n",
              "      <td>NaN</td>\n",
              "      <td>...</td>\n",
              "      <td>Muito bom</td>\n",
              "      <td>bed_bath_table</td>\n",
              "      <td>NaN</td>\n",
              "      <td>NaN</td>\n",
              "      <td>NaN</td>\n",
              "      <td>NaN</td>\n",
              "      <td>NaN</td>\n",
              "      <td>NaN</td>\n",
              "      <td>sao paulo</td>\n",
              "      <td>SP</td>\n",
              "    </tr>\n",
              "    <tr>\n",
              "      <th>freq</th>\n",
              "      <td>9451</td>\n",
              "      <td>NaN</td>\n",
              "      <td>1132394</td>\n",
              "      <td>4688349</td>\n",
              "      <td>NaN</td>\n",
              "      <td>NaN</td>\n",
              "      <td>9451</td>\n",
              "      <td>12102469</td>\n",
              "      <td>NaN</td>\n",
              "      <td>NaN</td>\n",
              "      <td>...</td>\n",
              "      <td>7198208</td>\n",
              "      <td>1471129</td>\n",
              "      <td>NaN</td>\n",
              "      <td>NaN</td>\n",
              "      <td>NaN</td>\n",
              "      <td>NaN</td>\n",
              "      <td>NaN</td>\n",
              "      <td>NaN</td>\n",
              "      <td>2977506</td>\n",
              "      <td>8698449</td>\n",
              "    </tr>\n",
              "    <tr>\n",
              "      <th>mean</th>\n",
              "      <td>NaN</td>\n",
              "      <td>3.427730e+04</td>\n",
              "      <td>NaN</td>\n",
              "      <td>NaN</td>\n",
              "      <td>-2.182953e+01</td>\n",
              "      <td>-4.614191e+01</td>\n",
              "      <td>NaN</td>\n",
              "      <td>NaN</td>\n",
              "      <td>2018-01-01 01:20:31.939627520</td>\n",
              "      <td>2018-01-10 09:17:46.902744064</td>\n",
              "      <td>...</td>\n",
              "      <td>NaN</td>\n",
              "      <td>NaN</td>\n",
              "      <td>2.154044e+03</td>\n",
              "      <td>3.047678e+01</td>\n",
              "      <td>1.670277e+01</td>\n",
              "      <td>2.321088e+01</td>\n",
              "      <td>1.549431e+04</td>\n",
              "      <td>2.502290e+04</td>\n",
              "      <td>NaN</td>\n",
              "      <td>NaN</td>\n",
              "    </tr>\n",
              "    <tr>\n",
              "      <th>min</th>\n",
              "      <td>NaN</td>\n",
              "      <td>1.003000e+03</td>\n",
              "      <td>NaN</td>\n",
              "      <td>NaN</td>\n",
              "      <td>-3.660537e+01</td>\n",
              "      <td>-1.014668e+02</td>\n",
              "      <td>NaN</td>\n",
              "      <td>NaN</td>\n",
              "      <td>2016-10-08 10:34:01</td>\n",
              "      <td>2016-10-11 13:46:32</td>\n",
              "      <td>...</td>\n",
              "      <td>NaN</td>\n",
              "      <td>NaN</td>\n",
              "      <td>0.000000e+00</td>\n",
              "      <td>7.000000e+00</td>\n",
              "      <td>2.000000e+00</td>\n",
              "      <td>6.000000e+00</td>\n",
              "      <td>1.680000e+02</td>\n",
              "      <td>1.001000e+03</td>\n",
              "      <td>NaN</td>\n",
              "      <td>NaN</td>\n",
              "    </tr>\n",
              "    <tr>\n",
              "      <th>25%</th>\n",
              "      <td>NaN</td>\n",
              "      <td>1.328000e+04</td>\n",
              "      <td>NaN</td>\n",
              "      <td>NaN</td>\n",
              "      <td>-2.357503e+01</td>\n",
              "      <td>-4.797456e+01</td>\n",
              "      <td>NaN</td>\n",
              "      <td>NaN</td>\n",
              "      <td>2017-09-15 17:57:48</td>\n",
              "      <td>2017-09-26 14:07:47</td>\n",
              "      <td>...</td>\n",
              "      <td>NaN</td>\n",
              "      <td>NaN</td>\n",
              "      <td>3.000000e+02</td>\n",
              "      <td>1.800000e+01</td>\n",
              "      <td>8.000000e+00</td>\n",
              "      <td>1.500000e+01</td>\n",
              "      <td>2.912000e+03</td>\n",
              "      <td>6.871000e+03</td>\n",
              "      <td>NaN</td>\n",
              "      <td>NaN</td>\n",
              "    </tr>\n",
              "    <tr>\n",
              "      <th>50%</th>\n",
              "      <td>NaN</td>\n",
              "      <td>2.601300e+04</td>\n",
              "      <td>NaN</td>\n",
              "      <td>NaN</td>\n",
              "      <td>-2.288416e+01</td>\n",
              "      <td>-4.652544e+01</td>\n",
              "      <td>NaN</td>\n",
              "      <td>NaN</td>\n",
              "      <td>2018-01-16 21:03:13</td>\n",
              "      <td>2018-01-24 00:28:11</td>\n",
              "      <td>...</td>\n",
              "      <td>NaN</td>\n",
              "      <td>NaN</td>\n",
              "      <td>7.000000e+02</td>\n",
              "      <td>2.500000e+01</td>\n",
              "      <td>1.300000e+01</td>\n",
              "      <td>2.000000e+01</td>\n",
              "      <td>6.845000e+03</td>\n",
              "      <td>1.392000e+04</td>\n",
              "      <td>NaN</td>\n",
              "      <td>NaN</td>\n",
              "    </tr>\n",
              "    <tr>\n",
              "      <th>75%</th>\n",
              "      <td>NaN</td>\n",
              "      <td>3.870600e+04</td>\n",
              "      <td>NaN</td>\n",
              "      <td>NaN</td>\n",
              "      <td>-2.027306e+01</td>\n",
              "      <td>-4.346620e+01</td>\n",
              "      <td>NaN</td>\n",
              "      <td>NaN</td>\n",
              "      <td>2018-05-02 15:05:00</td>\n",
              "      <td>2018-05-09 17:11:14</td>\n",
              "      <td>...</td>\n",
              "      <td>NaN</td>\n",
              "      <td>NaN</td>\n",
              "      <td>1.836000e+03</td>\n",
              "      <td>3.800000e+01</td>\n",
              "      <td>2.000000e+01</td>\n",
              "      <td>3.000000e+01</td>\n",
              "      <td>1.890000e+04</td>\n",
              "      <td>3.019000e+04</td>\n",
              "      <td>NaN</td>\n",
              "      <td>NaN</td>\n",
              "    </tr>\n",
              "    <tr>\n",
              "      <th>max</th>\n",
              "      <td>NaN</td>\n",
              "      <td>9.999000e+04</td>\n",
              "      <td>NaN</td>\n",
              "      <td>NaN</td>\n",
              "      <td>4.506593e+01</td>\n",
              "      <td>1.382021e+01</td>\n",
              "      <td>NaN</td>\n",
              "      <td>NaN</td>\n",
              "      <td>2018-09-11 19:48:28</td>\n",
              "      <td>2018-10-17 13:22:46</td>\n",
              "      <td>...</td>\n",
              "      <td>NaN</td>\n",
              "      <td>NaN</td>\n",
              "      <td>4.042500e+04</td>\n",
              "      <td>1.050000e+02</td>\n",
              "      <td>1.050000e+02</td>\n",
              "      <td>1.180000e+02</td>\n",
              "      <td>2.962080e+05</td>\n",
              "      <td>9.973000e+04</td>\n",
              "      <td>NaN</td>\n",
              "      <td>NaN</td>\n",
              "    </tr>\n",
              "    <tr>\n",
              "      <th>std</th>\n",
              "      <td>NaN</td>\n",
              "      <td>2.745006e+04</td>\n",
              "      <td>NaN</td>\n",
              "      <td>NaN</td>\n",
              "      <td>4.436916e+00</td>\n",
              "      <td>3.640703e+00</td>\n",
              "      <td>NaN</td>\n",
              "      <td>NaN</td>\n",
              "      <td>NaN</td>\n",
              "      <td>NaN</td>\n",
              "      <td>...</td>\n",
              "      <td>NaN</td>\n",
              "      <td>NaN</td>\n",
              "      <td>3.833839e+03</td>\n",
              "      <td>1.636524e+01</td>\n",
              "      <td>1.340924e+01</td>\n",
              "      <td>1.181823e+01</td>\n",
              "      <td>2.349724e+04</td>\n",
              "      <td>2.793561e+04</td>\n",
              "      <td>NaN</td>\n",
              "      <td>NaN</td>\n",
              "    </tr>\n",
              "  </tbody>\n",
              "</table>\n",
              "<p>11 rows × 33 columns</p>\n",
              "</div>"
            ],
            "text/plain": [
              "                             customer_id  customer_zip_code_prefix  \\\n",
              "count                           12447813              1.244781e+07   \n",
              "unique                             99441                       NaN   \n",
              "top     351e40989da90e70487765f6ea15d54b                       NaN   \n",
              "freq                                9451                       NaN   \n",
              "mean                                 NaN              3.427730e+04   \n",
              "min                                  NaN              1.003000e+03   \n",
              "25%                                  NaN              1.328000e+04   \n",
              "50%                                  NaN              2.601300e+04   \n",
              "75%                                  NaN              3.870600e+04   \n",
              "max                                  NaN              9.999000e+04   \n",
              "std                                  NaN              2.745006e+04   \n",
              "\n",
              "         customer_city customer_state  geolocation_lat  geolocation_lng  \\\n",
              "count         12447813       12447813     1.244749e+07     1.244749e+07   \n",
              "unique            4119             27              NaN              NaN   \n",
              "top     rio de janeiro             SP              NaN              NaN   \n",
              "freq           1132394        4688349              NaN              NaN   \n",
              "mean               NaN            NaN    -2.182953e+01    -4.614191e+01   \n",
              "min                NaN            NaN    -3.660537e+01    -1.014668e+02   \n",
              "25%                NaN            NaN    -2.357503e+01    -4.797456e+01   \n",
              "50%                NaN            NaN    -2.288416e+01    -4.652544e+01   \n",
              "75%                NaN            NaN    -2.027306e+01    -4.346620e+01   \n",
              "max                NaN            NaN     4.506593e+01     1.382021e+01   \n",
              "std                NaN            NaN     4.436916e+00     3.640703e+00   \n",
              "\n",
              "                                order_id order_status  \\\n",
              "count                           12447813     12447813   \n",
              "unique                             99441            8   \n",
              "top     cf101c3abd3c061ca9f78c1bbb1125af    delivered   \n",
              "freq                                9451     12102469   \n",
              "mean                                 NaN          NaN   \n",
              "min                                  NaN          NaN   \n",
              "25%                                  NaN          NaN   \n",
              "50%                                  NaN          NaN   \n",
              "75%                                  NaN          NaN   \n",
              "max                                  NaN          NaN   \n",
              "std                                  NaN          NaN   \n",
              "\n",
              "         order_delivered_carrier_date  order_delivered_customer_date  ...  \\\n",
              "count                        12447813                       12447813  ...   \n",
              "unique                            NaN                            NaN  ...   \n",
              "top                               NaN                            NaN  ...   \n",
              "freq                              NaN                            NaN  ...   \n",
              "mean    2018-01-01 01:20:31.939627520  2018-01-10 09:17:46.902744064  ...   \n",
              "min               2016-10-08 10:34:01            2016-10-11 13:46:32  ...   \n",
              "25%               2017-09-15 17:57:48            2017-09-26 14:07:47  ...   \n",
              "50%               2018-01-16 21:03:13            2018-01-24 00:28:11  ...   \n",
              "75%               2018-05-02 15:05:00            2018-05-09 17:11:14  ...   \n",
              "max               2018-09-11 19:48:28            2018-10-17 13:22:46  ...   \n",
              "std                               NaN                            NaN  ...   \n",
              "\n",
              "        review_comment_message product_category_name_english product_weight_g  \\\n",
              "count                 12350538                      12356906     1.235945e+07   \n",
              "unique                   36159                            71              NaN   \n",
              "top                  Muito bom                bed_bath_table              NaN   \n",
              "freq                   7198208                       1471129              NaN   \n",
              "mean                       NaN                           NaN     2.154044e+03   \n",
              "min                        NaN                           NaN     0.000000e+00   \n",
              "25%                        NaN                           NaN     3.000000e+02   \n",
              "50%                        NaN                           NaN     7.000000e+02   \n",
              "75%                        NaN                           NaN     1.836000e+03   \n",
              "max                        NaN                           NaN     4.042500e+04   \n",
              "std                        NaN                           NaN     3.833839e+03   \n",
              "\n",
              "       product_length_cm  product_height_cm  product_width_cm  \\\n",
              "count       1.235945e+07       1.235945e+07      1.235945e+07   \n",
              "unique               NaN                NaN               NaN   \n",
              "top                  NaN                NaN               NaN   \n",
              "freq                 NaN                NaN               NaN   \n",
              "mean        3.047678e+01       1.670277e+01      2.321088e+01   \n",
              "min         7.000000e+00       2.000000e+00      6.000000e+00   \n",
              "25%         1.800000e+01       8.000000e+00      1.500000e+01   \n",
              "50%         2.500000e+01       1.300000e+01      2.000000e+01   \n",
              "75%         3.800000e+01       2.000000e+01      3.000000e+01   \n",
              "max         1.050000e+02       1.050000e+02      1.180000e+02   \n",
              "std         1.636524e+01       1.340924e+01      1.181823e+01   \n",
              "\n",
              "       product_volume_cm3 seller_zip_code_prefix  seller_city  seller_state  \n",
              "count        1.235945e+07           1.236176e+07     12361759      12361759  \n",
              "unique                NaN                    NaN          611            23  \n",
              "top                   NaN                    NaN    sao paulo            SP  \n",
              "freq                  NaN                    NaN      2977506       8698449  \n",
              "mean         1.549431e+04           2.502290e+04          NaN           NaN  \n",
              "min          1.680000e+02           1.001000e+03          NaN           NaN  \n",
              "25%          2.912000e+03           6.871000e+03          NaN           NaN  \n",
              "50%          6.845000e+03           1.392000e+04          NaN           NaN  \n",
              "75%          1.890000e+04           3.019000e+04          NaN           NaN  \n",
              "max          2.962080e+05           9.973000e+04          NaN           NaN  \n",
              "std          2.349724e+04           2.793561e+04          NaN           NaN  \n",
              "\n",
              "[11 rows x 33 columns]"
            ]
          },
          "execution_count": 99,
          "metadata": {},
          "output_type": "execute_result"
        }
      ],
      "source": [
        "all_df.describe(include='all')"
      ]
    },
    {
      "cell_type": "code",
      "execution_count": 100,
      "metadata": {},
      "outputs": [
        {
          "data": {
            "text/plain": [
              "(12447813, 33)"
            ]
          },
          "execution_count": 100,
          "metadata": {},
          "output_type": "execute_result"
        }
      ],
      "source": [
        "all_df.shape"
      ]
    },
    {
      "cell_type": "code",
      "execution_count": 101,
      "metadata": {},
      "outputs": [
        {
          "data": {
            "text/plain": [
              "Index(['customer_id', 'customer_zip_code_prefix', 'customer_city',\n",
              "       'customer_state', 'geolocation_lat', 'geolocation_lng', 'order_id',\n",
              "       'order_status', 'order_delivered_carrier_date',\n",
              "       'order_delivered_customer_date', 'delivery_time', 'product_id',\n",
              "       'seller_id', 'shipping_limit_date', 'price', 'freight_value',\n",
              "       'delivery_status', 'payment_type', 'payment_installments',\n",
              "       'payment_value', 'review_id', 'review_score', 'review_comment_title',\n",
              "       'review_comment_message', 'product_category_name_english',\n",
              "       'product_weight_g', 'product_length_cm', 'product_height_cm',\n",
              "       'product_width_cm', 'product_volume_cm3', 'seller_zip_code_prefix',\n",
              "       'seller_city', 'seller_state'],\n",
              "      dtype='object')"
            ]
          },
          "execution_count": 101,
          "metadata": {},
          "output_type": "execute_result"
        }
      ],
      "source": [
        "all_df.columns"
      ]
    },
    {
      "cell_type": "markdown",
      "metadata": {},
      "source": [
        "berdasarkan data gabungan diatas kita bisa mengelompokan data berdasarkan:\n",
        "- review seller berdasaykan wilayah\n",
        "- pembelian berdarkan kategori produk\n",
        "- pembelian berdasarkan wilayah"
      ]
    },
    {
      "cell_type": "markdown",
      "metadata": {},
      "source": [
        "#### review seller berdasaykan wilayah"
      ]
    },
    {
      "cell_type": "code",
      "execution_count": 102,
      "metadata": {},
      "outputs": [
        {
          "data": {
            "text/plain": [
              "review_score  review_comment_title  seller_state  seller_city   \n",
              "5.0           Recomendo             SP            sao paulo         584\n",
              "4.0           Recomendo             SP            sao paulo         437\n",
              "1.0           Recomendo             SP            sao paulo         368\n",
              "3.0           Recomendo             SP            sao paulo         284\n",
              "2.0           Recomendo             SP            sao paulo         191\n",
              "                                                                   ... \n",
              "3.0           muito bom             MG            ilicinea            1\n",
              "                                    RJ            paraiba do sul      1\n",
              "                                    SP            penapolis           1\n",
              "              muito pequeno         SP            sao paulo           1\n",
              "5.0           🔟                     SP            sao paulo           1\n",
              "Name: seller_id, Length: 10954, dtype: int64"
            ]
          },
          "execution_count": 102,
          "metadata": {},
          "output_type": "execute_result"
        }
      ],
      "source": [
        "all_df.groupby(by=['review_score','review_comment_title','seller_state','seller_city']).seller_id.nunique().sort_values(ascending=False)"
      ]
    },
    {
      "cell_type": "markdown",
      "metadata": {},
      "source": [
        "berdasarkan informasi diatas, didapatkan bahwa review score terbaik (5.0) paling banyak berasal dari state SP kota sao paulo sebanyak 584 seller"
      ]
    },
    {
      "cell_type": "markdown",
      "metadata": {},
      "source": [
        "#### pembelian berdarkan kategori produk"
      ]
    },
    {
      "cell_type": "code",
      "execution_count": 103,
      "metadata": {},
      "outputs": [
        {
          "data": {
            "text/plain": [
              "product_category_name_english\n",
              "bed_bath_table               2.254304e+08\n",
              "health_beauty                1.666189e+08\n",
              "furniture_decor              1.624682e+08\n",
              "computers_accessories        1.611380e+08\n",
              "sports_leisure               1.502129e+08\n",
              "                                 ...     \n",
              "la_cuisine                   2.477924e+05\n",
              "home_comfort_2               1.671449e+05\n",
              "cds_dvds_musicals            8.809787e+04\n",
              "fashion_childrens_clothes    6.710512e+04\n",
              "security_and_services        1.679032e+04\n",
              "Name: payment_value, Length: 71, dtype: float64"
            ]
          },
          "execution_count": 103,
          "metadata": {},
          "output_type": "execute_result"
        }
      ],
      "source": [
        "all_df.groupby(by='product_category_name_english').payment_value.sum().sort_values(ascending=False)"
      ]
    },
    {
      "cell_type": "markdown",
      "metadata": {},
      "source": [
        "berdasarkan informasi diata, pembelian terbanyak pada kategori produk bed_bath_table sebesar 225430400."
      ]
    },
    {
      "cell_type": "markdown",
      "metadata": {},
      "source": [
        "#### pembelian berdasarkan wilayah"
      ]
    },
    {
      "cell_type": "code",
      "execution_count": 104,
      "metadata": {},
      "outputs": [
        {
          "data": {
            "text/plain": [
              "customer_state  customer_city               \n",
              "RJ              rio de janeiro                  2.080364e+08\n",
              "SP              sao paulo                       1.392895e+08\n",
              "MG              belo horizonte                  8.733573e+07\n",
              "RJ              niteroi                         4.254276e+07\n",
              "MG              divinopolis                     3.805009e+07\n",
              "                                                    ...     \n",
              "                estevao de araujo               3.243000e+01\n",
              "                tuparece                        3.173000e+01\n",
              "RJ              boa ventura                     3.169000e+01\n",
              "MG              palmital de minas               2.942000e+01\n",
              "RS              polo petroquimico de triunfo    2.070000e+01\n",
              "Name: payment_value, Length: 4310, dtype: float64"
            ]
          },
          "execution_count": 104,
          "metadata": {},
          "output_type": "execute_result"
        }
      ],
      "source": [
        "all_df.groupby(by=['customer_state','customer_city']).payment_value.sum().sort_values(ascending=False)"
      ]
    },
    {
      "cell_type": "markdown",
      "metadata": {},
      "source": [
        "berdasarkan informasi diatas, didapatkan bahwa pembelian terbesar berasal dari state RJ kota rio de janeiro sebesar 208036400"
      ]
    },
    {
      "cell_type": "markdown",
      "metadata": {
        "id": "SCNmtOLp9OKB"
      },
      "source": [
        "## Visualization & Explanatory Analysis"
      ]
    },
    {
      "cell_type": "markdown",
      "metadata": {
        "id": "SG59_Fbj9Qr6"
      },
      "source": [
        "### Pertanyaan 1: Kategori Produk Apa yang Paling Banyak dan Paling Sedikit Terjual?"
      ]
    },
    {
      "cell_type": "markdown",
      "metadata": {},
      "source": [
        "Untuk menjawab pertanyaan ini, kita harus membuat sebuah dataframe baru guna menampung informasi terkait jumlah penjualan tiap kategori produk."
      ]
    },
    {
      "cell_type": "code",
      "execution_count": 105,
      "metadata": {
        "id": "dtRoaxqd9PdU"
      },
      "outputs": [
        {
          "data": {
            "text/html": [
              "<div>\n",
              "<style scoped>\n",
              "    .dataframe tbody tr th:only-of-type {\n",
              "        vertical-align: middle;\n",
              "    }\n",
              "\n",
              "    .dataframe tbody tr th {\n",
              "        vertical-align: top;\n",
              "    }\n",
              "\n",
              "    .dataframe thead th {\n",
              "        text-align: right;\n",
              "    }\n",
              "</style>\n",
              "<table border=\"1\" class=\"dataframe\">\n",
              "  <thead>\n",
              "    <tr style=\"text-align: right;\">\n",
              "      <th></th>\n",
              "      <th>product_category</th>\n",
              "      <th>quantity</th>\n",
              "    </tr>\n",
              "  </thead>\n",
              "  <tbody>\n",
              "    <tr>\n",
              "      <th>0</th>\n",
              "      <td>bed_bath_table</td>\n",
              "      <td>1471129</td>\n",
              "    </tr>\n",
              "    <tr>\n",
              "      <th>1</th>\n",
              "      <td>health_beauty</td>\n",
              "      <td>996577</td>\n",
              "    </tr>\n",
              "    <tr>\n",
              "      <th>2</th>\n",
              "      <td>furniture_decor</td>\n",
              "      <td>961324</td>\n",
              "    </tr>\n",
              "    <tr>\n",
              "      <th>3</th>\n",
              "      <td>sports_leisure</td>\n",
              "      <td>946574</td>\n",
              "    </tr>\n",
              "    <tr>\n",
              "      <th>4</th>\n",
              "      <td>computers_accessories</td>\n",
              "      <td>862866</td>\n",
              "    </tr>\n",
              "    <tr>\n",
              "      <th>5</th>\n",
              "      <td>housewares</td>\n",
              "      <td>799779</td>\n",
              "    </tr>\n",
              "    <tr>\n",
              "      <th>6</th>\n",
              "      <td>watches_gifts</td>\n",
              "      <td>613628</td>\n",
              "    </tr>\n",
              "    <tr>\n",
              "      <th>7</th>\n",
              "      <td>garden_tools</td>\n",
              "      <td>492974</td>\n",
              "    </tr>\n",
              "    <tr>\n",
              "      <th>8</th>\n",
              "      <td>toys</td>\n",
              "      <td>450766</td>\n",
              "    </tr>\n",
              "    <tr>\n",
              "      <th>9</th>\n",
              "      <td>telephony</td>\n",
              "      <td>443016</td>\n",
              "    </tr>\n",
              "  </tbody>\n",
              "</table>\n",
              "</div>"
            ],
            "text/plain": [
              "        product_category  quantity\n",
              "0         bed_bath_table   1471129\n",
              "1          health_beauty    996577\n",
              "2        furniture_decor    961324\n",
              "3         sports_leisure    946574\n",
              "4  computers_accessories    862866\n",
              "5             housewares    799779\n",
              "6          watches_gifts    613628\n",
              "7           garden_tools    492974\n",
              "8                   toys    450766\n",
              "9              telephony    443016"
            ]
          },
          "execution_count": 105,
          "metadata": {},
          "output_type": "execute_result"
        }
      ],
      "source": [
        "sum_order_items_df=all_df.groupby(by='product_category_name_english').order_id.size().sort_values(ascending=False).reset_index()\n",
        "sum_order_items_df.rename(columns={\n",
        "    'product_category_name_english':'product_category',\n",
        "    'order_id':'quantity'\n",
        "},inplace=True)\n",
        "sum_order_items_df.head(10)"
      ]
    },
    {
      "cell_type": "markdown",
      "metadata": {},
      "source": [
        "selanjutnya kita akan memvisualisasikannya guna mempermudah orang lain dalam mengidentifikasi produk dengan penjualan terbanyak dan tersedikit. untuk mevisualisasikannya saya akan menggunakan bar chart untuk merepresentasikan kategori produk apa yang paling banyak dan paling sedikit terjual. karena kategori produknya banyak, saya akan menggunakan variasi horizontal bar chart untuk memuat semua kategori produk."
      ]
    },
    {
      "cell_type": "markdown",
      "metadata": {},
      "source": [
        "pertama - tama kita persiapkan terlebih dahulu 2 buah kanvas kosong yang akan digunakan untuk memvisualisasikan data"
      ]
    },
    {
      "cell_type": "code",
      "execution_count": 106,
      "metadata": {},
      "outputs": [
        {
          "data": {
            "image/png": "[encoded data removed]",
            "text/plain": [
              "<Figure size 2400x600 with 2 Axes>"
            ]
          },
          "metadata": {},
          "output_type": "display_data"
        }
      ],
      "source": [
        "fig, ax = plt.subplots(nrows=1,ncols=2,figsize=(24,6))"
      ]
    },
    {
      "cell_type": "markdown",
      "metadata": {},
      "source": [
        "Selanjutnya, kita harus mengisi kanvas kosong tersebut dengan horizontal bar chart."
      ]
    },
    {
      "cell_type": "code",
      "execution_count": 107,
      "metadata": {},
      "outputs": [
        {
          "name": "stderr",
          "output_type": "stream",
          "text": [
            "c:\\Users\\Nafi Kareem\\AppData\\Local\\Programs\\Python\\Python311\\Lib\\site-packages\\seaborn\\_oldcore.py:1498: FutureWarning: is_categorical_dtype is deprecated and will be removed in a future version. Use isinstance(dtype, CategoricalDtype) instead\n",
            "  if pd.api.types.is_categorical_dtype(vector):\n",
            "c:\\Users\\Nafi Kareem\\AppData\\Local\\Programs\\Python\\Python311\\Lib\\site-packages\\seaborn\\_oldcore.py:1498: FutureWarning: is_categorical_dtype is deprecated and will be removed in a future version. Use isinstance(dtype, CategoricalDtype) instead\n",
            "  if pd.api.types.is_categorical_dtype(vector):\n",
            "c:\\Users\\Nafi Kareem\\AppData\\Local\\Programs\\Python\\Python311\\Lib\\site-packages\\seaborn\\_oldcore.py:1498: FutureWarning: is_categorical_dtype is deprecated and will be removed in a future version. Use isinstance(dtype, CategoricalDtype) instead\n",
            "  if pd.api.types.is_categorical_dtype(vector):\n",
            "c:\\Users\\Nafi Kareem\\AppData\\Local\\Programs\\Python\\Python311\\Lib\\site-packages\\seaborn\\_oldcore.py:1498: FutureWarning: is_categorical_dtype is deprecated and will be removed in a future version. Use isinstance(dtype, CategoricalDtype) instead\n",
            "  if pd.api.types.is_categorical_dtype(vector):\n",
            "c:\\Users\\Nafi Kareem\\AppData\\Local\\Programs\\Python\\Python311\\Lib\\site-packages\\seaborn\\_oldcore.py:1498: FutureWarning: is_categorical_dtype is deprecated and will be removed in a future version. Use isinstance(dtype, CategoricalDtype) instead\n",
            "  if pd.api.types.is_categorical_dtype(vector):\n",
            "c:\\Users\\Nafi Kareem\\AppData\\Local\\Programs\\Python\\Python311\\Lib\\site-packages\\seaborn\\_oldcore.py:1498: FutureWarning: is_categorical_dtype is deprecated and will be removed in a future version. Use isinstance(dtype, CategoricalDtype) instead\n",
            "  if pd.api.types.is_categorical_dtype(vector):\n"
          ]
        },
        {
          "data": {
            "image/png": "[encoded data removed]",
            "text/plain": [
              "<Figure size 2400x600 with 2 Axes>"
            ]
          },
          "metadata": {},
          "output_type": "display_data"
        }
      ],
      "source": [
        "fig, ax = plt.subplots(nrows=1,ncols=2,figsize=(24,6))\n",
        "colors = ['red','rosybrown','rosybrown','rosybrown','rosybrown','rosybrown','rosybrown','rosybrown','rosybrown','rosybrown']\n",
        "\n",
        "sns.barplot(x='quantity',y='product_category',data=sum_order_items_df.head(10),palette=colors, ax=ax[0])\n",
        "ax[0].set_ylabel(None)\n",
        "ax[0].set_xlabel(None)\n",
        "ax[0].set_title('The Most Sold Product Categories', loc='center',fontsize=15)\n",
        "ax[0].tick_params(axis='y',labelsize=12)\n",
        "\n",
        "sns.barplot(x='quantity',y='product_category',data=sum_order_items_df.sort_values(by='quantity',ascending=True).head(10),palette=colors,ax=ax[1])\n",
        "ax[1].set_ylabel(None)\n",
        "ax[1].set_xlabel(None)\n",
        "ax[1].invert_xaxis()\n",
        "ax[1].yaxis.set_label_position('right')\n",
        "ax[1].yaxis.tick_right()\n",
        "ax[1].set_title('The Least Sold Products Categories', loc='center', fontsize='15')\n",
        "ax[1].tick_params(axis='y',labelsize=12)\n",
        "\n",
        "plt.suptitle('The Most and Least Sold Products Categories')\n",
        "plt.show()"
      ]
    },
    {
      "cell_type": "markdown",
      "metadata": {},
      "source": [
        "berdasarkan gambar diatas, dapat disimpulkan bahwa kategori produk bed_bath_table merupakan kategori produk yang paling laris. sedangkan kategori produk security_and_sevices merupakan kategori produk yang paling sedikit terjual"
      ]
    },
    {
      "cell_type": "markdown",
      "metadata": {
        "id": "F2Bo_ypQ9RfH"
      },
      "source": [
        "### Pertanyaan 2: Bagaimana Pola Penyebaran Customer?"
      ]
    },
    {
      "cell_type": "markdown",
      "metadata": {},
      "source": [
        "Untuk menjawab pertanyaan ini, kita harus membuat sebuah dataframe baru guna menampung informasi terkait lokasi customer."
      ]
    },
    {
      "cell_type": "code",
      "execution_count": 108,
      "metadata": {
        "id": "jkO5kTJq9S1Y"
      },
      "outputs": [
        {
          "data": {
            "text/html": [
              "<div>\n",
              "<style scoped>\n",
              "    .dataframe tbody tr th:only-of-type {\n",
              "        vertical-align: middle;\n",
              "    }\n",
              "\n",
              "    .dataframe tbody tr th {\n",
              "        vertical-align: top;\n",
              "    }\n",
              "\n",
              "    .dataframe thead th {\n",
              "        text-align: right;\n",
              "    }\n",
              "</style>\n",
              "<table border=\"1\" class=\"dataframe\">\n",
              "  <thead>\n",
              "    <tr style=\"text-align: right;\">\n",
              "      <th></th>\n",
              "      <th>latitude</th>\n",
              "      <th>longitude</th>\n",
              "      <th>number_of_customer</th>\n",
              "    </tr>\n",
              "  </thead>\n",
              "  <tbody>\n",
              "    <tr>\n",
              "      <th>0</th>\n",
              "      <td>-22.899404</td>\n",
              "      <td>-43.108537</td>\n",
              "      <td>486</td>\n",
              "    </tr>\n",
              "    <tr>\n",
              "      <th>1</th>\n",
              "      <td>-22.903533</td>\n",
              "      <td>-43.115982</td>\n",
              "      <td>420</td>\n",
              "    </tr>\n",
              "    <tr>\n",
              "      <th>2</th>\n",
              "      <td>-22.902263</td>\n",
              "      <td>-43.109812</td>\n",
              "      <td>420</td>\n",
              "    </tr>\n",
              "    <tr>\n",
              "      <th>3</th>\n",
              "      <td>-22.903186</td>\n",
              "      <td>-43.115658</td>\n",
              "      <td>374</td>\n",
              "    </tr>\n",
              "    <tr>\n",
              "      <th>4</th>\n",
              "      <td>-22.909752</td>\n",
              "      <td>-43.108593</td>\n",
              "      <td>328</td>\n",
              "    </tr>\n",
              "    <tr>\n",
              "      <th>5</th>\n",
              "      <td>-22.904468</td>\n",
              "      <td>-43.102713</td>\n",
              "      <td>328</td>\n",
              "    </tr>\n",
              "    <tr>\n",
              "      <th>6</th>\n",
              "      <td>-22.899843</td>\n",
              "      <td>-43.103592</td>\n",
              "      <td>328</td>\n",
              "    </tr>\n",
              "    <tr>\n",
              "      <th>7</th>\n",
              "      <td>-22.899858</td>\n",
              "      <td>-43.104275</td>\n",
              "      <td>328</td>\n",
              "    </tr>\n",
              "    <tr>\n",
              "      <th>8</th>\n",
              "      <td>-22.899926</td>\n",
              "      <td>-43.103451</td>\n",
              "      <td>328</td>\n",
              "    </tr>\n",
              "    <tr>\n",
              "      <th>9</th>\n",
              "      <td>-22.910404</td>\n",
              "      <td>-43.109301</td>\n",
              "      <td>328</td>\n",
              "    </tr>\n",
              "  </tbody>\n",
              "</table>\n",
              "</div>"
            ],
            "text/plain": [
              "    latitude  longitude  number_of_customer\n",
              "0 -22.899404 -43.108537                 486\n",
              "1 -22.903533 -43.115982                 420\n",
              "2 -22.902263 -43.109812                 420\n",
              "3 -22.903186 -43.115658                 374\n",
              "4 -22.909752 -43.108593                 328\n",
              "5 -22.904468 -43.102713                 328\n",
              "6 -22.899843 -43.103592                 328\n",
              "7 -22.899858 -43.104275                 328\n",
              "8 -22.899926 -43.103451                 328\n",
              "9 -22.910404 -43.109301                 328"
            ]
          },
          "execution_count": 108,
          "metadata": {},
          "output_type": "execute_result"
        }
      ],
      "source": [
        "customer_geolocation = all_df.groupby(by=['geolocation_lat','geolocation_lng']).customer_id.size().sort_values(ascending=False).reset_index()\n",
        "customer_geolocation.rename(columns={\n",
        "    'geolocation_lat':'latitude',\n",
        "    'geolocation_lng':'longitude',\n",
        "    'customer_id':'number_of_customer'\n",
        "},inplace=True)\n",
        "customer_geolocation.head(10)"
      ]
    },
    {
      "cell_type": "markdown",
      "metadata": {},
      "source": [
        "selanjutnya kita akan memvisualisasikannya guna mempermudah orang lain dalam melihat pola penyebaran customer. untuk memvisualisasikannya saya akan menggunakan scatter plot untuk merepresentasikan pola penyebaran customer."
      ]
    },
    {
      "cell_type": "code",
      "execution_count": 109,
      "metadata": {},
      "outputs": [
        {
          "data": {
            "image/png": "[encoded data removed]",
            "text/plain": [
              "<Figure size 640x480 with 1 Axes>"
            ]
          },
          "metadata": {},
          "output_type": "display_data"
        }
      ],
      "source": [
        "plt.scatter(customer_geolocation['longitude'],customer_geolocation['latitude'],s=5,alpha=0.5)\n",
        "plt.title('Customer Distribution')\n",
        "plt.xlabel('Longitude')\n",
        "plt.ylabel('Latitude')\n",
        "plt.show()"
      ]
    },
    {
      "cell_type": "markdown",
      "metadata": {},
      "source": [
        "berdasarkan gambar tersebut,semakin besar titik pada scatter plot, semakin banyak pelanggan yang berada di lokasi tersebut. \n",
        "jika diperhatikan pola penyebaran customer didominasi dengan wilayah :\n",
        "- Longitude : -60 hingga -40\n",
        "- Latitude : 0 hingga -30\n"
      ]
    },
    {
      "cell_type": "markdown",
      "metadata": {},
      "source": [
        "untuk mevisualisikan kepadatan customer kita bisa menggunakan heatmap"
      ]
    },
    {
      "cell_type": "code",
      "execution_count": 110,
      "metadata": {},
      "outputs": [
        {
          "data": {
            "image/png": "[encoded data removed]",
            "text/plain": [
              "<Figure size 640x480 with 2 Axes>"
            ]
          },
          "metadata": {},
          "output_type": "display_data"
        }
      ],
      "source": [
        "customer_geolocation.drop(columns='number_of_customer',axis=1,inplace=True)\n",
        "sns.heatmap(customer_geolocation)\n",
        "plt.title('Customer Distribution')\n",
        "plt.xlabel('Longitude')\n",
        "plt.ylabel('Latitude')\n",
        "plt.show()"
      ]
    },
    {
      "cell_type": "markdown",
      "metadata": {},
      "source": [
        "berdasarkan gambar diatas, menunjukkan kepadatan pelanggan di berbagai area. Warna merah menunjukkan area dengan kepadatan pelanggan yang tinggi, sedangkan warna ungu menunjukkan area dengan kepadatan pelanggan yang rendah."
      ]
    },
    {
      "cell_type": "markdown",
      "metadata": {
        "id": "J2CnXYGT9Tc2"
      },
      "source": [
        "## Conclusion"
      ]
    },
    {
      "cell_type": "markdown",
      "metadata": {
        "id": "f73FBkLw9V8C"
      },
      "source": [
        "- dapat disimpulkan bahwa kategori produk bed_bath_table merupakan kategori produk yang paling laris. sedangkan kategori produk security_and_sevices merupakan kategori produk yang paling sedikit terjual.\n",
        "- pola penyebaran customer didominasi dengan wilayah Longitude : -60 hingga -40, Latitude : 0 hingga -30."
      ]
    },
    {
      "cell_type": "code",
      "execution_count": 111,
      "metadata": {
        "id": "b32P72p99VN9"
      },
      "outputs": [],
      "source": [
        "all_df.to_csv('all_data_E-Commerce.csv',index=False)"
      ]
    }
  ],
  "metadata": {
    "colab": {
      "provenance": []
    },
    "kernelspec": {
      "display_name": "Python 3",
      "name": "python3"
    },
    "language_info": {
      "codemirror_mode": {
        "name": "ipython",
        "version": 3
      },
      "file_extension": ".py",
      "mimetype": "text/x-python",
      "name": "python",
      "nbconvert_exporter": "python",
      "pygments_lexer": "ipython3",
      "version": "3.11.5"
    }
  },
  "nbformat": 4,
  "nbformat_minor": 0
}
